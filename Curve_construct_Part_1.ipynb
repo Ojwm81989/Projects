{
 "cells": [
  {
   "cell_type": "markdown",
   "id": "2c173aa8-a315-410c-b24e-6542fdb43a66",
   "metadata": {},
   "source": [
    "# Yield Curve Construction"
   ]
  },
  {
   "cell_type": "markdown",
   "id": "6e7fa90c-3cbd-4119-bbe7-32024df50b34",
   "metadata": {},
   "source": [
    "Using CME Term SOFR, we will construct the short end of the yield curve from scratch. This will consist of the 1-month, 3-month, 6-month and 12-month term SOFR. In addition, the spot SOFR will be used as well. We will stick to the ACT/360 convention for calculations.\n",
    "\n",
    "There are many choice for interpolation as well as how to interpolate the values. Our choice would be simple linear interpolation on the Effective annual rate (EAR), which is also known as Yield. Other linear interpolation can be on the discount factors/zero coupon bonds or the logarithm of rates. The formula is stated below:\n",
    "\n",
    "### Linear Interpolation Formula on EAR\n",
    "\n",
    "Given two known points $(t_0, r_0)$ and $(t_1, r_1)$, the interpolated rate $r$ at a point $t$ where $t_0 \\leq t \\leq t_1 $ is:\n",
    "\n",
    "$$\n",
    "r(t) = \\frac{t - t_0}{t_1 - t_0} \\cdot (r_1) + \\frac{t_1 - t}{t_1 - t_0} \\cdot (r_0)\n",
    "$$"
   ]
  },
  {
   "cell_type": "markdown",
   "id": "450989c8-6213-439d-a690-4b6b126f0490",
   "metadata": {},
   "source": [
    "### 1. Create dataframe\n",
    "- We will create a dataframe that consist of adjusted start and end dates as well as payment dates.\n",
    "- For Term SOFR, we will add 2 business days from the reference date as the start date. The payment date would be the same as the end adjusted date.\n",
    "- SOFR is an overnight rate, and its value is typically published on the following business day. To ensure that market participants have a reliable and verified rate to reference, a lag is necessary.\n"
   ]
  },
  {
   "cell_type": "code",
   "execution_count": 1,
   "id": "6f009ad3-20cf-417d-a630-e2c7ffcd14a4",
   "metadata": {},
   "outputs": [],
   "source": [
    "import numpy as np\n",
    "import pandas as pd\n",
    "import datetime as dt\n",
    "from dateutil.relativedelta import relativedelta\n",
    "from pandas.tseries.offsets import Day, BDay\n",
    "from scipy.optimize import brentq\n",
    "import bisect\n",
    "from scipy import interpolate\n",
    "import matplotlib.pyplot as plt\n",
    "\n",
    "ref_date = dt.datetime(2024,5,14)\n",
    "spot_SOFR = 0.0531\n",
    "\n",
    "#Use ACT/360\n",
    "DIY = 360\n",
    "\n",
    "#In Months\n",
    "key_1 = ['1M','3M','6M','12M']\n",
    "val_1 = [5.31964, 5.3267 ,5.29355, 5.15822]\n",
    "\n",
    "CME_Term_SOFR = dict(zip(key_1,np.array(val_1)/100))\n",
    "\n",
    "def time_convert(dict_):\n",
    "    \"\"\"\"Convert to months\"\"\"\n",
    "    new_dict = dict()\n",
    "    for k,v in dict_.items():\n",
    "        if k[-1] == 'M':\n",
    "            new_dict[int(k[:-1])] = v\n",
    "        if k[-1] == 'Y':\n",
    "            new_dict[int(k[:-1])*12] = v\n",
    "    return new_dict\n",
    "\n",
    "def is_business_day(date):\n",
    "    bdays = BDay()\n",
    "    print(date + 0*bdays)\n",
    "    return date == date + 0*bdays\n",
    "\n",
    "def create_df(ref_date, spot, CME_Term_SOFR):\n",
    "    len_1 = len(CME_Term_SOFR)\n",
    "    \n",
    "    dict_1 = time_convert(CME_Term_SOFR)\n",
    "    dict_1_k, dict_1_v = list(dict_1.keys()), list(dict_1.values())\n",
    "    \n",
    "    data = { 'Months': [0] + dict_1_k,\n",
    "            'Quotes': [spot] + dict_1_v}\n",
    "    \n",
    "    df = pd.DataFrame(data)\n",
    "    df.loc[0,'Start_Adj'] = ref_date\n",
    "    df.loc[1:,'Start_Adj'] = ref_date + 2*BDay()\n",
    "    df['End_Unadj'] = df['Start_Adj'] + pd.to_timedelta(30 * df['Months'], unit='D')\n",
    "    df.loc[0,'End_Adj'] = df.loc[0,'End_Unadj'] + 1*BDay()\n",
    "    df.loc[1:,'End_Adj'] = df.loc[1:,'End_Unadj'] + 0*BDay()\n",
    "    df.loc[:1+len_1,'Pay_date'] = df.loc[:1+len_1,'End_Adj'] # CME SOFR\n",
    "    df['Days'] = (df['Pay_date'] - ref_date).apply(lambda x: x.days)\n",
    "    return df\n",
    "\n",
    "test = create_df(ref_date, spot_SOFR, CME_Term_SOFR)"
   ]
  },
  {
   "cell_type": "code",
   "execution_count": 2,
   "id": "09121d41-d827-4ef8-b45c-4057fd7a4b12",
   "metadata": {
    "scrolled": true
   },
   "outputs": [
    {
     "data": {
      "text/html": [
       "<div>\n",
       "<style scoped>\n",
       "    .dataframe tbody tr th:only-of-type {\n",
       "        vertical-align: middle;\n",
       "    }\n",
       "\n",
       "    .dataframe tbody tr th {\n",
       "        vertical-align: top;\n",
       "    }\n",
       "\n",
       "    .dataframe thead th {\n",
       "        text-align: right;\n",
       "    }\n",
       "</style>\n",
       "<table border=\"1\" class=\"dataframe\">\n",
       "  <thead>\n",
       "    <tr style=\"text-align: right;\">\n",
       "      <th></th>\n",
       "      <th>Months</th>\n",
       "      <th>Quotes</th>\n",
       "      <th>Start_Adj</th>\n",
       "      <th>End_Unadj</th>\n",
       "      <th>End_Adj</th>\n",
       "      <th>Pay_date</th>\n",
       "      <th>Days</th>\n",
       "    </tr>\n",
       "  </thead>\n",
       "  <tbody>\n",
       "    <tr>\n",
       "      <th>0</th>\n",
       "      <td>0</td>\n",
       "      <td>0.053100</td>\n",
       "      <td>2024-05-14</td>\n",
       "      <td>2024-05-14</td>\n",
       "      <td>2024-05-15</td>\n",
       "      <td>2024-05-15</td>\n",
       "      <td>1</td>\n",
       "    </tr>\n",
       "    <tr>\n",
       "      <th>1</th>\n",
       "      <td>1</td>\n",
       "      <td>0.053196</td>\n",
       "      <td>2024-05-16</td>\n",
       "      <td>2024-06-15</td>\n",
       "      <td>2024-06-17</td>\n",
       "      <td>2024-06-17</td>\n",
       "      <td>34</td>\n",
       "    </tr>\n",
       "    <tr>\n",
       "      <th>2</th>\n",
       "      <td>3</td>\n",
       "      <td>0.053267</td>\n",
       "      <td>2024-05-16</td>\n",
       "      <td>2024-08-14</td>\n",
       "      <td>2024-08-14</td>\n",
       "      <td>2024-08-14</td>\n",
       "      <td>92</td>\n",
       "    </tr>\n",
       "    <tr>\n",
       "      <th>3</th>\n",
       "      <td>6</td>\n",
       "      <td>0.052935</td>\n",
       "      <td>2024-05-16</td>\n",
       "      <td>2024-11-12</td>\n",
       "      <td>2024-11-12</td>\n",
       "      <td>2024-11-12</td>\n",
       "      <td>182</td>\n",
       "    </tr>\n",
       "    <tr>\n",
       "      <th>4</th>\n",
       "      <td>12</td>\n",
       "      <td>0.051582</td>\n",
       "      <td>2024-05-16</td>\n",
       "      <td>2025-05-11</td>\n",
       "      <td>2025-05-12</td>\n",
       "      <td>2025-05-12</td>\n",
       "      <td>363</td>\n",
       "    </tr>\n",
       "  </tbody>\n",
       "</table>\n",
       "</div>"
      ],
      "text/plain": [
       "   Months    Quotes  Start_Adj  End_Unadj    End_Adj   Pay_date  Days\n",
       "0       0  0.053100 2024-05-14 2024-05-14 2024-05-15 2024-05-15     1\n",
       "1       1  0.053196 2024-05-16 2024-06-15 2024-06-17 2024-06-17    34\n",
       "2       3  0.053267 2024-05-16 2024-08-14 2024-08-14 2024-08-14    92\n",
       "3       6  0.052935 2024-05-16 2024-11-12 2024-11-12 2024-11-12   182\n",
       "4      12  0.051582 2024-05-16 2025-05-11 2025-05-12 2025-05-12   363"
      ]
     },
     "execution_count": 2,
     "metadata": {},
     "output_type": "execute_result"
    }
   ],
   "source": [
    "test"
   ]
  },
  {
   "cell_type": "markdown",
   "id": "a28af05b-4db8-4561-b8e5-21a7dcfc35f3",
   "metadata": {},
   "source": [
    "### 2. Back out Yield from Term SOFR\n",
    "- Using the Term SOFR which are foward looking rates, we will use Forward Rate Agreement (FRA) formula to find the implied yields of these Term SOFRs. This will be done using a Brent's root solver\n",
    "- Iteratively, we start from the short end of the curve and back out the yields. The bootstrapping is done sequentially due to the 'incomplete' information.\n",
    "- The formula for the FRA is stated below:\n",
    "\n",
    "$$K = \\frac{1}{\\tau_{T_0,T_N}} (\\frac{P_{t,T_0}}{P_{t,T_N}} - 1)$$\n",
    "where $t \\leq t_0 \\leq t_N $ and $\\tau_{T_0,T_N}$ is the year fraction based on ACT/360.\n",
    "\n",
    "- Note: FRA are technically not Term SOFR Futures. Usually, one applies a standard \n",
    "convexity adjustment to futures prices to get an equivalent FRA rate but we shall ignore it for simplicity."
   ]
  },
  {
   "cell_type": "code",
   "execution_count": 3,
   "id": "b1d9596d-83a6-4168-b799-a6fb8f20eeac",
   "metadata": {},
   "outputs": [],
   "source": [
    "# Term SOFR Futures are basically FRA\n",
    "\n",
    "def FRA(ref_date,start_date,end_date, ZCB_S, ZCB_E, DIY):\n",
    "    \"\"\" ref < start < end \"\"\"\n",
    "    x1 = (start_date - ref_date).days\n",
    "    x2 = (end_date - ref_date).days\n",
    "    if x1 == 0:\n",
    "        ZCB_S = 1\n",
    "    if x2 == 0:\n",
    "        ZCB_E = 1        \n",
    "    \n",
    "    yf = (x2 - x1) / DIY\n",
    "    K = (ZCB_S/ZCB_E - 1) / yf\n",
    "    \n",
    "    return K\n",
    "\n",
    "def price_to_rate(start,end,price,DIY):\n",
    "    \"\"\"price of ZCB to yield/EAR\"\"\"\n",
    "    days = (end-start).days\n",
    "    year_frac = days/360\n",
    "    EAR = (1/price)**(1/year_frac) - 1\n",
    "    return EAR\n",
    "    \n",
    "def rate_to_price(start,end,EAR,DIY):\n",
    "    \"\"\"Yield/EAR to price\"\"\"\n",
    "    days = (end-start).days\n",
    "    year_frac = days/360\n",
    "    price = (1+EAR)**-year_frac\n",
    "    return price\n",
    "\n",
    "def get_rate(ref_date,start_date,end_date, DIY, quote,day_l,store):\n",
    "    x1 = (start_date - ref_date).days #t to T0\n",
    "    x2 = (end_date - ref_date).days # t to TN\n",
    "    if x1 == 0: #No interpolation needed.\n",
    "        f = lambda x: FRA(ref_date, start_date, end_date, 1, x, DIY) - quote\n",
    "        price_end = brentq(f,0.8,1)\n",
    "        rate = price_to_rate(ref_date,end_date,price_end,DIY)\n",
    "        return rate\n",
    "    \n",
    "    \n",
    "    def helper(rate_high):\n",
    "        idx = bisect.bisect_left(day_l, x1)\n",
    "        x = [day_l[idx-1], day_l[idx]]\n",
    "        try:\n",
    "            y = [store[day_l[idx-1]],store[day_l[idx]]]\n",
    "            inter = interpolate.interp1d(x, y, kind='linear')\n",
    "            return rate_to_price(ref_date,start_date,inter(x1),DIY)\n",
    "        \n",
    "        except:\n",
    "            #print(\"Value not stored, need to interpolate!\")\n",
    "            y = [store[day_l[idx-1]],rate_high]\n",
    "            inter = interpolate.interp1d(x, y, kind='linear')\n",
    "            \n",
    "            return rate_to_price(ref_date,start_date,inter(x1),DIY)\n",
    "            \n",
    "    f = lambda x: FRA(ref_date, start_date, end_date, helper(x), rate_to_price(ref_date,end_date,x,DIY), DIY) - quote \n",
    "    rate = brentq(f,0.00001,0.5)\n",
    "    return rate"
   ]
  },
  {
   "cell_type": "code",
   "execution_count": 4,
   "id": "6679a3b2-8520-49ec-a597-be47deb74d15",
   "metadata": {},
   "outputs": [],
   "source": [
    "def store_rate(df,ref_date):\n",
    "    store = dict()\n",
    "    day_l = df.Days \n",
    "    for i in range(len(df)):\n",
    "        quote, start_date = df.iloc[i,1:3]\n",
    "        end_date,days = df.iloc[i,5:7]\n",
    "        ear = get_rate(ref_date, start_date, end_date, DIY,quote,day_l,store)\n",
    "        store[days] = ear\n",
    "        \n",
    "    return store"
   ]
  },
  {
   "cell_type": "code",
   "execution_count": 5,
   "id": "2f6469f1-5fa6-40e5-9662-0ddc1ee2c2c9",
   "metadata": {},
   "outputs": [
    {
     "data": {
      "text/plain": [
       "{1: 0.0545309640693703,\n",
       " 34: 0.05450604731660929,\n",
       " 92: 0.05434461648668871,\n",
       " 182: 0.05364586368225502,\n",
       " 363: 0.05159480667466937}"
      ]
     },
     "execution_count": 5,
     "metadata": {},
     "output_type": "execute_result"
    }
   ],
   "source": [
    "store_rate(test,ref_date)"
   ]
  },
  {
   "cell_type": "code",
   "execution_count": 6,
   "id": "c6beedd5-fe82-4d66-870a-7f2943c291e0",
   "metadata": {},
   "outputs": [
    {
     "data": {
      "text/plain": [
       "Text(0.5, 1.0, 'Yield Curve')"
      ]
     },
     "execution_count": 6,
     "metadata": {},
     "output_type": "execute_result"
    },
    {
     "data": {
      "image/png": "[encoded data removed]",
      "text/plain": [
       "<Figure size 640x480 with 1 Axes>"
      ]
     },
     "metadata": {},
     "output_type": "display_data"
    }
   ],
   "source": [
    "arr = np.array(list(store_rate(test,ref_date).values()))*100\n",
    "plt.plot([0,1,3,6,12],arr)\n",
    "plt.ylabel('Yield')\n",
    "plt.xlabel('Months')\n",
    "plt.title('Yield Curve')"
   ]
  },
  {
   "cell_type": "markdown",
   "id": "06b5f3c8-5986-4013-9d70-b242d6a1bf46",
   "metadata": {},
   "source": [
    "### 4. Forward rates\n",
    "\n",
    "- If we are using annual compounding, the forward rate formula is as below:\n",
    "\n",
    "$f_{t_1, t_2} = \\left( \\frac{(1 + y_{t_2})^{t_2}}{(1 + y_{t_1})^{t_1}} \\right)^{\\frac{1}{t_2 - t_1}} - 1$\n",
    "where $y_{t_1}$ and $y_{t_2}$ are the annaully compounded zero rates at $t_1$ and $t_2$ respectively.\n",
    "\n",
    "- We shall calculate the discrete forward rates based on the maturities and their respective rates\n"
   ]
  },
  {
   "cell_type": "code",
   "execution_count": 7,
   "id": "8d3352ec-7e36-4405-b675-d03c908a3516",
   "metadata": {},
   "outputs": [],
   "source": [
    "def forward_rate(t1,t2,y1,y2,DIY=360):\n",
    "    \"\"\"ACT/360\"\"\"\n",
    "    t1 /= DIY\n",
    "    t2 /= DIY\n",
    "    return ((1 + y2)**t2 / (1 + y1)**t1)**(1 / (t2 - t1)) - 1"
   ]
  },
  {
   "cell_type": "code",
   "execution_count": 8,
   "id": "402c4ce7-b04e-45f2-bab6-604bf32692c4",
   "metadata": {},
   "outputs": [],
   "source": [
    "store_dict = store_rate(test,ref_date)"
   ]
  },
  {
   "cell_type": "code",
   "execution_count": 9,
   "id": "6c14289b-8301-415a-b990-442391787cc2",
   "metadata": {},
   "outputs": [
    {
     "data": {
      "text/plain": [
       "{1: 0.0545309640693703,\n",
       " 34: 0.05450604731660929,\n",
       " 92: 0.05434461648668871,\n",
       " 182: 0.05364586368225502,\n",
       " 363: 0.05159480667466937}"
      ]
     },
     "execution_count": 9,
     "metadata": {},
     "output_type": "execute_result"
    }
   ],
   "source": [
    "store_dict"
   ]
  },
  {
   "cell_type": "code",
   "execution_count": 10,
   "id": "99a5a5bb-2f70-46f1-9abb-93a6403d528f",
   "metadata": {},
   "outputs": [],
   "source": [
    "mat_in_days = [k for k,v in store_dict.items()]\n",
    "rates = [v for k,v in store_dict.items()]"
   ]
  },
  {
   "cell_type": "code",
   "execution_count": 11,
   "id": "c5dc7087-c843-4c97-badf-6897010bc977",
   "metadata": {},
   "outputs": [],
   "source": [
    "discrete_rates = dict()\n",
    "DIY = 360\n",
    "for i in range(len(store_dict)-1):\n",
    "    t1, t2 = mat_in_days[i], mat_in_days[i+1]\n",
    "    y1, y2 = rates[i], rates[i+1]    \n",
    "    f = forward_rate(t1,t2,y1,y2,DIY=360)\n",
    "    discrete_rates[f'From {round(t1/DIY,3)} years to {round(t2/360,3)} years'] = f \n",
    "    "
   ]
  },
  {
   "cell_type": "code",
   "execution_count": 12,
   "id": "3b8a938c-88c1-4771-9e60-45cf2e297058",
   "metadata": {},
   "outputs": [
    {
     "data": {
      "text/plain": [
       "{'From 0.003 years to 0.094 years': 0.054505292272685635,\n",
       " 'From 0.094 years to 0.256 years': 0.054249996110708576,\n",
       " 'From 0.256 years to 0.506 years': 0.05293206167510167,\n",
       " 'From 0.506 years to 1.008 years': 0.04953644364104459}"
      ]
     },
     "execution_count": 12,
     "metadata": {},
     "output_type": "execute_result"
    }
   ],
   "source": [
    "discrete_rates"
   ]
  },
  {
   "cell_type": "code",
   "execution_count": 13,
   "id": "32f7cb08-a35a-4cc2-8def-6ac03c3435eb",
   "metadata": {},
   "outputs": [
    {
     "data": {
      "text/plain": [
       "array(0.05450907)"
      ]
     },
     "execution_count": 13,
     "metadata": {},
     "output_type": "execute_result"
    }
   ],
   "source": [
    "#testing\n",
    "#{1: 0.0545309640693703,\n",
    "# 34: 0.05450604731660929,}\n",
    "\n",
    "inter_test = interpolate.interp1d([1,34], [0.0545309640693703,0.05450604731660929], kind='linear')\n",
    "d = 30\n",
    "inter_test(d)"
   ]
  },
  {
   "cell_type": "markdown",
   "id": "ac0d235f-d9e0-4bd1-b488-fc58a83a04f8",
   "metadata": {},
   "source": [
    "### 3. Plot the results for 4 different dates\n",
    "- We will plot the yield curve for 4 different business dates from 31 May 2024 to 5 June 2024.\n",
    "- Data is obtained from https://www.cmegroup.com/market-data/cme-group-benchmark-administration/term-sofr.html"
   ]
  },
  {
   "cell_type": "code",
   "execution_count": 14,
   "id": "9671b078-83c0-45ff-9d35-73c6999b672c",
   "metadata": {},
   "outputs": [],
   "source": [
    "key = ['1M','3M','6M','12M']\n",
    "\n",
    "date_1 = dt.datetime(2024,6,5)\n",
    "spot_1 = 5.33/100\n",
    "val_1 = [5.32791, 5.33751, 5.28465, 5.11324]\n",
    "\n",
    "date_2 = dt.datetime(2024,6,4)\n",
    "spot_2 = 5.33/100\n",
    "val_2 = [5.32752, 5.33849, 5.29862, 5.15295]\n",
    "\n",
    "date_3 = dt.datetime(2024,6,3)\n",
    "spot_3 = 5.35/100\n",
    "val_3 = [5.32794, 5.33995, 5.30726, 5.18353]\n",
    "\n",
    "date_4 = dt.datetime(2024,5,31)\n",
    "spot_4 = 5.34/100\n",
    "val_4 = [5.32981, 5.34284, 5.31419, 5.20197]\n",
    "\n",
    "dl = [date_1, date_2, date_3, date_4]\n",
    "sl = [spot_1, spot_2, spot_3, spot_4]\n",
    "vl = [val_1, val_2, val_3, val_4]"
   ]
  },
  {
   "cell_type": "code",
   "execution_count": 15,
   "id": "d177fc52-ad33-4d5a-8dc7-eac02dac1ca2",
   "metadata": {},
   "outputs": [
    {
     "data": {
      "text/plain": [
       "[]"
      ]
     },
     "execution_count": 15,
     "metadata": {},
     "output_type": "execute_result"
    },
    {
     "data": {
      "image/png": "[encoded data removed]",
      "text/plain": [
       "<Figure size 640x480 with 1 Axes>"
      ]
     },
     "metadata": {},
     "output_type": "display_data"
    }
   ],
   "source": [
    "import warnings\n",
    "warnings.filterwarnings(\"ignore\", category=DeprecationWarning)\n",
    "\n",
    "for i in range(4):\n",
    "    df = create_df(dl[i], sl[i], dict(zip(key,np.array(vl[i])/100)))\n",
    "    arr = np.array(list(store_rate(df,dl[i]).values()))*100\n",
    "    plt.plot([0,1,3,6,12],arr,label = dl[i])\n",
    "\n",
    "plt.title('Short End Yield Curve for 4 different reference dates')\n",
    "plt.ylabel('Yield')\n",
    "plt.xlabel('Months')\n",
    "plt.legend()    \n",
    "plt.plot()"
   ]
  },
  {
   "cell_type": "markdown",
   "id": "59537512-5cc1-4c80-96c3-12e29edb359f",
   "metadata": {},
   "source": [
    "### 5. Observations & Improvements:\n",
    "- Regarding the discrete forwards, the forward rates are positive. This helps to avoid arbitrage.\n",
    "- We observe that there has almost a parallel shift in the yield curve down from 31 May to 5 June. One explaination for this is that forward rates are expected to go down based on market sentiments. This would imply that market participants could be expecting a rate cut in the coming days or months.\n",
    "- Since only the short end of the yield curve has been constructed, the next step would be to extend the yield curve for longer maturities. This can be done using SOFR swaps that have maturities ranging from 1 year to 30 year. However, such construction would be much more complicated than Term SOFRs."
   ]
  },
  {
   "cell_type": "code",
   "execution_count": null,
   "id": "10ed007d-539c-49f1-8711-86a3acc34af6",
   "metadata": {},
   "outputs": [],
   "source": []
  }
 ],
 "metadata": {
  "kernelspec": {
   "display_name": "Python 3 (ipykernel)",
   "language": "python",
   "name": "python3"
  },
  "language_info": {
   "codemirror_mode": {
    "name": "ipython",
    "version": 3
   },
   "file_extension": ".py",
   "mimetype": "text/x-python",
   "name": "python",
   "nbconvert_exporter": "python",
   "pygments_lexer": "ipython3",
   "version": "3.11.7"
  }
 },
 "nbformat": 4,
 "nbformat_minor": 5
}
