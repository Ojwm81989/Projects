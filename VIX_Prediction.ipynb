{
 "cells": [
  {
   "cell_type": "markdown",
   "id": "2ec473bd-4344-4757-aa18-73098dd48b01",
   "metadata": {},
   "source": [
    "# VIX modelling using both RNN/LSTM as well as SARIMAX models"
   ]
  },
  {
   "cell_type": "markdown",
   "id": "252bb6d1-b759-4af7-bbe3-180933240665",
   "metadata": {},
   "source": [
    "$Background$ <br>\n",
    "VIX, or the CBOE Volatility Index, is a **measure of the market's expectation of volatility over the next 30 days**. It's often referred to as the \"fear index\" because it tends to spike when there is market turmoil or uncertainty.\n",
    "\n",
    "The VIX is calculated by the Chicago Board Options Exchange (CBOE) based on the prices of options contracts on the S&P 500 index. These contracts are used by investors to protect against market swings or to speculate on market movements. The VIX is calculated using a formula that takes into account the prices of a wide range of options with different expiration dates and strike prices.\n",
    "\n",
    "A high VIX value indicates that the market expects high volatility, while a low VIX value indicates that the market expects low volatility. The VIX is often used as a barometer of market sentiment and is closely watched by traders and investors. It can be used to gauge the level of risk in the market and to inform investment decisions."
   ]
  },
  {
   "cell_type": "markdown",
   "id": "25490382-33b1-493d-8b9d-09cd23bea6fe",
   "metadata": {},
   "source": [
    "In this project, we will be modelling the VIX level using past VIX levels, past S&P 500 volume as well as S&P 500 returns. We will fit both a RNN, LSTM as well as a SARIMAX model as a baseline for comparison. We will compare the measure of fit on the test data."
   ]
  },
  {
   "cell_type": "markdown",
   "id": "93cd156b-5aad-4ae5-8d36-119dbb7bc99c",
   "metadata": {},
   "source": [
    "## Data Preprocessing"
   ]
  },
  {
   "cell_type": "code",
   "execution_count": 1,
   "id": "230457f2-00ee-4183-a501-1a8b93628818",
   "metadata": {},
   "outputs": [],
   "source": [
    "import pandas as pd\n",
    "import numpy as np\n",
    "import matplotlib.pyplot as plt\n",
    "import datetime as dt\n",
    "from statsmodels.tsa.stattools import acf, pacf, coint\n",
    "from sklearn.preprocessing import StandardScaler\n",
    "import yfinance as yf\n",
    "from matplotlib.pyplot import figure"
   ]
  },
  {
   "cell_type": "code",
   "execution_count": 2,
   "id": "bc99bd92-3e4c-4f08-bbff-1df375ca5236",
   "metadata": {},
   "outputs": [
    {
     "name": "stderr",
     "output_type": "stream",
     "text": [
      "[*********************100%%**********************]  1 of 1 completed\n",
      "[*********************100%%**********************]  1 of 1 completed\n"
     ]
    }
   ],
   "source": [
    "end = dt.datetime.now()\n",
    "start = dt.datetime(2010,1,1)\n",
    "df1 = pd.DataFrame(yf.download('^GSPC', start=start, end=end))\n",
    "df2 = pd.DataFrame(yf.download('^VIX', start=start, end=end))"
   ]
  },
  {
   "cell_type": "code",
   "execution_count": 3,
   "id": "71872c92-4f46-42d4-9568-52d5338c9e20",
   "metadata": {
    "scrolled": true
   },
   "outputs": [],
   "source": [
    "df1.columns = 'GSPC_' + df1.columns\n",
    "df2.columns = 'VIX_' + df2.columns"
   ]
  },
  {
   "cell_type": "code",
   "execution_count": 5,
   "id": "6fce4d76-3399-46f8-b058-666d2c86b5e7",
   "metadata": {},
   "outputs": [
    {
     "data": {
      "text/html": [
       "<div>\n",
       "<style scoped>\n",
       "    .dataframe tbody tr th:only-of-type {\n",
       "        vertical-align: middle;\n",
       "    }\n",
       "\n",
       "    .dataframe tbody tr th {\n",
       "        vertical-align: top;\n",
       "    }\n",
       "\n",
       "    .dataframe thead th {\n",
       "        text-align: right;\n",
       "    }\n",
       "</style>\n",
       "<table border=\"1\" class=\"dataframe\">\n",
       "  <thead>\n",
       "    <tr style=\"text-align: right;\">\n",
       "      <th></th>\n",
       "      <th>GSPC_Open</th>\n",
       "      <th>GSPC_High</th>\n",
       "      <th>GSPC_Low</th>\n",
       "      <th>GSPC_Close</th>\n",
       "      <th>GSPC_Adj Close</th>\n",
       "      <th>GSPC_Volume</th>\n",
       "    </tr>\n",
       "    <tr>\n",
       "      <th>Date</th>\n",
       "      <th></th>\n",
       "      <th></th>\n",
       "      <th></th>\n",
       "      <th></th>\n",
       "      <th></th>\n",
       "      <th></th>\n",
       "    </tr>\n",
       "  </thead>\n",
       "  <tbody>\n",
       "    <tr>\n",
       "      <th>2010-01-04</th>\n",
       "      <td>1116.560059</td>\n",
       "      <td>1133.869995</td>\n",
       "      <td>1116.560059</td>\n",
       "      <td>1132.989990</td>\n",
       "      <td>1132.989990</td>\n",
       "      <td>3991400000</td>\n",
       "    </tr>\n",
       "    <tr>\n",
       "      <th>2010-01-05</th>\n",
       "      <td>1132.660034</td>\n",
       "      <td>1136.630005</td>\n",
       "      <td>1129.660034</td>\n",
       "      <td>1136.520020</td>\n",
       "      <td>1136.520020</td>\n",
       "      <td>2491020000</td>\n",
       "    </tr>\n",
       "    <tr>\n",
       "      <th>2010-01-06</th>\n",
       "      <td>1135.709961</td>\n",
       "      <td>1139.189941</td>\n",
       "      <td>1133.949951</td>\n",
       "      <td>1137.140015</td>\n",
       "      <td>1137.140015</td>\n",
       "      <td>4972660000</td>\n",
       "    </tr>\n",
       "    <tr>\n",
       "      <th>2010-01-07</th>\n",
       "      <td>1136.270020</td>\n",
       "      <td>1142.459961</td>\n",
       "      <td>1131.319946</td>\n",
       "      <td>1141.689941</td>\n",
       "      <td>1141.689941</td>\n",
       "      <td>5270680000</td>\n",
       "    </tr>\n",
       "    <tr>\n",
       "      <th>2010-01-08</th>\n",
       "      <td>1140.520020</td>\n",
       "      <td>1145.390015</td>\n",
       "      <td>1136.219971</td>\n",
       "      <td>1144.979980</td>\n",
       "      <td>1144.979980</td>\n",
       "      <td>4389590000</td>\n",
       "    </tr>\n",
       "    <tr>\n",
       "      <th>...</th>\n",
       "      <td>...</td>\n",
       "      <td>...</td>\n",
       "      <td>...</td>\n",
       "      <td>...</td>\n",
       "      <td>...</td>\n",
       "      <td>...</td>\n",
       "    </tr>\n",
       "    <tr>\n",
       "      <th>2024-04-15</th>\n",
       "      <td>5149.669922</td>\n",
       "      <td>5168.430176</td>\n",
       "      <td>5052.470215</td>\n",
       "      <td>5061.819824</td>\n",
       "      <td>5061.819824</td>\n",
       "      <td>3950210000</td>\n",
       "    </tr>\n",
       "    <tr>\n",
       "      <th>2024-04-16</th>\n",
       "      <td>5064.589844</td>\n",
       "      <td>5079.839844</td>\n",
       "      <td>5039.830078</td>\n",
       "      <td>5051.410156</td>\n",
       "      <td>5051.410156</td>\n",
       "      <td>4006200000</td>\n",
       "    </tr>\n",
       "    <tr>\n",
       "      <th>2024-04-17</th>\n",
       "      <td>5068.970215</td>\n",
       "      <td>5077.959961</td>\n",
       "      <td>5007.250000</td>\n",
       "      <td>5022.209961</td>\n",
       "      <td>5022.209961</td>\n",
       "      <td>3596130000</td>\n",
       "    </tr>\n",
       "    <tr>\n",
       "      <th>2024-04-18</th>\n",
       "      <td>5031.520020</td>\n",
       "      <td>5056.660156</td>\n",
       "      <td>5001.890137</td>\n",
       "      <td>5011.120117</td>\n",
       "      <td>5011.120117</td>\n",
       "      <td>3619760000</td>\n",
       "    </tr>\n",
       "    <tr>\n",
       "      <th>2024-04-19</th>\n",
       "      <td>5005.439941</td>\n",
       "      <td>5019.020020</td>\n",
       "      <td>4953.560059</td>\n",
       "      <td>4967.229980</td>\n",
       "      <td>4967.229980</td>\n",
       "      <td>3878750000</td>\n",
       "    </tr>\n",
       "  </tbody>\n",
       "</table>\n",
       "<p>3598 rows × 6 columns</p>\n",
       "</div>"
      ],
      "text/plain": [
       "              GSPC_Open    GSPC_High     GSPC_Low   GSPC_Close  \\\n",
       "Date                                                             \n",
       "2010-01-04  1116.560059  1133.869995  1116.560059  1132.989990   \n",
       "2010-01-05  1132.660034  1136.630005  1129.660034  1136.520020   \n",
       "2010-01-06  1135.709961  1139.189941  1133.949951  1137.140015   \n",
       "2010-01-07  1136.270020  1142.459961  1131.319946  1141.689941   \n",
       "2010-01-08  1140.520020  1145.390015  1136.219971  1144.979980   \n",
       "...                 ...          ...          ...          ...   \n",
       "2024-04-15  5149.669922  5168.430176  5052.470215  5061.819824   \n",
       "2024-04-16  5064.589844  5079.839844  5039.830078  5051.410156   \n",
       "2024-04-17  5068.970215  5077.959961  5007.250000  5022.209961   \n",
       "2024-04-18  5031.520020  5056.660156  5001.890137  5011.120117   \n",
       "2024-04-19  5005.439941  5019.020020  4953.560059  4967.229980   \n",
       "\n",
       "            GSPC_Adj Close  GSPC_Volume  \n",
       "Date                                     \n",
       "2010-01-04     1132.989990   3991400000  \n",
       "2010-01-05     1136.520020   2491020000  \n",
       "2010-01-06     1137.140015   4972660000  \n",
       "2010-01-07     1141.689941   5270680000  \n",
       "2010-01-08     1144.979980   4389590000  \n",
       "...                    ...          ...  \n",
       "2024-04-15     5061.819824   3950210000  \n",
       "2024-04-16     5051.410156   4006200000  \n",
       "2024-04-17     5022.209961   3596130000  \n",
       "2024-04-18     5011.120117   3619760000  \n",
       "2024-04-19     4967.229980   3878750000  \n",
       "\n",
       "[3598 rows x 6 columns]"
      ]
     },
     "execution_count": 5,
     "metadata": {},
     "output_type": "execute_result"
    }
   ],
   "source": [
    "df1"
   ]
  },
  {
   "cell_type": "code",
   "execution_count": 4,
   "id": "3c7d2508-fa7f-474d-a46d-ef28960a4b08",
   "metadata": {
    "scrolled": true
   },
   "outputs": [
    {
     "data": {
      "text/html": [
       "<div>\n",
       "<style scoped>\n",
       "    .dataframe tbody tr th:only-of-type {\n",
       "        vertical-align: middle;\n",
       "    }\n",
       "\n",
       "    .dataframe tbody tr th {\n",
       "        vertical-align: top;\n",
       "    }\n",
       "\n",
       "    .dataframe thead th {\n",
       "        text-align: right;\n",
       "    }\n",
       "</style>\n",
       "<table border=\"1\" class=\"dataframe\">\n",
       "  <thead>\n",
       "    <tr style=\"text-align: right;\">\n",
       "      <th></th>\n",
       "      <th>VIX_Open</th>\n",
       "      <th>VIX_High</th>\n",
       "      <th>VIX_Low</th>\n",
       "      <th>VIX_Close</th>\n",
       "      <th>VIX_Adj Close</th>\n",
       "      <th>VIX_Volume</th>\n",
       "    </tr>\n",
       "    <tr>\n",
       "      <th>Date</th>\n",
       "      <th></th>\n",
       "      <th></th>\n",
       "      <th></th>\n",
       "      <th></th>\n",
       "      <th></th>\n",
       "      <th></th>\n",
       "    </tr>\n",
       "  </thead>\n",
       "  <tbody>\n",
       "    <tr>\n",
       "      <th>2010-01-04</th>\n",
       "      <td>21.680000</td>\n",
       "      <td>21.680000</td>\n",
       "      <td>20.030001</td>\n",
       "      <td>20.040001</td>\n",
       "      <td>20.040001</td>\n",
       "      <td>0</td>\n",
       "    </tr>\n",
       "    <tr>\n",
       "      <th>2010-01-05</th>\n",
       "      <td>20.049999</td>\n",
       "      <td>20.129999</td>\n",
       "      <td>19.340000</td>\n",
       "      <td>19.350000</td>\n",
       "      <td>19.350000</td>\n",
       "      <td>0</td>\n",
       "    </tr>\n",
       "    <tr>\n",
       "      <th>2010-01-06</th>\n",
       "      <td>19.590000</td>\n",
       "      <td>19.680000</td>\n",
       "      <td>18.770000</td>\n",
       "      <td>19.160000</td>\n",
       "      <td>19.160000</td>\n",
       "      <td>0</td>\n",
       "    </tr>\n",
       "    <tr>\n",
       "      <th>2010-01-07</th>\n",
       "      <td>19.680000</td>\n",
       "      <td>19.709999</td>\n",
       "      <td>18.700001</td>\n",
       "      <td>19.059999</td>\n",
       "      <td>19.059999</td>\n",
       "      <td>0</td>\n",
       "    </tr>\n",
       "    <tr>\n",
       "      <th>2010-01-08</th>\n",
       "      <td>19.270000</td>\n",
       "      <td>19.270000</td>\n",
       "      <td>18.110001</td>\n",
       "      <td>18.129999</td>\n",
       "      <td>18.129999</td>\n",
       "      <td>0</td>\n",
       "    </tr>\n",
       "    <tr>\n",
       "      <th>...</th>\n",
       "      <td>...</td>\n",
       "      <td>...</td>\n",
       "      <td>...</td>\n",
       "      <td>...</td>\n",
       "      <td>...</td>\n",
       "      <td>...</td>\n",
       "    </tr>\n",
       "    <tr>\n",
       "      <th>2024-04-15</th>\n",
       "      <td>16.940001</td>\n",
       "      <td>19.459999</td>\n",
       "      <td>16.260000</td>\n",
       "      <td>19.230000</td>\n",
       "      <td>19.230000</td>\n",
       "      <td>0</td>\n",
       "    </tr>\n",
       "    <tr>\n",
       "      <th>2024-04-16</th>\n",
       "      <td>19.490000</td>\n",
       "      <td>19.559999</td>\n",
       "      <td>17.639999</td>\n",
       "      <td>18.400000</td>\n",
       "      <td>18.400000</td>\n",
       "      <td>0</td>\n",
       "    </tr>\n",
       "    <tr>\n",
       "      <th>2024-04-17</th>\n",
       "      <td>18.240000</td>\n",
       "      <td>19.110001</td>\n",
       "      <td>17.540001</td>\n",
       "      <td>18.209999</td>\n",
       "      <td>18.209999</td>\n",
       "      <td>0</td>\n",
       "    </tr>\n",
       "    <tr>\n",
       "      <th>2024-04-18</th>\n",
       "      <td>17.910000</td>\n",
       "      <td>18.370001</td>\n",
       "      <td>17.209999</td>\n",
       "      <td>18.000000</td>\n",
       "      <td>18.000000</td>\n",
       "      <td>0</td>\n",
       "    </tr>\n",
       "    <tr>\n",
       "      <th>2024-04-19</th>\n",
       "      <td>21.330000</td>\n",
       "      <td>21.360001</td>\n",
       "      <td>18.170000</td>\n",
       "      <td>18.709999</td>\n",
       "      <td>18.709999</td>\n",
       "      <td>0</td>\n",
       "    </tr>\n",
       "  </tbody>\n",
       "</table>\n",
       "<p>3598 rows × 6 columns</p>\n",
       "</div>"
      ],
      "text/plain": [
       "             VIX_Open   VIX_High    VIX_Low  VIX_Close  VIX_Adj Close  \\\n",
       "Date                                                                    \n",
       "2010-01-04  21.680000  21.680000  20.030001  20.040001      20.040001   \n",
       "2010-01-05  20.049999  20.129999  19.340000  19.350000      19.350000   \n",
       "2010-01-06  19.590000  19.680000  18.770000  19.160000      19.160000   \n",
       "2010-01-07  19.680000  19.709999  18.700001  19.059999      19.059999   \n",
       "2010-01-08  19.270000  19.270000  18.110001  18.129999      18.129999   \n",
       "...               ...        ...        ...        ...            ...   \n",
       "2024-04-15  16.940001  19.459999  16.260000  19.230000      19.230000   \n",
       "2024-04-16  19.490000  19.559999  17.639999  18.400000      18.400000   \n",
       "2024-04-17  18.240000  19.110001  17.540001  18.209999      18.209999   \n",
       "2024-04-18  17.910000  18.370001  17.209999  18.000000      18.000000   \n",
       "2024-04-19  21.330000  21.360001  18.170000  18.709999      18.709999   \n",
       "\n",
       "            VIX_Volume  \n",
       "Date                    \n",
       "2010-01-04           0  \n",
       "2010-01-05           0  \n",
       "2010-01-06           0  \n",
       "2010-01-07           0  \n",
       "2010-01-08           0  \n",
       "...                ...  \n",
       "2024-04-15           0  \n",
       "2024-04-16           0  \n",
       "2024-04-17           0  \n",
       "2024-04-18           0  \n",
       "2024-04-19           0  \n",
       "\n",
       "[3598 rows x 6 columns]"
      ]
     },
     "execution_count": 4,
     "metadata": {},
     "output_type": "execute_result"
    }
   ],
   "source": [
    "df2"
   ]
  },
  {
   "cell_type": "code",
   "execution_count": 6,
   "id": "446fba1e-ccff-449c-892c-4c3943db3dca",
   "metadata": {},
   "outputs": [],
   "source": [
    "df = df1[['GSPC_Close', 'GSPC_Volume']].join(df2['VIX_Close'])"
   ]
  },
  {
   "cell_type": "code",
   "execution_count": 7,
   "id": "ca0a2f1a-b591-411e-a405-7950f94ca257",
   "metadata": {},
   "outputs": [],
   "source": [
    "df['GSPC_Log_Ret'] = np.log(1 + df['GSPC_Close'].pct_change())"
   ]
  },
  {
   "cell_type": "code",
   "execution_count": 8,
   "id": "8ff83126-cab0-4bd2-a35e-da0e4033a1d9",
   "metadata": {},
   "outputs": [],
   "source": [
    "df['GSPC_Log_Vol'] = np.log(df['GSPC_Log_Ret'].rolling(window=20).std()*np.sqrt(252)*100)"
   ]
  },
  {
   "cell_type": "code",
   "execution_count": 9,
   "id": "3770df17-94c7-4c0a-9842-664e71020194",
   "metadata": {},
   "outputs": [],
   "source": [
    "df['VIX_Log'] = np.log(df['VIX_Close'])"
   ]
  },
  {
   "cell_type": "code",
   "execution_count": 10,
   "id": "c4913861-85d3-44ce-ae93-5fd9cc3cbfcf",
   "metadata": {},
   "outputs": [],
   "source": [
    "df['GSPC_Log_Volume'] = np.log(df['GSPC_Volume'])"
   ]
  },
  {
   "cell_type": "code",
   "execution_count": 19,
   "id": "0e78c577-8331-43e0-998b-fcb41373b667",
   "metadata": {
    "scrolled": true
   },
   "outputs": [
    {
     "data": {
      "text/html": [
       "<div>\n",
       "<style scoped>\n",
       "    .dataframe tbody tr th:only-of-type {\n",
       "        vertical-align: middle;\n",
       "    }\n",
       "\n",
       "    .dataframe tbody tr th {\n",
       "        vertical-align: top;\n",
       "    }\n",
       "\n",
       "    .dataframe thead th {\n",
       "        text-align: right;\n",
       "    }\n",
       "</style>\n",
       "<table border=\"1\" class=\"dataframe\">\n",
       "  <thead>\n",
       "    <tr style=\"text-align: right;\">\n",
       "      <th></th>\n",
       "      <th>GSPC_Volume</th>\n",
       "      <th>VIX_Close</th>\n",
       "    </tr>\n",
       "  </thead>\n",
       "  <tbody>\n",
       "    <tr>\n",
       "      <th>min</th>\n",
       "      <td>1.025000e+09</td>\n",
       "      <td>9.140000</td>\n",
       "    </tr>\n",
       "    <tr>\n",
       "      <th>max</th>\n",
       "      <td>1.061781e+10</td>\n",
       "      <td>82.690002</td>\n",
       "    </tr>\n",
       "    <tr>\n",
       "      <th>median</th>\n",
       "      <td>3.787685e+09</td>\n",
       "      <td>16.690001</td>\n",
       "    </tr>\n",
       "    <tr>\n",
       "      <th>skew</th>\n",
       "      <td>1.521843e+00</td>\n",
       "      <td>NaN</td>\n",
       "    </tr>\n",
       "    <tr>\n",
       "      <th>mean</th>\n",
       "      <td>NaN</td>\n",
       "      <td>18.482952</td>\n",
       "    </tr>\n",
       "  </tbody>\n",
       "</table>\n",
       "</div>"
      ],
      "text/plain": [
       "         GSPC_Volume  VIX_Close\n",
       "min     1.025000e+09   9.140000\n",
       "max     1.061781e+10  82.690002\n",
       "median  3.787685e+09  16.690001\n",
       "skew    1.521843e+00        NaN\n",
       "mean             NaN  18.482952"
      ]
     },
     "execution_count": 19,
     "metadata": {},
     "output_type": "execute_result"
    }
   ],
   "source": [
    "df.agg(\n",
    "    {\n",
    "        \"GSPC_Volume\": [\"min\", \"max\", \"median\", \"skew\"],\n",
    "        \"VIX_Close\": [\"min\", \"max\", \"median\", \"mean\"],\n",
    "    }\n",
    ")"
   ]
  },
  {
   "cell_type": "markdown",
   "id": "1c700178-9fd9-42d5-b5c8-34684bb3ff1a",
   "metadata": {},
   "source": [
    "Note: We take log of the variables to get rid of the skewness in the samples"
   ]
  },
  {
   "cell_type": "code",
   "execution_count": 11,
   "id": "868361a9-c934-4718-9b68-097f295257c8",
   "metadata": {},
   "outputs": [],
   "source": [
    "df_new = df[['GSPC_Log_Ret','VIX_Log','GSPC_Log_Volume']].dropna()"
   ]
  },
  {
   "cell_type": "code",
   "execution_count": 118,
   "id": "64d233d0-01ef-44d8-9e3f-2fc6467ab4bc",
   "metadata": {},
   "outputs": [],
   "source": [
    "X = pd.DataFrame(StandardScaler(\n",
    "    with_mean=True ,\n",
    "    with_std=True).fit_transform(df_new),\n",
    "                 columns=df_new.columns,\n",
    "                 index=df_new.index)"
   ]
  },
  {
   "cell_type": "code",
   "execution_count": 119,
   "id": "1568ebdb-2239-4d5a-ad00-fcec47332c40",
   "metadata": {
    "scrolled": true
   },
   "outputs": [],
   "source": [
    "cols = X.columns\n",
    "\n",
    "for lag in range(1, 6):\n",
    "    for col in cols:\n",
    "        newcol = np.zeros(X.shape[0]) * np.nan\n",
    "        newcol[lag:] = X[col].values[:-lag]\n",
    "        X.insert(len(X.columns), \"{0}_{1}\".format(col , lag), newcol)\n",
    "X['train'] = (X.index < dt.datetime(2020,1,1))\n",
    "X = X.dropna()"
   ]
  },
  {
   "cell_type": "code",
   "execution_count": 120,
   "id": "b3129b0b-12d2-488c-84c7-18bfeb78d621",
   "metadata": {
    "scrolled": true
   },
   "outputs": [
    {
     "data": {
      "text/plain": [
       "Index(['GSPC_Log_Ret', 'VIX_Log', 'GSPC_Log_Volume', 'GSPC_Log_Ret_1',\n",
       "       'VIX_Log_1', 'GSPC_Log_Volume_1', 'GSPC_Log_Ret_2', 'VIX_Log_2',\n",
       "       'GSPC_Log_Volume_2', 'GSPC_Log_Ret_3', 'VIX_Log_3', 'GSPC_Log_Volume_3',\n",
       "       'GSPC_Log_Ret_4', 'VIX_Log_4', 'GSPC_Log_Volume_4', 'GSPC_Log_Ret_5',\n",
       "       'VIX_Log_5', 'GSPC_Log_Volume_5', 'train'],\n",
       "      dtype='object')"
      ]
     },
     "execution_count": 120,
     "metadata": {},
     "output_type": "execute_result"
    }
   ],
   "source": [
    "X.columns"
   ]
  },
  {
   "cell_type": "code",
   "execution_count": 121,
   "id": "538e3d6f-e41d-4e4c-8c21-b76e39020bae",
   "metadata": {
    "scrolled": true
   },
   "outputs": [
    {
     "data": {
      "text/html": [
       "<div>\n",
       "<style scoped>\n",
       "    .dataframe tbody tr th:only-of-type {\n",
       "        vertical-align: middle;\n",
       "    }\n",
       "\n",
       "    .dataframe tbody tr th {\n",
       "        vertical-align: top;\n",
       "    }\n",
       "\n",
       "    .dataframe thead th {\n",
       "        text-align: right;\n",
       "    }\n",
       "</style>\n",
       "<table border=\"1\" class=\"dataframe\">\n",
       "  <thead>\n",
       "    <tr style=\"text-align: right;\">\n",
       "      <th></th>\n",
       "      <th>GSPC_Log_Ret</th>\n",
       "      <th>VIX_Log</th>\n",
       "      <th>GSPC_Log_Volume</th>\n",
       "      <th>GSPC_Log_Ret_1</th>\n",
       "      <th>VIX_Log_1</th>\n",
       "      <th>GSPC_Log_Volume_1</th>\n",
       "      <th>GSPC_Log_Ret_2</th>\n",
       "      <th>VIX_Log_2</th>\n",
       "      <th>GSPC_Log_Volume_2</th>\n",
       "      <th>GSPC_Log_Ret_3</th>\n",
       "      <th>VIX_Log_3</th>\n",
       "      <th>GSPC_Log_Volume_3</th>\n",
       "      <th>GSPC_Log_Ret_4</th>\n",
       "      <th>VIX_Log_4</th>\n",
       "      <th>GSPC_Log_Volume_4</th>\n",
       "      <th>GSPC_Log_Ret_5</th>\n",
       "      <th>VIX_Log_5</th>\n",
       "      <th>GSPC_Log_Volume_5</th>\n",
       "      <th>train</th>\n",
       "    </tr>\n",
       "    <tr>\n",
       "      <th>Date</th>\n",
       "      <th></th>\n",
       "      <th></th>\n",
       "      <th></th>\n",
       "      <th></th>\n",
       "      <th></th>\n",
       "      <th></th>\n",
       "      <th></th>\n",
       "      <th></th>\n",
       "      <th></th>\n",
       "      <th></th>\n",
       "      <th></th>\n",
       "      <th></th>\n",
       "      <th></th>\n",
       "      <th></th>\n",
       "      <th></th>\n",
       "      <th></th>\n",
       "      <th></th>\n",
       "      <th></th>\n",
       "      <th></th>\n",
       "    </tr>\n",
       "  </thead>\n",
       "  <tbody>\n",
       "    <tr>\n",
       "      <th>2010-01-12</th>\n",
       "      <td>-0.894323</td>\n",
       "      <td>0.137540</td>\n",
       "      <td>0.892456</td>\n",
       "      <td>0.121318</td>\n",
       "      <td>0.017084</td>\n",
       "      <td>0.447475</td>\n",
       "      <td>0.224272</td>\n",
       "      <td>0.117222</td>\n",
       "      <td>0.581587</td>\n",
       "      <td>0.325705</td>\n",
       "      <td>0.271289</td>\n",
       "      <td>1.374033</td>\n",
       "      <td>0.012226</td>\n",
       "      <td>0.287405</td>\n",
       "      <td>1.121885</td>\n",
       "      <td>0.245479</td>\n",
       "      <td>0.317796</td>\n",
       "      <td>-1.872745</td>\n",
       "      <td>True</td>\n",
       "    </tr>\n",
       "    <tr>\n",
       "      <th>2010-01-13</th>\n",
       "      <td>0.716502</td>\n",
       "      <td>0.069286</td>\n",
       "      <td>0.359638</td>\n",
       "      <td>-0.894323</td>\n",
       "      <td>0.137540</td>\n",
       "      <td>0.892456</td>\n",
       "      <td>0.121318</td>\n",
       "      <td>0.017084</td>\n",
       "      <td>0.447475</td>\n",
       "      <td>0.224272</td>\n",
       "      <td>0.117222</td>\n",
       "      <td>0.581587</td>\n",
       "      <td>0.325705</td>\n",
       "      <td>0.271289</td>\n",
       "      <td>1.374033</td>\n",
       "      <td>0.012226</td>\n",
       "      <td>0.287405</td>\n",
       "      <td>1.121885</td>\n",
       "      <td>True</td>\n",
       "    </tr>\n",
       "    <tr>\n",
       "      <th>2010-01-14</th>\n",
       "      <td>0.182985</td>\n",
       "      <td>0.031091</td>\n",
       "      <td>0.086126</td>\n",
       "      <td>0.716502</td>\n",
       "      <td>0.069286</td>\n",
       "      <td>0.359638</td>\n",
       "      <td>-0.894323</td>\n",
       "      <td>0.137540</td>\n",
       "      <td>0.892456</td>\n",
       "      <td>0.121318</td>\n",
       "      <td>0.017084</td>\n",
       "      <td>0.447475</td>\n",
       "      <td>0.224272</td>\n",
       "      <td>0.117222</td>\n",
       "      <td>0.581587</td>\n",
       "      <td>0.325705</td>\n",
       "      <td>0.271289</td>\n",
       "      <td>1.374033</td>\n",
       "      <td>True</td>\n",
       "    </tr>\n",
       "    <tr>\n",
       "      <th>2010-01-15</th>\n",
       "      <td>-1.026765</td>\n",
       "      <td>0.079621</td>\n",
       "      <td>0.931384</td>\n",
       "      <td>0.182985</td>\n",
       "      <td>0.031091</td>\n",
       "      <td>0.086126</td>\n",
       "      <td>0.716502</td>\n",
       "      <td>0.069286</td>\n",
       "      <td>0.359638</td>\n",
       "      <td>-0.894323</td>\n",
       "      <td>0.137540</td>\n",
       "      <td>0.892456</td>\n",
       "      <td>0.121318</td>\n",
       "      <td>0.017084</td>\n",
       "      <td>0.447475</td>\n",
       "      <td>0.224272</td>\n",
       "      <td>0.117222</td>\n",
       "      <td>0.581587</td>\n",
       "      <td>True</td>\n",
       "    </tr>\n",
       "    <tr>\n",
       "      <th>2010-01-19</th>\n",
       "      <td>1.092066</td>\n",
       "      <td>0.022344</td>\n",
       "      <td>0.900412</td>\n",
       "      <td>-1.026765</td>\n",
       "      <td>0.079621</td>\n",
       "      <td>0.931384</td>\n",
       "      <td>0.182985</td>\n",
       "      <td>0.031091</td>\n",
       "      <td>0.086126</td>\n",
       "      <td>0.716502</td>\n",
       "      <td>0.069286</td>\n",
       "      <td>0.359638</td>\n",
       "      <td>-0.894323</td>\n",
       "      <td>0.137540</td>\n",
       "      <td>0.892456</td>\n",
       "      <td>0.121318</td>\n",
       "      <td>0.017084</td>\n",
       "      <td>0.447475</td>\n",
       "      <td>True</td>\n",
       "    </tr>\n",
       "    <tr>\n",
       "      <th>...</th>\n",
       "      <td>...</td>\n",
       "      <td>...</td>\n",
       "      <td>...</td>\n",
       "      <td>...</td>\n",
       "      <td>...</td>\n",
       "      <td>...</td>\n",
       "      <td>...</td>\n",
       "      <td>...</td>\n",
       "      <td>...</td>\n",
       "      <td>...</td>\n",
       "      <td>...</td>\n",
       "      <td>...</td>\n",
       "      <td>...</td>\n",
       "      <td>...</td>\n",
       "      <td>...</td>\n",
       "      <td>...</td>\n",
       "      <td>...</td>\n",
       "      <td>...</td>\n",
       "      <td>...</td>\n",
       "    </tr>\n",
       "    <tr>\n",
       "      <th>2024-04-15</th>\n",
       "      <td>-1.136966</td>\n",
       "      <td>0.298637</td>\n",
       "      <td>0.124692</td>\n",
       "      <td>-1.370030</td>\n",
       "      <td>-0.025325</td>\n",
       "      <td>0.138936</td>\n",
       "      <td>0.637017</td>\n",
       "      <td>-0.485000</td>\n",
       "      <td>-0.387925</td>\n",
       "      <td>-0.901282</td>\n",
       "      <td>-0.306437</td>\n",
       "      <td>0.008793</td>\n",
       "      <td>0.093971</td>\n",
       "      <td>-0.470574</td>\n",
       "      <td>-0.524230</td>\n",
       "      <td>-0.071427</td>\n",
       "      <td>-0.427699</td>\n",
       "      <td>-0.683163</td>\n",
       "      <td>False</td>\n",
       "    </tr>\n",
       "    <tr>\n",
       "      <th>2024-04-16</th>\n",
       "      <td>-0.224530</td>\n",
       "      <td>0.162751</td>\n",
       "      <td>0.185664</td>\n",
       "      <td>-1.136966</td>\n",
       "      <td>0.298637</td>\n",
       "      <td>0.124692</td>\n",
       "      <td>-1.370030</td>\n",
       "      <td>-0.025325</td>\n",
       "      <td>0.138936</td>\n",
       "      <td>0.637017</td>\n",
       "      <td>-0.485000</td>\n",
       "      <td>-0.387925</td>\n",
       "      <td>-0.901282</td>\n",
       "      <td>-0.306437</td>\n",
       "      <td>0.008793</td>\n",
       "      <td>0.093971</td>\n",
       "      <td>-0.470574</td>\n",
       "      <td>-0.524230</td>\n",
       "      <td>False</td>\n",
       "    </tr>\n",
       "    <tr>\n",
       "      <th>2024-04-17</th>\n",
       "      <td>-0.564458</td>\n",
       "      <td>0.130782</td>\n",
       "      <td>-0.282139</td>\n",
       "      <td>-0.224530</td>\n",
       "      <td>0.162751</td>\n",
       "      <td>0.185664</td>\n",
       "      <td>-1.136966</td>\n",
       "      <td>0.298637</td>\n",
       "      <td>0.124692</td>\n",
       "      <td>-1.370030</td>\n",
       "      <td>-0.025325</td>\n",
       "      <td>0.138936</td>\n",
       "      <td>0.637017</td>\n",
       "      <td>-0.485000</td>\n",
       "      <td>-0.387925</td>\n",
       "      <td>-0.901282</td>\n",
       "      <td>-0.306437</td>\n",
       "      <td>0.008793</td>\n",
       "      <td>False</td>\n",
       "    </tr>\n",
       "    <tr>\n",
       "      <th>2024-04-18</th>\n",
       "      <td>-0.238347</td>\n",
       "      <td>0.095059</td>\n",
       "      <td>-0.253766</td>\n",
       "      <td>-0.564458</td>\n",
       "      <td>0.130782</td>\n",
       "      <td>-0.282139</td>\n",
       "      <td>-0.224530</td>\n",
       "      <td>0.162751</td>\n",
       "      <td>0.185664</td>\n",
       "      <td>-1.136966</td>\n",
       "      <td>0.298637</td>\n",
       "      <td>0.124692</td>\n",
       "      <td>-1.370030</td>\n",
       "      <td>-0.025325</td>\n",
       "      <td>0.138936</td>\n",
       "      <td>0.637017</td>\n",
       "      <td>-0.485000</td>\n",
       "      <td>-0.387925</td>\n",
       "      <td>False</td>\n",
       "    </tr>\n",
       "    <tr>\n",
       "      <th>2024-04-19</th>\n",
       "      <td>-0.837196</td>\n",
       "      <td>0.214207</td>\n",
       "      <td>0.045605</td>\n",
       "      <td>-0.238347</td>\n",
       "      <td>0.095059</td>\n",
       "      <td>-0.253766</td>\n",
       "      <td>-0.564458</td>\n",
       "      <td>0.130782</td>\n",
       "      <td>-0.282139</td>\n",
       "      <td>-0.224530</td>\n",
       "      <td>0.162751</td>\n",
       "      <td>0.185664</td>\n",
       "      <td>-1.136966</td>\n",
       "      <td>0.298637</td>\n",
       "      <td>0.124692</td>\n",
       "      <td>-1.370030</td>\n",
       "      <td>-0.025325</td>\n",
       "      <td>0.138936</td>\n",
       "      <td>False</td>\n",
       "    </tr>\n",
       "  </tbody>\n",
       "</table>\n",
       "<p>3592 rows × 19 columns</p>\n",
       "</div>"
      ],
      "text/plain": [
       "            GSPC_Log_Ret   VIX_Log  GSPC_Log_Volume  GSPC_Log_Ret_1  \\\n",
       "Date                                                                  \n",
       "2010-01-12     -0.894323  0.137540         0.892456        0.121318   \n",
       "2010-01-13      0.716502  0.069286         0.359638       -0.894323   \n",
       "2010-01-14      0.182985  0.031091         0.086126        0.716502   \n",
       "2010-01-15     -1.026765  0.079621         0.931384        0.182985   \n",
       "2010-01-19      1.092066  0.022344         0.900412       -1.026765   \n",
       "...                  ...       ...              ...             ...   \n",
       "2024-04-15     -1.136966  0.298637         0.124692       -1.370030   \n",
       "2024-04-16     -0.224530  0.162751         0.185664       -1.136966   \n",
       "2024-04-17     -0.564458  0.130782        -0.282139       -0.224530   \n",
       "2024-04-18     -0.238347  0.095059        -0.253766       -0.564458   \n",
       "2024-04-19     -0.837196  0.214207         0.045605       -0.238347   \n",
       "\n",
       "            VIX_Log_1  GSPC_Log_Volume_1  GSPC_Log_Ret_2  VIX_Log_2  \\\n",
       "Date                                                                  \n",
       "2010-01-12   0.017084           0.447475        0.224272   0.117222   \n",
       "2010-01-13   0.137540           0.892456        0.121318   0.017084   \n",
       "2010-01-14   0.069286           0.359638       -0.894323   0.137540   \n",
       "2010-01-15   0.031091           0.086126        0.716502   0.069286   \n",
       "2010-01-19   0.079621           0.931384        0.182985   0.031091   \n",
       "...               ...                ...             ...        ...   \n",
       "2024-04-15  -0.025325           0.138936        0.637017  -0.485000   \n",
       "2024-04-16   0.298637           0.124692       -1.370030  -0.025325   \n",
       "2024-04-17   0.162751           0.185664       -1.136966   0.298637   \n",
       "2024-04-18   0.130782          -0.282139       -0.224530   0.162751   \n",
       "2024-04-19   0.095059          -0.253766       -0.564458   0.130782   \n",
       "\n",
       "            GSPC_Log_Volume_2  GSPC_Log_Ret_3  VIX_Log_3  GSPC_Log_Volume_3  \\\n",
       "Date                                                                          \n",
       "2010-01-12           0.581587        0.325705   0.271289           1.374033   \n",
       "2010-01-13           0.447475        0.224272   0.117222           0.581587   \n",
       "2010-01-14           0.892456        0.121318   0.017084           0.447475   \n",
       "2010-01-15           0.359638       -0.894323   0.137540           0.892456   \n",
       "2010-01-19           0.086126        0.716502   0.069286           0.359638   \n",
       "...                       ...             ...        ...                ...   \n",
       "2024-04-15          -0.387925       -0.901282  -0.306437           0.008793   \n",
       "2024-04-16           0.138936        0.637017  -0.485000          -0.387925   \n",
       "2024-04-17           0.124692       -1.370030  -0.025325           0.138936   \n",
       "2024-04-18           0.185664       -1.136966   0.298637           0.124692   \n",
       "2024-04-19          -0.282139       -0.224530   0.162751           0.185664   \n",
       "\n",
       "            GSPC_Log_Ret_4  VIX_Log_4  GSPC_Log_Volume_4  GSPC_Log_Ret_5  \\\n",
       "Date                                                                       \n",
       "2010-01-12        0.012226   0.287405           1.121885        0.245479   \n",
       "2010-01-13        0.325705   0.271289           1.374033        0.012226   \n",
       "2010-01-14        0.224272   0.117222           0.581587        0.325705   \n",
       "2010-01-15        0.121318   0.017084           0.447475        0.224272   \n",
       "2010-01-19       -0.894323   0.137540           0.892456        0.121318   \n",
       "...                    ...        ...                ...             ...   \n",
       "2024-04-15        0.093971  -0.470574          -0.524230       -0.071427   \n",
       "2024-04-16       -0.901282  -0.306437           0.008793        0.093971   \n",
       "2024-04-17        0.637017  -0.485000          -0.387925       -0.901282   \n",
       "2024-04-18       -1.370030  -0.025325           0.138936        0.637017   \n",
       "2024-04-19       -1.136966   0.298637           0.124692       -1.370030   \n",
       "\n",
       "            VIX_Log_5  GSPC_Log_Volume_5  train  \n",
       "Date                                             \n",
       "2010-01-12   0.317796          -1.872745   True  \n",
       "2010-01-13   0.287405           1.121885   True  \n",
       "2010-01-14   0.271289           1.374033   True  \n",
       "2010-01-15   0.117222           0.581587   True  \n",
       "2010-01-19   0.017084           0.447475   True  \n",
       "...               ...                ...    ...  \n",
       "2024-04-15  -0.427699          -0.683163  False  \n",
       "2024-04-16  -0.470574          -0.524230  False  \n",
       "2024-04-17  -0.306437           0.008793  False  \n",
       "2024-04-18  -0.485000          -0.387925  False  \n",
       "2024-04-19  -0.025325           0.138936  False  \n",
       "\n",
       "[3592 rows x 19 columns]"
      ]
     },
     "execution_count": 121,
     "metadata": {},
     "output_type": "execute_result"
    }
   ],
   "source": [
    "X"
   ]
  },
  {
   "cell_type": "code",
   "execution_count": 122,
   "id": "5601ef59-eb42-4185-96e2-cdb6f7f6dbe5",
   "metadata": {},
   "outputs": [
    {
     "data": {
      "text/plain": [
       "Index(['GSPC_Log_Ret_1', 'VIX_Log_1', 'GSPC_Log_Volume_1', 'GSPC_Log_Ret_2',\n",
       "       'VIX_Log_2', 'GSPC_Log_Volume_2', 'GSPC_Log_Ret_3', 'VIX_Log_3',\n",
       "       'GSPC_Log_Volume_3', 'GSPC_Log_Ret_4', 'VIX_Log_4', 'GSPC_Log_Volume_4',\n",
       "       'GSPC_Log_Ret_5', 'VIX_Log_5', 'GSPC_Log_Volume_5'],\n",
       "      dtype='object')"
      ]
     },
     "execution_count": 122,
     "metadata": {},
     "output_type": "execute_result"
    }
   ],
   "source": [
    "cols = ['GSPC_Log_Ret','VIX_Log','GSPC_Log_Volume']\n",
    "\n",
    "Y, train = X['VIX_Log'], X['train']\n",
    "X = X.drop(columns=['train'] + cols)\n",
    "X.columns"
   ]
  },
  {
   "cell_type": "code",
   "execution_count": 123,
   "id": "a081f71b-6030-49a9-91d8-61a7a9fed4f1",
   "metadata": {},
   "outputs": [
    {
     "data": {
      "text/plain": [
       "(3592, 15)"
      ]
     },
     "execution_count": 123,
     "metadata": {},
     "output_type": "execute_result"
    }
   ],
   "source": [
    "X.shape"
   ]
  },
  {
   "cell_type": "markdown",
   "id": "00e4b8f3-9089-4be8-8a4b-e169414ef01b",
   "metadata": {},
   "source": [
    "## RNN Data Processing"
   ]
  },
  {
   "cell_type": "code",
   "execution_count": 124,
   "id": "45cfd8da-d00f-4b42-bb1e-c7328eead045",
   "metadata": {},
   "outputs": [],
   "source": [
    "#Reorder the columns because input into RNN needs to have the earliest time first\n",
    "ordered_cols = []\n",
    "for lag in range(5,0,-1):\n",
    "    for col in cols:\n",
    "        ordered_cols.append('{0}_{1}'.format(col , lag))\n",
    "X_rnn = X.reindex(columns=ordered_cols)"
   ]
  },
  {
   "cell_type": "code",
   "execution_count": 125,
   "id": "fb55ad5c-41af-4e6f-8023-488f43156c1d",
   "metadata": {},
   "outputs": [
    {
     "data": {
      "text/plain": [
       "Index(['GSPC_Log_Ret_5', 'VIX_Log_5', 'GSPC_Log_Volume_5', 'GSPC_Log_Ret_4',\n",
       "       'VIX_Log_4', 'GSPC_Log_Volume_4', 'GSPC_Log_Ret_3', 'VIX_Log_3',\n",
       "       'GSPC_Log_Volume_3', 'GSPC_Log_Ret_2', 'VIX_Log_2', 'GSPC_Log_Volume_2',\n",
       "       'GSPC_Log_Ret_1', 'VIX_Log_1', 'GSPC_Log_Volume_1'],\n",
       "      dtype='object')"
      ]
     },
     "execution_count": 125,
     "metadata": {},
     "output_type": "execute_result"
    }
   ],
   "source": [
    "X_rnn.columns"
   ]
  },
  {
   "cell_type": "code",
   "execution_count": 126,
   "id": "8580afb2-c6f9-4973-9b5c-a40a2bd7f6ef",
   "metadata": {},
   "outputs": [
    {
     "data": {
      "text/plain": [
       "(3592, 5, 3)"
      ]
     },
     "execution_count": 126,
     "metadata": {},
     "output_type": "execute_result"
    }
   ],
   "source": [
    "X_rnn = X_rnn.to_numpy().reshape((-1,5,3))\n",
    "X_rnn.shape"
   ]
  },
  {
   "cell_type": "markdown",
   "id": "7925befd-e870-4bca-948d-ec4489c76cf1",
   "metadata": {},
   "source": [
    "### Set up 1 Layer RNN model and LSTM model"
   ]
  },
  {
   "cell_type": "markdown",
   "id": "660300fb-f7e8-4b82-9b39-28e5974bf730",
   "metadata": {},
   "source": [
    "We will be using the ISLP package along with pytorch_lightning package"
   ]
  },
  {
   "cell_type": "code",
   "execution_count": 127,
   "id": "403e089f-c780-4385-9fef-69281d2e81bd",
   "metadata": {},
   "outputs": [],
   "source": [
    "import torch\n",
    "import torch.nn as nn\n",
    "from torch.utils.data import TensorDataset, DataLoader, random_split\n",
    "from torchsummary import summary\n",
    "from torch.optim import RMSprop\n",
    "from torchmetrics import (MeanAbsoluteError , R2Score)\n",
    "from pytorch_lightning import Trainer\n",
    "from pytorch_lightning.loggers import CSVLogger\n",
    "\n",
    "from ISLP.torch import (SimpleDataModule ,\n",
    "    SimpleModule ,\n",
    "    ErrorTracker ,\n",
    "    rec_num_workers)\n",
    "\n",
    "class VIXRNNModel(nn.Module):\n",
    "    def __init__(self):\n",
    "        super(VIXRNNModel , self).__init__()\n",
    "        self.rnn = nn.RNN(3, 12, batch_first=True)\n",
    "        self.dense = nn.Linear(12, 1)\n",
    "        self.dropout = nn.Dropout(0.1)\n",
    "    \n",
    "    def forward(self , x):\n",
    "        x , h_n = self.rnn(x)\n",
    "        x = self.dropout(x[:,-1])\n",
    "        x = self.dense(x)\n",
    "        return torch.flatten(x)\n",
    "\n",
    "class VIXLSTMModel(nn.Module):\n",
    "    def __init__(self):\n",
    "        super(VIXLSTMModel , self).__init__()\n",
    "        self.rnn = nn.LSTM(3, 12, batch_first=True)\n",
    "        self.dense = nn.Linear(12, 1)\n",
    "        self.dropout = nn.Dropout(0.1)\n",
    "    \n",
    "    def forward(self , x):\n",
    "        x , h_n = self.rnn(x)\n",
    "        x = self.dropout(x[:,-1])\n",
    "        x = self.dense(x)\n",
    "        return torch.flatten(x)\n",
    "\n",
    "vixrnn = VIXRNNModel()\n",
    "vixlstm = VIXLSTMModel()"
   ]
  },
  {
   "cell_type": "code",
   "execution_count": 128,
   "id": "2595efaa-32da-4fb3-b567-1ef5966a9c4e",
   "metadata": {
    "scrolled": true
   },
   "outputs": [
    {
     "data": {
      "text/plain": [
       "tensor([-0.1436, -0.0913, -0.1155, -0.1205, -0.1118], grad_fn=<ViewBackward0>)"
      ]
     },
     "execution_count": 128,
     "metadata": {},
     "output_type": "execute_result"
    }
   ],
   "source": [
    "#Testing\n",
    "vixrnn(torch.ones((5,5,3)))\n",
    "vixlstm(torch.ones((5,5,3)))"
   ]
  },
  {
   "cell_type": "code",
   "execution_count": 129,
   "id": "68a1b92f-1bc9-43eb-96c6-331db40005f0",
   "metadata": {},
   "outputs": [],
   "source": [
    "#Prepare train test dataset\n",
    "# The train dataset will consist of data from 2010-2020 and the test from 2020-2024\n",
    "datasets = []\n",
    "for mask in [train , ~train]:\n",
    "    X_rnn_t = torch.tensor(X_rnn[mask].astype(np.float32))\n",
    "    Y_t = torch.tensor(Y[mask].astype(np.float32))\n",
    "    datasets.append(TensorDataset(X_rnn_t , Y_t))\n",
    "vix_train , vix_test = datasets"
   ]
  },
  {
   "cell_type": "code",
   "execution_count": 130,
   "id": "911ac5cb-a22f-4a5c-8c6f-7edca3708125",
   "metadata": {},
   "outputs": [
    {
     "data": {
      "text/plain": [
       "(2510, 1082)"
      ]
     },
     "execution_count": 130,
     "metadata": {},
     "output_type": "execute_result"
    }
   ],
   "source": [
    "len(vix_train), len(vix_test)"
   ]
  },
  {
   "cell_type": "code",
   "execution_count": 131,
   "id": "fd092b0c-9a52-49f6-8a1c-a2c5f43cea85",
   "metadata": {},
   "outputs": [],
   "source": [
    "vix_dm = SimpleDataModule(vix_train ,\n",
    "                           vix_test ,\n",
    "                           num_workers=4,\n",
    "                           validation=vix_test ,\n",
    "                           batch_size =32)"
   ]
  },
  {
   "cell_type": "markdown",
   "id": "66dce61c-25eb-435d-99d3-29005c3fdcac",
   "metadata": {},
   "source": [
    "### Test the RNN Model"
   ]
  },
  {
   "cell_type": "code",
   "execution_count": 134,
   "id": "42da6347-78b9-4e63-ad2c-281366a5a661",
   "metadata": {
    "scrolled": true
   },
   "outputs": [
    {
     "name": "stderr",
     "output_type": "stream",
     "text": [
      "GPU available: False, used: False\n",
      "TPU available: False, using: 0 TPU cores\n",
      "IPU available: False, using: 0 IPUs\n",
      "HPU available: False, using: 0 HPUs\n",
      "\n",
      "  | Name  | Type        | Params\n",
      "--------------------------------------\n",
      "0 | model | VIXRNNModel | 217   \n",
      "1 | loss  | MSELoss     | 0     \n",
      "--------------------------------------\n",
      "217       Trainable params\n",
      "0         Non-trainable params\n",
      "217       Total params\n",
      "0.001     Total estimated model params size (MB)\n"
     ]
    },
    {
     "data": {
      "application/vnd.jupyter.widget-view+json": {
       "model_id": "",
       "version_major": 2,
       "version_minor": 0
      },
      "text/plain": [
       "Sanity Checking: |                                                                               | 0/? [00:00<…"
      ]
     },
     "metadata": {},
     "output_type": "display_data"
    },
    {
     "data": {
      "application/vnd.jupyter.widget-view+json": {
       "model_id": "b3218b36bee44688a981343af2690dcc",
       "version_major": 2,
       "version_minor": 0
      },
      "text/plain": [
       "Training: |                                                                                      | 0/? [00:00<…"
      ]
     },
     "metadata": {},
     "output_type": "display_data"
    },
    {
     "data": {
      "application/vnd.jupyter.widget-view+json": {
       "model_id": "",
       "version_major": 2,
       "version_minor": 0
      },
      "text/plain": [
       "Validation: |                                                                                    | 0/? [00:00<…"
      ]
     },
     "metadata": {},
     "output_type": "display_data"
    },
    {
     "data": {
      "application/vnd.jupyter.widget-view+json": {
       "model_id": "",
       "version_major": 2,
       "version_minor": 0
      },
      "text/plain": [
       "Validation: |                                                                                    | 0/? [00:00<…"
      ]
     },
     "metadata": {},
     "output_type": "display_data"
    },
    {
     "data": {
      "application/vnd.jupyter.widget-view+json": {
       "model_id": "",
       "version_major": 2,
       "version_minor": 0
      },
      "text/plain": [
       "Validation: |                                                                                    | 0/? [00:00<…"
      ]
     },
     "metadata": {},
     "output_type": "display_data"
    },
    {
     "data": {
      "application/vnd.jupyter.widget-view+json": {
       "model_id": "",
       "version_major": 2,
       "version_minor": 0
      },
      "text/plain": [
       "Validation: |                                                                                    | 0/? [00:00<…"
      ]
     },
     "metadata": {},
     "output_type": "display_data"
    },
    {
     "data": {
      "application/vnd.jupyter.widget-view+json": {
       "model_id": "",
       "version_major": 2,
       "version_minor": 0
      },
      "text/plain": [
       "Validation: |                                                                                    | 0/? [00:00<…"
      ]
     },
     "metadata": {},
     "output_type": "display_data"
    },
    {
     "data": {
      "application/vnd.jupyter.widget-view+json": {
       "model_id": "",
       "version_major": 2,
       "version_minor": 0
      },
      "text/plain": [
       "Validation: |                                                                                    | 0/? [00:00<…"
      ]
     },
     "metadata": {},
     "output_type": "display_data"
    },
    {
     "data": {
      "application/vnd.jupyter.widget-view+json": {
       "model_id": "",
       "version_major": 2,
       "version_minor": 0
      },
      "text/plain": [
       "Validation: |                                                                                    | 0/? [00:00<…"
      ]
     },
     "metadata": {},
     "output_type": "display_data"
    },
    {
     "data": {
      "application/vnd.jupyter.widget-view+json": {
       "model_id": "",
       "version_major": 2,
       "version_minor": 0
      },
      "text/plain": [
       "Validation: |                                                                                    | 0/? [00:00<…"
      ]
     },
     "metadata": {},
     "output_type": "display_data"
    },
    {
     "data": {
      "application/vnd.jupyter.widget-view+json": {
       "model_id": "",
       "version_major": 2,
       "version_minor": 0
      },
      "text/plain": [
       "Validation: |                                                                                    | 0/? [00:00<…"
      ]
     },
     "metadata": {},
     "output_type": "display_data"
    },
    {
     "data": {
      "application/vnd.jupyter.widget-view+json": {
       "model_id": "",
       "version_major": 2,
       "version_minor": 0
      },
      "text/plain": [
       "Validation: |                                                                                    | 0/? [00:00<…"
      ]
     },
     "metadata": {},
     "output_type": "display_data"
    },
    {
     "data": {
      "application/vnd.jupyter.widget-view+json": {
       "model_id": "",
       "version_major": 2,
       "version_minor": 0
      },
      "text/plain": [
       "Validation: |                                                                                    | 0/? [00:00<…"
      ]
     },
     "metadata": {},
     "output_type": "display_data"
    },
    {
     "data": {
      "application/vnd.jupyter.widget-view+json": {
       "model_id": "",
       "version_major": 2,
       "version_minor": 0
      },
      "text/plain": [
       "Validation: |                                                                                    | 0/? [00:00<…"
      ]
     },
     "metadata": {},
     "output_type": "display_data"
    },
    {
     "data": {
      "application/vnd.jupyter.widget-view+json": {
       "model_id": "",
       "version_major": 2,
       "version_minor": 0
      },
      "text/plain": [
       "Validation: |                                                                                    | 0/? [00:00<…"
      ]
     },
     "metadata": {},
     "output_type": "display_data"
    },
    {
     "data": {
      "application/vnd.jupyter.widget-view+json": {
       "model_id": "",
       "version_major": 2,
       "version_minor": 0
      },
      "text/plain": [
       "Validation: |                                                                                    | 0/? [00:00<…"
      ]
     },
     "metadata": {},
     "output_type": "display_data"
    },
    {
     "data": {
      "application/vnd.jupyter.widget-view+json": {
       "model_id": "",
       "version_major": 2,
       "version_minor": 0
      },
      "text/plain": [
       "Validation: |                                                                                    | 0/? [00:00<…"
      ]
     },
     "metadata": {},
     "output_type": "display_data"
    },
    {
     "data": {
      "application/vnd.jupyter.widget-view+json": {
       "model_id": "",
       "version_major": 2,
       "version_minor": 0
      },
      "text/plain": [
       "Validation: |                                                                                    | 0/? [00:00<…"
      ]
     },
     "metadata": {},
     "output_type": "display_data"
    },
    {
     "data": {
      "application/vnd.jupyter.widget-view+json": {
       "model_id": "",
       "version_major": 2,
       "version_minor": 0
      },
      "text/plain": [
       "Validation: |                                                                                    | 0/? [00:00<…"
      ]
     },
     "metadata": {},
     "output_type": "display_data"
    },
    {
     "data": {
      "application/vnd.jupyter.widget-view+json": {
       "model_id": "",
       "version_major": 2,
       "version_minor": 0
      },
      "text/plain": [
       "Validation: |                                                                                    | 0/? [00:00<…"
      ]
     },
     "metadata": {},
     "output_type": "display_data"
    },
    {
     "data": {
      "application/vnd.jupyter.widget-view+json": {
       "model_id": "",
       "version_major": 2,
       "version_minor": 0
      },
      "text/plain": [
       "Validation: |                                                                                    | 0/? [00:00<…"
      ]
     },
     "metadata": {},
     "output_type": "display_data"
    },
    {
     "data": {
      "application/vnd.jupyter.widget-view+json": {
       "model_id": "",
       "version_major": 2,
       "version_minor": 0
      },
      "text/plain": [
       "Validation: |                                                                                    | 0/? [00:00<…"
      ]
     },
     "metadata": {},
     "output_type": "display_data"
    },
    {
     "data": {
      "application/vnd.jupyter.widget-view+json": {
       "model_id": "",
       "version_major": 2,
       "version_minor": 0
      },
      "text/plain": [
       "Validation: |                                                                                    | 0/? [00:00<…"
      ]
     },
     "metadata": {},
     "output_type": "display_data"
    },
    {
     "data": {
      "application/vnd.jupyter.widget-view+json": {
       "model_id": "",
       "version_major": 2,
       "version_minor": 0
      },
      "text/plain": [
       "Validation: |                                                                                    | 0/? [00:00<…"
      ]
     },
     "metadata": {},
     "output_type": "display_data"
    },
    {
     "data": {
      "application/vnd.jupyter.widget-view+json": {
       "model_id": "",
       "version_major": 2,
       "version_minor": 0
      },
      "text/plain": [
       "Validation: |                                                                                    | 0/? [00:00<…"
      ]
     },
     "metadata": {},
     "output_type": "display_data"
    },
    {
     "data": {
      "application/vnd.jupyter.widget-view+json": {
       "model_id": "",
       "version_major": 2,
       "version_minor": 0
      },
      "text/plain": [
       "Validation: |                                                                                    | 0/? [00:00<…"
      ]
     },
     "metadata": {},
     "output_type": "display_data"
    },
    {
     "data": {
      "application/vnd.jupyter.widget-view+json": {
       "model_id": "",
       "version_major": 2,
       "version_minor": 0
      },
      "text/plain": [
       "Validation: |                                                                                    | 0/? [00:00<…"
      ]
     },
     "metadata": {},
     "output_type": "display_data"
    },
    {
     "data": {
      "application/vnd.jupyter.widget-view+json": {
       "model_id": "",
       "version_major": 2,
       "version_minor": 0
      },
      "text/plain": [
       "Validation: |                                                                                    | 0/? [00:00<…"
      ]
     },
     "metadata": {},
     "output_type": "display_data"
    },
    {
     "data": {
      "application/vnd.jupyter.widget-view+json": {
       "model_id": "",
       "version_major": 2,
       "version_minor": 0
      },
      "text/plain": [
       "Validation: |                                                                                    | 0/? [00:00<…"
      ]
     },
     "metadata": {},
     "output_type": "display_data"
    },
    {
     "data": {
      "application/vnd.jupyter.widget-view+json": {
       "model_id": "",
       "version_major": 2,
       "version_minor": 0
      },
      "text/plain": [
       "Validation: |                                                                                    | 0/? [00:00<…"
      ]
     },
     "metadata": {},
     "output_type": "display_data"
    },
    {
     "data": {
      "application/vnd.jupyter.widget-view+json": {
       "model_id": "",
       "version_major": 2,
       "version_minor": 0
      },
      "text/plain": [
       "Validation: |                                                                                    | 0/? [00:00<…"
      ]
     },
     "metadata": {},
     "output_type": "display_data"
    },
    {
     "data": {
      "application/vnd.jupyter.widget-view+json": {
       "model_id": "",
       "version_major": 2,
       "version_minor": 0
      },
      "text/plain": [
       "Validation: |                                                                                    | 0/? [00:00<…"
      ]
     },
     "metadata": {},
     "output_type": "display_data"
    },
    {
     "data": {
      "application/vnd.jupyter.widget-view+json": {
       "model_id": "",
       "version_major": 2,
       "version_minor": 0
      },
      "text/plain": [
       "Validation: |                                                                                    | 0/? [00:00<…"
      ]
     },
     "metadata": {},
     "output_type": "display_data"
    },
    {
     "data": {
      "application/vnd.jupyter.widget-view+json": {
       "model_id": "",
       "version_major": 2,
       "version_minor": 0
      },
      "text/plain": [
       "Validation: |                                                                                    | 0/? [00:00<…"
      ]
     },
     "metadata": {},
     "output_type": "display_data"
    },
    {
     "data": {
      "application/vnd.jupyter.widget-view+json": {
       "model_id": "",
       "version_major": 2,
       "version_minor": 0
      },
      "text/plain": [
       "Validation: |                                                                                    | 0/? [00:00<…"
      ]
     },
     "metadata": {},
     "output_type": "display_data"
    },
    {
     "data": {
      "application/vnd.jupyter.widget-view+json": {
       "model_id": "",
       "version_major": 2,
       "version_minor": 0
      },
      "text/plain": [
       "Validation: |                                                                                    | 0/? [00:00<…"
      ]
     },
     "metadata": {},
     "output_type": "display_data"
    },
    {
     "data": {
      "application/vnd.jupyter.widget-view+json": {
       "model_id": "",
       "version_major": 2,
       "version_minor": 0
      },
      "text/plain": [
       "Validation: |                                                                                    | 0/? [00:00<…"
      ]
     },
     "metadata": {},
     "output_type": "display_data"
    },
    {
     "data": {
      "application/vnd.jupyter.widget-view+json": {
       "model_id": "",
       "version_major": 2,
       "version_minor": 0
      },
      "text/plain": [
       "Validation: |                                                                                    | 0/? [00:00<…"
      ]
     },
     "metadata": {},
     "output_type": "display_data"
    },
    {
     "data": {
      "application/vnd.jupyter.widget-view+json": {
       "model_id": "",
       "version_major": 2,
       "version_minor": 0
      },
      "text/plain": [
       "Validation: |                                                                                    | 0/? [00:00<…"
      ]
     },
     "metadata": {},
     "output_type": "display_data"
    },
    {
     "data": {
      "application/vnd.jupyter.widget-view+json": {
       "model_id": "",
       "version_major": 2,
       "version_minor": 0
      },
      "text/plain": [
       "Validation: |                                                                                    | 0/? [00:00<…"
      ]
     },
     "metadata": {},
     "output_type": "display_data"
    },
    {
     "data": {
      "application/vnd.jupyter.widget-view+json": {
       "model_id": "",
       "version_major": 2,
       "version_minor": 0
      },
      "text/plain": [
       "Validation: |                                                                                    | 0/? [00:00<…"
      ]
     },
     "metadata": {},
     "output_type": "display_data"
    },
    {
     "data": {
      "application/vnd.jupyter.widget-view+json": {
       "model_id": "",
       "version_major": 2,
       "version_minor": 0
      },
      "text/plain": [
       "Validation: |                                                                                    | 0/? [00:00<…"
      ]
     },
     "metadata": {},
     "output_type": "display_data"
    },
    {
     "data": {
      "application/vnd.jupyter.widget-view+json": {
       "model_id": "",
       "version_major": 2,
       "version_minor": 0
      },
      "text/plain": [
       "Validation: |                                                                                    | 0/? [00:00<…"
      ]
     },
     "metadata": {},
     "output_type": "display_data"
    },
    {
     "data": {
      "application/vnd.jupyter.widget-view+json": {
       "model_id": "",
       "version_major": 2,
       "version_minor": 0
      },
      "text/plain": [
       "Validation: |                                                                                    | 0/? [00:00<…"
      ]
     },
     "metadata": {},
     "output_type": "display_data"
    },
    {
     "data": {
      "application/vnd.jupyter.widget-view+json": {
       "model_id": "",
       "version_major": 2,
       "version_minor": 0
      },
      "text/plain": [
       "Validation: |                                                                                    | 0/? [00:00<…"
      ]
     },
     "metadata": {},
     "output_type": "display_data"
    },
    {
     "data": {
      "application/vnd.jupyter.widget-view+json": {
       "model_id": "",
       "version_major": 2,
       "version_minor": 0
      },
      "text/plain": [
       "Validation: |                                                                                    | 0/? [00:00<…"
      ]
     },
     "metadata": {},
     "output_type": "display_data"
    },
    {
     "data": {
      "application/vnd.jupyter.widget-view+json": {
       "model_id": "",
       "version_major": 2,
       "version_minor": 0
      },
      "text/plain": [
       "Validation: |                                                                                    | 0/? [00:00<…"
      ]
     },
     "metadata": {},
     "output_type": "display_data"
    },
    {
     "data": {
      "application/vnd.jupyter.widget-view+json": {
       "model_id": "",
       "version_major": 2,
       "version_minor": 0
      },
      "text/plain": [
       "Validation: |                                                                                    | 0/? [00:00<…"
      ]
     },
     "metadata": {},
     "output_type": "display_data"
    },
    {
     "data": {
      "application/vnd.jupyter.widget-view+json": {
       "model_id": "",
       "version_major": 2,
       "version_minor": 0
      },
      "text/plain": [
       "Validation: |                                                                                    | 0/? [00:00<…"
      ]
     },
     "metadata": {},
     "output_type": "display_data"
    },
    {
     "data": {
      "application/vnd.jupyter.widget-view+json": {
       "model_id": "a1dc1399b45c4ea08e745b0db4117709",
       "version_major": 2,
       "version_minor": 0
      },
      "text/plain": [
       "Validation: |                                                                                    | 0/? [00:00<…"
      ]
     },
     "metadata": {},
     "output_type": "display_data"
    },
    {
     "data": {
      "application/vnd.jupyter.widget-view+json": {
       "model_id": "82a1f3edb84d4ca9803507571b41678b",
       "version_major": 2,
       "version_minor": 0
      },
      "text/plain": [
       "Validation: |                                                                                    | 0/? [00:00<…"
      ]
     },
     "metadata": {},
     "output_type": "display_data"
    },
    {
     "data": {
      "application/vnd.jupyter.widget-view+json": {
       "model_id": "a470ce9ba23649409414bfdc5bab803a",
       "version_major": 2,
       "version_minor": 0
      },
      "text/plain": [
       "Validation: |                                                                                    | 0/? [00:00<…"
      ]
     },
     "metadata": {},
     "output_type": "display_data"
    },
    {
     "data": {
      "application/vnd.jupyter.widget-view+json": {
       "model_id": "bd68dd6a2af1468aa83ef31db3eba973",
       "version_major": 2,
       "version_minor": 0
      },
      "text/plain": [
       "Validation: |                                                                                    | 0/? [00:00<…"
      ]
     },
     "metadata": {},
     "output_type": "display_data"
    },
    {
     "data": {
      "application/vnd.jupyter.widget-view+json": {
       "model_id": "cbe8496858d348f2aa91383f8578c6da",
       "version_major": 2,
       "version_minor": 0
      },
      "text/plain": [
       "Validation: |                                                                                    | 0/? [00:00<…"
      ]
     },
     "metadata": {},
     "output_type": "display_data"
    },
    {
     "data": {
      "application/vnd.jupyter.widget-view+json": {
       "model_id": "4426ed29480c462f8b2cf9b8bb007041",
       "version_major": 2,
       "version_minor": 0
      },
      "text/plain": [
       "Validation: |                                                                                    | 0/? [00:00<…"
      ]
     },
     "metadata": {},
     "output_type": "display_data"
    },
    {
     "data": {
      "application/vnd.jupyter.widget-view+json": {
       "model_id": "3b1497fa59e742f2822326391a61b017",
       "version_major": 2,
       "version_minor": 0
      },
      "text/plain": [
       "Validation: |                                                                                    | 0/? [00:00<…"
      ]
     },
     "metadata": {},
     "output_type": "display_data"
    },
    {
     "data": {
      "application/vnd.jupyter.widget-view+json": {
       "model_id": "9c4b86357fe6435fa0e38b78730b9110",
       "version_major": 2,
       "version_minor": 0
      },
      "text/plain": [
       "Validation: |                                                                                    | 0/? [00:00<…"
      ]
     },
     "metadata": {},
     "output_type": "display_data"
    },
    {
     "data": {
      "application/vnd.jupyter.widget-view+json": {
       "model_id": "8d5265510e694ac9ba9ff7311e3cd51d",
       "version_major": 2,
       "version_minor": 0
      },
      "text/plain": [
       "Validation: |                                                                                    | 0/? [00:00<…"
      ]
     },
     "metadata": {},
     "output_type": "display_data"
    },
    {
     "data": {
      "application/vnd.jupyter.widget-view+json": {
       "model_id": "58f18d85fc2543569dae509a8537c206",
       "version_major": 2,
       "version_minor": 0
      },
      "text/plain": [
       "Validation: |                                                                                    | 0/? [00:00<…"
      ]
     },
     "metadata": {},
     "output_type": "display_data"
    },
    {
     "data": {
      "application/vnd.jupyter.widget-view+json": {
       "model_id": "689437b7547e4600b148fae038a1dd91",
       "version_major": 2,
       "version_minor": 0
      },
      "text/plain": [
       "Validation: |                                                                                    | 0/? [00:00<…"
      ]
     },
     "metadata": {},
     "output_type": "display_data"
    },
    {
     "data": {
      "application/vnd.jupyter.widget-view+json": {
       "model_id": "034be84bd55c429aa53c9e8a5d73c287",
       "version_major": 2,
       "version_minor": 0
      },
      "text/plain": [
       "Validation: |                                                                                    | 0/? [00:00<…"
      ]
     },
     "metadata": {},
     "output_type": "display_data"
    },
    {
     "data": {
      "application/vnd.jupyter.widget-view+json": {
       "model_id": "c90ce9e8129c4cfdbc00677a2ce9aea7",
       "version_major": 2,
       "version_minor": 0
      },
      "text/plain": [
       "Validation: |                                                                                    | 0/? [00:00<…"
      ]
     },
     "metadata": {},
     "output_type": "display_data"
    },
    {
     "data": {
      "application/vnd.jupyter.widget-view+json": {
       "model_id": "991a6e32e0db4cf1b917779467e8a1e7",
       "version_major": 2,
       "version_minor": 0
      },
      "text/plain": [
       "Validation: |                                                                                    | 0/? [00:00<…"
      ]
     },
     "metadata": {},
     "output_type": "display_data"
    },
    {
     "data": {
      "application/vnd.jupyter.widget-view+json": {
       "model_id": "83c8f9cfbe6744e3a68c3f34403930c5",
       "version_major": 2,
       "version_minor": 0
      },
      "text/plain": [
       "Validation: |                                                                                    | 0/? [00:00<…"
      ]
     },
     "metadata": {},
     "output_type": "display_data"
    },
    {
     "data": {
      "application/vnd.jupyter.widget-view+json": {
       "model_id": "02c7955a7f4d40a0aa7db4ad17059e92",
       "version_major": 2,
       "version_minor": 0
      },
      "text/plain": [
       "Validation: |                                                                                    | 0/? [00:00<…"
      ]
     },
     "metadata": {},
     "output_type": "display_data"
    },
    {
     "data": {
      "application/vnd.jupyter.widget-view+json": {
       "model_id": "17331bf8a1e5466682c676bb7a35296f",
       "version_major": 2,
       "version_minor": 0
      },
      "text/plain": [
       "Validation: |                                                                                    | 0/? [00:00<…"
      ]
     },
     "metadata": {},
     "output_type": "display_data"
    },
    {
     "data": {
      "application/vnd.jupyter.widget-view+json": {
       "model_id": "0ba8333d49ba40eba3d025e32bae8c77",
       "version_major": 2,
       "version_minor": 0
      },
      "text/plain": [
       "Validation: |                                                                                    | 0/? [00:00<…"
      ]
     },
     "metadata": {},
     "output_type": "display_data"
    },
    {
     "data": {
      "application/vnd.jupyter.widget-view+json": {
       "model_id": "3f4972ca68fb4e489560dd88eeb91c50",
       "version_major": 2,
       "version_minor": 0
      },
      "text/plain": [
       "Validation: |                                                                                    | 0/? [00:00<…"
      ]
     },
     "metadata": {},
     "output_type": "display_data"
    },
    {
     "data": {
      "application/vnd.jupyter.widget-view+json": {
       "model_id": "56d34dc81e574995b62c861df9d9835f",
       "version_major": 2,
       "version_minor": 0
      },
      "text/plain": [
       "Validation: |                                                                                    | 0/? [00:00<…"
      ]
     },
     "metadata": {},
     "output_type": "display_data"
    },
    {
     "data": {
      "application/vnd.jupyter.widget-view+json": {
       "model_id": "86b5f59206e54cb1967872340304db55",
       "version_major": 2,
       "version_minor": 0
      },
      "text/plain": [
       "Validation: |                                                                                    | 0/? [00:00<…"
      ]
     },
     "metadata": {},
     "output_type": "display_data"
    },
    {
     "data": {
      "application/vnd.jupyter.widget-view+json": {
       "model_id": "df6d145721e94688a383645ba9393c22",
       "version_major": 2,
       "version_minor": 0
      },
      "text/plain": [
       "Validation: |                                                                                    | 0/? [00:00<…"
      ]
     },
     "metadata": {},
     "output_type": "display_data"
    },
    {
     "data": {
      "application/vnd.jupyter.widget-view+json": {
       "model_id": "d84c5e94d03c498a8dd3965f00e35154",
       "version_major": 2,
       "version_minor": 0
      },
      "text/plain": [
       "Validation: |                                                                                    | 0/? [00:00<…"
      ]
     },
     "metadata": {},
     "output_type": "display_data"
    },
    {
     "data": {
      "application/vnd.jupyter.widget-view+json": {
       "model_id": "8882b69486434e36aa4a097a7c85702d",
       "version_major": 2,
       "version_minor": 0
      },
      "text/plain": [
       "Validation: |                                                                                    | 0/? [00:00<…"
      ]
     },
     "metadata": {},
     "output_type": "display_data"
    },
    {
     "data": {
      "application/vnd.jupyter.widget-view+json": {
       "model_id": "05760f3c077a443587342a4f9655640e",
       "version_major": 2,
       "version_minor": 0
      },
      "text/plain": [
       "Validation: |                                                                                    | 0/? [00:00<…"
      ]
     },
     "metadata": {},
     "output_type": "display_data"
    },
    {
     "data": {
      "application/vnd.jupyter.widget-view+json": {
       "model_id": "9f4ae0054c4f43fda88ebe1c6490b54e",
       "version_major": 2,
       "version_minor": 0
      },
      "text/plain": [
       "Validation: |                                                                                    | 0/? [00:00<…"
      ]
     },
     "metadata": {},
     "output_type": "display_data"
    },
    {
     "data": {
      "application/vnd.jupyter.widget-view+json": {
       "model_id": "0298a580c55441d485c2d9967362f6c1",
       "version_major": 2,
       "version_minor": 0
      },
      "text/plain": [
       "Validation: |                                                                                    | 0/? [00:00<…"
      ]
     },
     "metadata": {},
     "output_type": "display_data"
    },
    {
     "data": {
      "application/vnd.jupyter.widget-view+json": {
       "model_id": "3dd128fca64545d0b2479d399a4f64ed",
       "version_major": 2,
       "version_minor": 0
      },
      "text/plain": [
       "Validation: |                                                                                    | 0/? [00:00<…"
      ]
     },
     "metadata": {},
     "output_type": "display_data"
    },
    {
     "data": {
      "application/vnd.jupyter.widget-view+json": {
       "model_id": "818156edf2b64564a7a10a5ca84fe013",
       "version_major": 2,
       "version_minor": 0
      },
      "text/plain": [
       "Validation: |                                                                                    | 0/? [00:00<…"
      ]
     },
     "metadata": {},
     "output_type": "display_data"
    },
    {
     "data": {
      "application/vnd.jupyter.widget-view+json": {
       "model_id": "c7cf266e459843efa1389e1b6e10b320",
       "version_major": 2,
       "version_minor": 0
      },
      "text/plain": [
       "Validation: |                                                                                    | 0/? [00:00<…"
      ]
     },
     "metadata": {},
     "output_type": "display_data"
    },
    {
     "data": {
      "application/vnd.jupyter.widget-view+json": {
       "model_id": "a39a66a5052a4459b5442d9c1129224c",
       "version_major": 2,
       "version_minor": 0
      },
      "text/plain": [
       "Validation: |                                                                                    | 0/? [00:00<…"
      ]
     },
     "metadata": {},
     "output_type": "display_data"
    },
    {
     "data": {
      "application/vnd.jupyter.widget-view+json": {
       "model_id": "1a60b013c39c4c36a622e7d3b85e1a1f",
       "version_major": 2,
       "version_minor": 0
      },
      "text/plain": [
       "Validation: |                                                                                    | 0/? [00:00<…"
      ]
     },
     "metadata": {},
     "output_type": "display_data"
    },
    {
     "data": {
      "application/vnd.jupyter.widget-view+json": {
       "model_id": "ee549f7b202a47b0a5c87ad2ca6f8ba2",
       "version_major": 2,
       "version_minor": 0
      },
      "text/plain": [
       "Validation: |                                                                                    | 0/? [00:00<…"
      ]
     },
     "metadata": {},
     "output_type": "display_data"
    },
    {
     "data": {
      "application/vnd.jupyter.widget-view+json": {
       "model_id": "a56539a697534226afc8132b066edf81",
       "version_major": 2,
       "version_minor": 0
      },
      "text/plain": [
       "Validation: |                                                                                    | 0/? [00:00<…"
      ]
     },
     "metadata": {},
     "output_type": "display_data"
    },
    {
     "data": {
      "application/vnd.jupyter.widget-view+json": {
       "model_id": "b4c7d5bfa46e4cdc9517baaee8c53567",
       "version_major": 2,
       "version_minor": 0
      },
      "text/plain": [
       "Validation: |                                                                                    | 0/? [00:00<…"
      ]
     },
     "metadata": {},
     "output_type": "display_data"
    },
    {
     "data": {
      "application/vnd.jupyter.widget-view+json": {
       "model_id": "e7d87ee66ce240dd8ede59fc6bb316b0",
       "version_major": 2,
       "version_minor": 0
      },
      "text/plain": [
       "Validation: |                                                                                    | 0/? [00:00<…"
      ]
     },
     "metadata": {},
     "output_type": "display_data"
    },
    {
     "data": {
      "application/vnd.jupyter.widget-view+json": {
       "model_id": "0d0c4932735c4cca9fefe87ba6547861",
       "version_major": 2,
       "version_minor": 0
      },
      "text/plain": [
       "Validation: |                                                                                    | 0/? [00:00<…"
      ]
     },
     "metadata": {},
     "output_type": "display_data"
    },
    {
     "data": {
      "application/vnd.jupyter.widget-view+json": {
       "model_id": "f63936664f5d4953bc54ce77a3772ceb",
       "version_major": 2,
       "version_minor": 0
      },
      "text/plain": [
       "Validation: |                                                                                    | 0/? [00:00<…"
      ]
     },
     "metadata": {},
     "output_type": "display_data"
    },
    {
     "data": {
      "application/vnd.jupyter.widget-view+json": {
       "model_id": "d6b77339b2f44e4486d16d84722661d1",
       "version_major": 2,
       "version_minor": 0
      },
      "text/plain": [
       "Validation: |                                                                                    | 0/? [00:00<…"
      ]
     },
     "metadata": {},
     "output_type": "display_data"
    },
    {
     "data": {
      "application/vnd.jupyter.widget-view+json": {
       "model_id": "3f8fe254f69b45b99eee3e47d35a5af3",
       "version_major": 2,
       "version_minor": 0
      },
      "text/plain": [
       "Validation: |                                                                                    | 0/? [00:00<…"
      ]
     },
     "metadata": {},
     "output_type": "display_data"
    },
    {
     "data": {
      "application/vnd.jupyter.widget-view+json": {
       "model_id": "c243652930784702b9552b0708bf45e2",
       "version_major": 2,
       "version_minor": 0
      },
      "text/plain": [
       "Validation: |                                                                                    | 0/? [00:00<…"
      ]
     },
     "metadata": {},
     "output_type": "display_data"
    },
    {
     "data": {
      "application/vnd.jupyter.widget-view+json": {
       "model_id": "94ddaf8d86ca4edda836a16cbf3bbfa1",
       "version_major": 2,
       "version_minor": 0
      },
      "text/plain": [
       "Validation: |                                                                                    | 0/? [00:00<…"
      ]
     },
     "metadata": {},
     "output_type": "display_data"
    },
    {
     "data": {
      "application/vnd.jupyter.widget-view+json": {
       "model_id": "56ed7dc994694942bb99b7f34be6709f",
       "version_major": 2,
       "version_minor": 0
      },
      "text/plain": [
       "Validation: |                                                                                    | 0/? [00:00<…"
      ]
     },
     "metadata": {},
     "output_type": "display_data"
    },
    {
     "data": {
      "application/vnd.jupyter.widget-view+json": {
       "model_id": "72cbd96a7e0b4e8ca14f8d6a2e1abc8a",
       "version_major": 2,
       "version_minor": 0
      },
      "text/plain": [
       "Validation: |                                                                                    | 0/? [00:00<…"
      ]
     },
     "metadata": {},
     "output_type": "display_data"
    },
    {
     "data": {
      "application/vnd.jupyter.widget-view+json": {
       "model_id": "081af8c1e8614048a2e2efb7ab630fe3",
       "version_major": 2,
       "version_minor": 0
      },
      "text/plain": [
       "Validation: |                                                                                    | 0/? [00:00<…"
      ]
     },
     "metadata": {},
     "output_type": "display_data"
    },
    {
     "data": {
      "application/vnd.jupyter.widget-view+json": {
       "model_id": "dfc8b6a6598e4c7f9a7981003202da72",
       "version_major": 2,
       "version_minor": 0
      },
      "text/plain": [
       "Validation: |                                                                                    | 0/? [00:00<…"
      ]
     },
     "metadata": {},
     "output_type": "display_data"
    },
    {
     "data": {
      "application/vnd.jupyter.widget-view+json": {
       "model_id": "cf1e094633bb4ff29f2c89894fd911e3",
       "version_major": 2,
       "version_minor": 0
      },
      "text/plain": [
       "Validation: |                                                                                    | 0/? [00:00<…"
      ]
     },
     "metadata": {},
     "output_type": "display_data"
    },
    {
     "data": {
      "application/vnd.jupyter.widget-view+json": {
       "model_id": "d1188eef03a1404286760eb6f9d7d7e4",
       "version_major": 2,
       "version_minor": 0
      },
      "text/plain": [
       "Validation: |                                                                                    | 0/? [00:00<…"
      ]
     },
     "metadata": {},
     "output_type": "display_data"
    },
    {
     "data": {
      "application/vnd.jupyter.widget-view+json": {
       "model_id": "69f6eb1541464e63ab48058356010013",
       "version_major": 2,
       "version_minor": 0
      },
      "text/plain": [
       "Validation: |                                                                                    | 0/? [00:00<…"
      ]
     },
     "metadata": {},
     "output_type": "display_data"
    },
    {
     "data": {
      "application/vnd.jupyter.widget-view+json": {
       "model_id": "ee9df457db0b4a77976f0147881994b3",
       "version_major": 2,
       "version_minor": 0
      },
      "text/plain": [
       "Validation: |                                                                                    | 0/? [00:00<…"
      ]
     },
     "metadata": {},
     "output_type": "display_data"
    },
    {
     "data": {
      "application/vnd.jupyter.widget-view+json": {
       "model_id": "9c8bc72126e34bdc9e1deac600b4c597",
       "version_major": 2,
       "version_minor": 0
      },
      "text/plain": [
       "Validation: |                                                                                    | 0/? [00:00<…"
      ]
     },
     "metadata": {},
     "output_type": "display_data"
    },
    {
     "data": {
      "application/vnd.jupyter.widget-view+json": {
       "model_id": "011b7d75da674ac68d5fc8b6d2490649",
       "version_major": 2,
       "version_minor": 0
      },
      "text/plain": [
       "Validation: |                                                                                    | 0/? [00:00<…"
      ]
     },
     "metadata": {},
     "output_type": "display_data"
    },
    {
     "data": {
      "application/vnd.jupyter.widget-view+json": {
       "model_id": "edf5ccee58754bc2a34d1599a067bb9e",
       "version_major": 2,
       "version_minor": 0
      },
      "text/plain": [
       "Validation: |                                                                                    | 0/? [00:00<…"
      ]
     },
     "metadata": {},
     "output_type": "display_data"
    },
    {
     "name": "stderr",
     "output_type": "stream",
     "text": [
      "`Trainer.fit` stopped: `max_epochs=100` reached.\n"
     ]
    },
    {
     "data": {
      "application/vnd.jupyter.widget-view+json": {
       "model_id": "8b4723df7b2a4a69b61bd5bf689d2156",
       "version_major": 2,
       "version_minor": 0
      },
      "text/plain": [
       "Testing: |                                                                                       | 0/? [00:00<…"
      ]
     },
     "metadata": {},
     "output_type": "display_data"
    },
    {
     "data": {
      "text/html": [
       "<pre style=\"white-space:pre;overflow-x:auto;line-height:normal;font-family:Menlo,'DejaVu Sans Mono',consolas,'Courier New',monospace\">┏━━━━━━━━━━━━━━━━━━━━━━━━━━━┳━━━━━━━━━━━━━━━━━━━━━━━━━━━┓\n",
       "┃<span style=\"font-weight: bold\">        Test metric        </span>┃<span style=\"font-weight: bold\">       DataLoader 0        </span>┃\n",
       "┡━━━━━━━━━━━━━━━━━━━━━━━━━━━╇━━━━━━━━━━━━━━━━━━━━━━━━━━━┩\n",
       "│<span style=\"color: #008080; text-decoration-color: #008080\">         test_loss         </span>│<span style=\"color: #800080; text-decoration-color: #800080\">    0.0716824159026146     </span>│\n",
       "│<span style=\"color: #008080; text-decoration-color: #008080\">         test_mae          </span>│<span style=\"color: #800080; text-decoration-color: #800080\">    0.17503145337104797    </span>│\n",
       "│<span style=\"color: #008080; text-decoration-color: #008080\">          test_r2          </span>│<span style=\"color: #800080; text-decoration-color: #800080\">    0.9269933700561523     </span>│\n",
       "└───────────────────────────┴───────────────────────────┘\n",
       "</pre>\n"
      ],
      "text/plain": [
       "┏━━━━━━━━━━━━━━━━━━━━━━━━━━━┳━━━━━━━━━━━━━━━━━━━━━━━━━━━┓\n",
       "┃\u001b[1m \u001b[0m\u001b[1m       Test metric       \u001b[0m\u001b[1m \u001b[0m┃\u001b[1m \u001b[0m\u001b[1m      DataLoader 0       \u001b[0m\u001b[1m \u001b[0m┃\n",
       "┡━━━━━━━━━━━━━━━━━━━━━━━━━━━╇━━━━━━━━━━━━━━━━━━━━━━━━━━━┩\n",
       "│\u001b[36m \u001b[0m\u001b[36m        test_loss        \u001b[0m\u001b[36m \u001b[0m│\u001b[35m \u001b[0m\u001b[35m   0.0716824159026146    \u001b[0m\u001b[35m \u001b[0m│\n",
       "│\u001b[36m \u001b[0m\u001b[36m        test_mae         \u001b[0m\u001b[36m \u001b[0m│\u001b[35m \u001b[0m\u001b[35m   0.17503145337104797   \u001b[0m\u001b[35m \u001b[0m│\n",
       "│\u001b[36m \u001b[0m\u001b[36m         test_r2         \u001b[0m\u001b[36m \u001b[0m│\u001b[35m \u001b[0m\u001b[35m   0.9269933700561523    \u001b[0m\u001b[35m \u001b[0m│\n",
       "└───────────────────────────┴───────────────────────────┘\n"
      ]
     },
     "metadata": {},
     "output_type": "display_data"
    },
    {
     "data": {
      "text/plain": [
       "[{'test_loss': 0.0716824159026146,\n",
       "  'test_r2': 0.9269933700561523,\n",
       "  'test_mae': 0.17503145337104797}]"
      ]
     },
     "execution_count": 134,
     "metadata": {},
     "output_type": "execute_result"
    }
   ],
   "source": [
    "vix_optimizer = RMSprop(vixrnn.parameters(),\n",
    "                         lr=0.001)\n",
    "\n",
    "vix_module = SimpleModule.regression(vixrnn,\n",
    "                                      optimizer=vix_optimizer,\n",
    "                                      metrics={'r2':R2Score(),\n",
    "                                              'mae':MeanAbsoluteError()})\n",
    "\n",
    "vix_trainer = Trainer(deterministic=True ,\n",
    "                       max_epochs=100,\n",
    "                       callbacks=[ErrorTracker()])\n",
    "\n",
    "vix_trainer.fit(vix_module ,\n",
    "                 datamodule=vix_dm)\n",
    "\n",
    "vix_trainer.test(vix_module ,\n",
    "                  datamodule=vix_dm)"
   ]
  },
  {
   "cell_type": "code",
   "execution_count": 144,
   "id": "acc3840c-8d8b-42c9-ba5d-c4e6adc53a6e",
   "metadata": {},
   "outputs": [],
   "source": [
    "X_test = torch.tensor(X_rnn[~train].astype(np.float32))\n",
    "\n",
    "\n",
    "y_pred = vixrnn(X_test)"
   ]
  },
  {
   "cell_type": "code",
   "execution_count": 148,
   "id": "30712137-73be-4661-9328-081826d19baf",
   "metadata": {},
   "outputs": [
    {
     "data": {
      "text/plain": [
       "<matplotlib.legend.Legend at 0x2306df8cbb0>"
      ]
     },
     "execution_count": 148,
     "metadata": {},
     "output_type": "execute_result"
    },
    {
     "data": {
      "image/png": "[encoded data removed]",
      "text/plain": [
       "<Figure size 800x600 with 1 Axes>"
      ]
     },
     "metadata": {},
     "output_type": "display_data"
    }
   ],
   "source": [
    "fig, ax = plt.subplots(1, 1, figsize=(8, 6))\n",
    "idx = X[~train].index\n",
    "Y_test = Y[~train]\n",
    "#y_pred = y_pred.detach().numpy()\n",
    "#print(idx)\n",
    "ax.plot(idx,y_pred,label = 'Prediction')\n",
    "ax.plot(idx,Y_test,label = 'Actual')\n",
    "ax.set_ylabel(\"Date\")\n",
    "ax.set_xlabel(\"log(vix)\")\n",
    "ax.legend()"
   ]
  },
  {
   "cell_type": "markdown",
   "id": "0f2d5410-1aa4-4358-8272-f9e96f4919f1",
   "metadata": {},
   "source": [
    "### Test the LSTM Model"
   ]
  },
  {
   "cell_type": "code",
   "execution_count": 154,
   "id": "c518bddb-454d-4270-b5a8-0dba6b2613fb",
   "metadata": {
    "scrolled": true
   },
   "outputs": [
    {
     "name": "stderr",
     "output_type": "stream",
     "text": [
      "GPU available: False, used: False\n",
      "TPU available: False, using: 0 TPU cores\n",
      "IPU available: False, using: 0 IPUs\n",
      "HPU available: False, using: 0 HPUs\n",
      "\n",
      "  | Name  | Type         | Params\n",
      "---------------------------------------\n",
      "0 | model | VIXLSTMModel | 829   \n",
      "1 | loss  | MSELoss      | 0     \n",
      "---------------------------------------\n",
      "829       Trainable params\n",
      "0         Non-trainable params\n",
      "829       Total params\n",
      "0.003     Total estimated model params size (MB)\n"
     ]
    },
    {
     "data": {
      "application/vnd.jupyter.widget-view+json": {
       "model_id": "",
       "version_major": 2,
       "version_minor": 0
      },
      "text/plain": [
       "Sanity Checking: |                                                                               | 0/? [00:00<…"
      ]
     },
     "metadata": {},
     "output_type": "display_data"
    },
    {
     "data": {
      "application/vnd.jupyter.widget-view+json": {
       "model_id": "5a5cddbf52b2450995e82158e9b0d528",
       "version_major": 2,
       "version_minor": 0
      },
      "text/plain": [
       "Training: |                                                                                      | 0/? [00:00<…"
      ]
     },
     "metadata": {},
     "output_type": "display_data"
    },
    {
     "data": {
      "application/vnd.jupyter.widget-view+json": {
       "model_id": "",
       "version_major": 2,
       "version_minor": 0
      },
      "text/plain": [
       "Validation: |                                                                                    | 0/? [00:00<…"
      ]
     },
     "metadata": {},
     "output_type": "display_data"
    },
    {
     "data": {
      "application/vnd.jupyter.widget-view+json": {
       "model_id": "",
       "version_major": 2,
       "version_minor": 0
      },
      "text/plain": [
       "Validation: |                                                                                    | 0/? [00:00<…"
      ]
     },
     "metadata": {},
     "output_type": "display_data"
    },
    {
     "data": {
      "application/vnd.jupyter.widget-view+json": {
       "model_id": "",
       "version_major": 2,
       "version_minor": 0
      },
      "text/plain": [
       "Validation: |                                                                                    | 0/? [00:00<…"
      ]
     },
     "metadata": {},
     "output_type": "display_data"
    },
    {
     "data": {
      "application/vnd.jupyter.widget-view+json": {
       "model_id": "",
       "version_major": 2,
       "version_minor": 0
      },
      "text/plain": [
       "Validation: |                                                                                    | 0/? [00:00<…"
      ]
     },
     "metadata": {},
     "output_type": "display_data"
    },
    {
     "data": {
      "application/vnd.jupyter.widget-view+json": {
       "model_id": "",
       "version_major": 2,
       "version_minor": 0
      },
      "text/plain": [
       "Validation: |                                                                                    | 0/? [00:00<…"
      ]
     },
     "metadata": {},
     "output_type": "display_data"
    },
    {
     "data": {
      "application/vnd.jupyter.widget-view+json": {
       "model_id": "",
       "version_major": 2,
       "version_minor": 0
      },
      "text/plain": [
       "Validation: |                                                                                    | 0/? [00:00<…"
      ]
     },
     "metadata": {},
     "output_type": "display_data"
    },
    {
     "data": {
      "application/vnd.jupyter.widget-view+json": {
       "model_id": "",
       "version_major": 2,
       "version_minor": 0
      },
      "text/plain": [
       "Validation: |                                                                                    | 0/? [00:00<…"
      ]
     },
     "metadata": {},
     "output_type": "display_data"
    },
    {
     "data": {
      "application/vnd.jupyter.widget-view+json": {
       "model_id": "",
       "version_major": 2,
       "version_minor": 0
      },
      "text/plain": [
       "Validation: |                                                                                    | 0/? [00:00<…"
      ]
     },
     "metadata": {},
     "output_type": "display_data"
    },
    {
     "data": {
      "application/vnd.jupyter.widget-view+json": {
       "model_id": "",
       "version_major": 2,
       "version_minor": 0
      },
      "text/plain": [
       "Validation: |                                                                                    | 0/? [00:00<…"
      ]
     },
     "metadata": {},
     "output_type": "display_data"
    },
    {
     "data": {
      "application/vnd.jupyter.widget-view+json": {
       "model_id": "",
       "version_major": 2,
       "version_minor": 0
      },
      "text/plain": [
       "Validation: |                                                                                    | 0/? [00:00<…"
      ]
     },
     "metadata": {},
     "output_type": "display_data"
    },
    {
     "data": {
      "application/vnd.jupyter.widget-view+json": {
       "model_id": "",
       "version_major": 2,
       "version_minor": 0
      },
      "text/plain": [
       "Validation: |                                                                                    | 0/? [00:00<…"
      ]
     },
     "metadata": {},
     "output_type": "display_data"
    },
    {
     "data": {
      "application/vnd.jupyter.widget-view+json": {
       "model_id": "",
       "version_major": 2,
       "version_minor": 0
      },
      "text/plain": [
       "Validation: |                                                                                    | 0/? [00:00<…"
      ]
     },
     "metadata": {},
     "output_type": "display_data"
    },
    {
     "data": {
      "application/vnd.jupyter.widget-view+json": {
       "model_id": "",
       "version_major": 2,
       "version_minor": 0
      },
      "text/plain": [
       "Validation: |                                                                                    | 0/? [00:00<…"
      ]
     },
     "metadata": {},
     "output_type": "display_data"
    },
    {
     "data": {
      "application/vnd.jupyter.widget-view+json": {
       "model_id": "",
       "version_major": 2,
       "version_minor": 0
      },
      "text/plain": [
       "Validation: |                                                                                    | 0/? [00:00<…"
      ]
     },
     "metadata": {},
     "output_type": "display_data"
    },
    {
     "data": {
      "application/vnd.jupyter.widget-view+json": {
       "model_id": "",
       "version_major": 2,
       "version_minor": 0
      },
      "text/plain": [
       "Validation: |                                                                                    | 0/? [00:00<…"
      ]
     },
     "metadata": {},
     "output_type": "display_data"
    },
    {
     "data": {
      "application/vnd.jupyter.widget-view+json": {
       "model_id": "",
       "version_major": 2,
       "version_minor": 0
      },
      "text/plain": [
       "Validation: |                                                                                    | 0/? [00:00<…"
      ]
     },
     "metadata": {},
     "output_type": "display_data"
    },
    {
     "data": {
      "application/vnd.jupyter.widget-view+json": {
       "model_id": "",
       "version_major": 2,
       "version_minor": 0
      },
      "text/plain": [
       "Validation: |                                                                                    | 0/? [00:00<…"
      ]
     },
     "metadata": {},
     "output_type": "display_data"
    },
    {
     "data": {
      "application/vnd.jupyter.widget-view+json": {
       "model_id": "",
       "version_major": 2,
       "version_minor": 0
      },
      "text/plain": [
       "Validation: |                                                                                    | 0/? [00:00<…"
      ]
     },
     "metadata": {},
     "output_type": "display_data"
    },
    {
     "data": {
      "application/vnd.jupyter.widget-view+json": {
       "model_id": "",
       "version_major": 2,
       "version_minor": 0
      },
      "text/plain": [
       "Validation: |                                                                                    | 0/? [00:00<…"
      ]
     },
     "metadata": {},
     "output_type": "display_data"
    },
    {
     "data": {
      "application/vnd.jupyter.widget-view+json": {
       "model_id": "",
       "version_major": 2,
       "version_minor": 0
      },
      "text/plain": [
       "Validation: |                                                                                    | 0/? [00:00<…"
      ]
     },
     "metadata": {},
     "output_type": "display_data"
    },
    {
     "data": {
      "application/vnd.jupyter.widget-view+json": {
       "model_id": "",
       "version_major": 2,
       "version_minor": 0
      },
      "text/plain": [
       "Validation: |                                                                                    | 0/? [00:00<…"
      ]
     },
     "metadata": {},
     "output_type": "display_data"
    },
    {
     "data": {
      "application/vnd.jupyter.widget-view+json": {
       "model_id": "",
       "version_major": 2,
       "version_minor": 0
      },
      "text/plain": [
       "Validation: |                                                                                    | 0/? [00:00<…"
      ]
     },
     "metadata": {},
     "output_type": "display_data"
    },
    {
     "data": {
      "application/vnd.jupyter.widget-view+json": {
       "model_id": "",
       "version_major": 2,
       "version_minor": 0
      },
      "text/plain": [
       "Validation: |                                                                                    | 0/? [00:00<…"
      ]
     },
     "metadata": {},
     "output_type": "display_data"
    },
    {
     "data": {
      "application/vnd.jupyter.widget-view+json": {
       "model_id": "",
       "version_major": 2,
       "version_minor": 0
      },
      "text/plain": [
       "Validation: |                                                                                    | 0/? [00:00<…"
      ]
     },
     "metadata": {},
     "output_type": "display_data"
    },
    {
     "data": {
      "application/vnd.jupyter.widget-view+json": {
       "model_id": "",
       "version_major": 2,
       "version_minor": 0
      },
      "text/plain": [
       "Validation: |                                                                                    | 0/? [00:00<…"
      ]
     },
     "metadata": {},
     "output_type": "display_data"
    },
    {
     "data": {
      "application/vnd.jupyter.widget-view+json": {
       "model_id": "",
       "version_major": 2,
       "version_minor": 0
      },
      "text/plain": [
       "Validation: |                                                                                    | 0/? [00:00<…"
      ]
     },
     "metadata": {},
     "output_type": "display_data"
    },
    {
     "data": {
      "application/vnd.jupyter.widget-view+json": {
       "model_id": "",
       "version_major": 2,
       "version_minor": 0
      },
      "text/plain": [
       "Validation: |                                                                                    | 0/? [00:00<…"
      ]
     },
     "metadata": {},
     "output_type": "display_data"
    },
    {
     "data": {
      "application/vnd.jupyter.widget-view+json": {
       "model_id": "",
       "version_major": 2,
       "version_minor": 0
      },
      "text/plain": [
       "Validation: |                                                                                    | 0/? [00:00<…"
      ]
     },
     "metadata": {},
     "output_type": "display_data"
    },
    {
     "data": {
      "application/vnd.jupyter.widget-view+json": {
       "model_id": "",
       "version_major": 2,
       "version_minor": 0
      },
      "text/plain": [
       "Validation: |                                                                                    | 0/? [00:00<…"
      ]
     },
     "metadata": {},
     "output_type": "display_data"
    },
    {
     "data": {
      "application/vnd.jupyter.widget-view+json": {
       "model_id": "",
       "version_major": 2,
       "version_minor": 0
      },
      "text/plain": [
       "Validation: |                                                                                    | 0/? [00:00<…"
      ]
     },
     "metadata": {},
     "output_type": "display_data"
    },
    {
     "data": {
      "application/vnd.jupyter.widget-view+json": {
       "model_id": "",
       "version_major": 2,
       "version_minor": 0
      },
      "text/plain": [
       "Validation: |                                                                                    | 0/? [00:00<…"
      ]
     },
     "metadata": {},
     "output_type": "display_data"
    },
    {
     "data": {
      "application/vnd.jupyter.widget-view+json": {
       "model_id": "",
       "version_major": 2,
       "version_minor": 0
      },
      "text/plain": [
       "Validation: |                                                                                    | 0/? [00:00<…"
      ]
     },
     "metadata": {},
     "output_type": "display_data"
    },
    {
     "data": {
      "application/vnd.jupyter.widget-view+json": {
       "model_id": "",
       "version_major": 2,
       "version_minor": 0
      },
      "text/plain": [
       "Validation: |                                                                                    | 0/? [00:00<…"
      ]
     },
     "metadata": {},
     "output_type": "display_data"
    },
    {
     "data": {
      "application/vnd.jupyter.widget-view+json": {
       "model_id": "",
       "version_major": 2,
       "version_minor": 0
      },
      "text/plain": [
       "Validation: |                                                                                    | 0/? [00:00<…"
      ]
     },
     "metadata": {},
     "output_type": "display_data"
    },
    {
     "data": {
      "application/vnd.jupyter.widget-view+json": {
       "model_id": "",
       "version_major": 2,
       "version_minor": 0
      },
      "text/plain": [
       "Validation: |                                                                                    | 0/? [00:00<…"
      ]
     },
     "metadata": {},
     "output_type": "display_data"
    },
    {
     "data": {
      "application/vnd.jupyter.widget-view+json": {
       "model_id": "",
       "version_major": 2,
       "version_minor": 0
      },
      "text/plain": [
       "Validation: |                                                                                    | 0/? [00:00<…"
      ]
     },
     "metadata": {},
     "output_type": "display_data"
    },
    {
     "data": {
      "application/vnd.jupyter.widget-view+json": {
       "model_id": "",
       "version_major": 2,
       "version_minor": 0
      },
      "text/plain": [
       "Validation: |                                                                                    | 0/? [00:00<…"
      ]
     },
     "metadata": {},
     "output_type": "display_data"
    },
    {
     "data": {
      "application/vnd.jupyter.widget-view+json": {
       "model_id": "",
       "version_major": 2,
       "version_minor": 0
      },
      "text/plain": [
       "Validation: |                                                                                    | 0/? [00:00<…"
      ]
     },
     "metadata": {},
     "output_type": "display_data"
    },
    {
     "data": {
      "application/vnd.jupyter.widget-view+json": {
       "model_id": "",
       "version_major": 2,
       "version_minor": 0
      },
      "text/plain": [
       "Validation: |                                                                                    | 0/? [00:00<…"
      ]
     },
     "metadata": {},
     "output_type": "display_data"
    },
    {
     "data": {
      "application/vnd.jupyter.widget-view+json": {
       "model_id": "",
       "version_major": 2,
       "version_minor": 0
      },
      "text/plain": [
       "Validation: |                                                                                    | 0/? [00:00<…"
      ]
     },
     "metadata": {},
     "output_type": "display_data"
    },
    {
     "data": {
      "application/vnd.jupyter.widget-view+json": {
       "model_id": "",
       "version_major": 2,
       "version_minor": 0
      },
      "text/plain": [
       "Validation: |                                                                                    | 0/? [00:00<…"
      ]
     },
     "metadata": {},
     "output_type": "display_data"
    },
    {
     "data": {
      "application/vnd.jupyter.widget-view+json": {
       "model_id": "",
       "version_major": 2,
       "version_minor": 0
      },
      "text/plain": [
       "Validation: |                                                                                    | 0/? [00:00<…"
      ]
     },
     "metadata": {},
     "output_type": "display_data"
    },
    {
     "data": {
      "application/vnd.jupyter.widget-view+json": {
       "model_id": "",
       "version_major": 2,
       "version_minor": 0
      },
      "text/plain": [
       "Validation: |                                                                                    | 0/? [00:00<…"
      ]
     },
     "metadata": {},
     "output_type": "display_data"
    },
    {
     "data": {
      "application/vnd.jupyter.widget-view+json": {
       "model_id": "",
       "version_major": 2,
       "version_minor": 0
      },
      "text/plain": [
       "Validation: |                                                                                    | 0/? [00:00<…"
      ]
     },
     "metadata": {},
     "output_type": "display_data"
    },
    {
     "data": {
      "application/vnd.jupyter.widget-view+json": {
       "model_id": "",
       "version_major": 2,
       "version_minor": 0
      },
      "text/plain": [
       "Validation: |                                                                                    | 0/? [00:00<…"
      ]
     },
     "metadata": {},
     "output_type": "display_data"
    },
    {
     "data": {
      "application/vnd.jupyter.widget-view+json": {
       "model_id": "",
       "version_major": 2,
       "version_minor": 0
      },
      "text/plain": [
       "Validation: |                                                                                    | 0/? [00:00<…"
      ]
     },
     "metadata": {},
     "output_type": "display_data"
    },
    {
     "data": {
      "application/vnd.jupyter.widget-view+json": {
       "model_id": "",
       "version_major": 2,
       "version_minor": 0
      },
      "text/plain": [
       "Validation: |                                                                                    | 0/? [00:00<…"
      ]
     },
     "metadata": {},
     "output_type": "display_data"
    },
    {
     "data": {
      "application/vnd.jupyter.widget-view+json": {
       "model_id": "",
       "version_major": 2,
       "version_minor": 0
      },
      "text/plain": [
       "Validation: |                                                                                    | 0/? [00:00<…"
      ]
     },
     "metadata": {},
     "output_type": "display_data"
    },
    {
     "data": {
      "application/vnd.jupyter.widget-view+json": {
       "model_id": "",
       "version_major": 2,
       "version_minor": 0
      },
      "text/plain": [
       "Validation: |                                                                                    | 0/? [00:00<…"
      ]
     },
     "metadata": {},
     "output_type": "display_data"
    },
    {
     "data": {
      "application/vnd.jupyter.widget-view+json": {
       "model_id": "",
       "version_major": 2,
       "version_minor": 0
      },
      "text/plain": [
       "Validation: |                                                                                    | 0/? [00:00<…"
      ]
     },
     "metadata": {},
     "output_type": "display_data"
    },
    {
     "data": {
      "application/vnd.jupyter.widget-view+json": {
       "model_id": "",
       "version_major": 2,
       "version_minor": 0
      },
      "text/plain": [
       "Validation: |                                                                                    | 0/? [00:00<…"
      ]
     },
     "metadata": {},
     "output_type": "display_data"
    },
    {
     "data": {
      "application/vnd.jupyter.widget-view+json": {
       "model_id": "",
       "version_major": 2,
       "version_minor": 0
      },
      "text/plain": [
       "Validation: |                                                                                    | 0/? [00:00<…"
      ]
     },
     "metadata": {},
     "output_type": "display_data"
    },
    {
     "data": {
      "application/vnd.jupyter.widget-view+json": {
       "model_id": "",
       "version_major": 2,
       "version_minor": 0
      },
      "text/plain": [
       "Validation: |                                                                                    | 0/? [00:00<…"
      ]
     },
     "metadata": {},
     "output_type": "display_data"
    },
    {
     "data": {
      "application/vnd.jupyter.widget-view+json": {
       "model_id": "",
       "version_major": 2,
       "version_minor": 0
      },
      "text/plain": [
       "Validation: |                                                                                    | 0/? [00:00<…"
      ]
     },
     "metadata": {},
     "output_type": "display_data"
    },
    {
     "data": {
      "application/vnd.jupyter.widget-view+json": {
       "model_id": "",
       "version_major": 2,
       "version_minor": 0
      },
      "text/plain": [
       "Validation: |                                                                                    | 0/? [00:00<…"
      ]
     },
     "metadata": {},
     "output_type": "display_data"
    },
    {
     "data": {
      "application/vnd.jupyter.widget-view+json": {
       "model_id": "",
       "version_major": 2,
       "version_minor": 0
      },
      "text/plain": [
       "Validation: |                                                                                    | 0/? [00:00<…"
      ]
     },
     "metadata": {},
     "output_type": "display_data"
    },
    {
     "data": {
      "application/vnd.jupyter.widget-view+json": {
       "model_id": "",
       "version_major": 2,
       "version_minor": 0
      },
      "text/plain": [
       "Validation: |                                                                                    | 0/? [00:00<…"
      ]
     },
     "metadata": {},
     "output_type": "display_data"
    },
    {
     "data": {
      "application/vnd.jupyter.widget-view+json": {
       "model_id": "",
       "version_major": 2,
       "version_minor": 0
      },
      "text/plain": [
       "Validation: |                                                                                    | 0/? [00:00<…"
      ]
     },
     "metadata": {},
     "output_type": "display_data"
    },
    {
     "data": {
      "application/vnd.jupyter.widget-view+json": {
       "model_id": "",
       "version_major": 2,
       "version_minor": 0
      },
      "text/plain": [
       "Validation: |                                                                                    | 0/? [00:00<…"
      ]
     },
     "metadata": {},
     "output_type": "display_data"
    },
    {
     "data": {
      "application/vnd.jupyter.widget-view+json": {
       "model_id": "",
       "version_major": 2,
       "version_minor": 0
      },
      "text/plain": [
       "Validation: |                                                                                    | 0/? [00:00<…"
      ]
     },
     "metadata": {},
     "output_type": "display_data"
    },
    {
     "data": {
      "application/vnd.jupyter.widget-view+json": {
       "model_id": "",
       "version_major": 2,
       "version_minor": 0
      },
      "text/plain": [
       "Validation: |                                                                                    | 0/? [00:00<…"
      ]
     },
     "metadata": {},
     "output_type": "display_data"
    },
    {
     "data": {
      "application/vnd.jupyter.widget-view+json": {
       "model_id": "",
       "version_major": 2,
       "version_minor": 0
      },
      "text/plain": [
       "Validation: |                                                                                    | 0/? [00:00<…"
      ]
     },
     "metadata": {},
     "output_type": "display_data"
    },
    {
     "data": {
      "application/vnd.jupyter.widget-view+json": {
       "model_id": "",
       "version_major": 2,
       "version_minor": 0
      },
      "text/plain": [
       "Validation: |                                                                                    | 0/? [00:00<…"
      ]
     },
     "metadata": {},
     "output_type": "display_data"
    },
    {
     "data": {
      "application/vnd.jupyter.widget-view+json": {
       "model_id": "",
       "version_major": 2,
       "version_minor": 0
      },
      "text/plain": [
       "Validation: |                                                                                    | 0/? [00:00<…"
      ]
     },
     "metadata": {},
     "output_type": "display_data"
    },
    {
     "data": {
      "application/vnd.jupyter.widget-view+json": {
       "model_id": "",
       "version_major": 2,
       "version_minor": 0
      },
      "text/plain": [
       "Validation: |                                                                                    | 0/? [00:00<…"
      ]
     },
     "metadata": {},
     "output_type": "display_data"
    },
    {
     "data": {
      "application/vnd.jupyter.widget-view+json": {
       "model_id": "",
       "version_major": 2,
       "version_minor": 0
      },
      "text/plain": [
       "Validation: |                                                                                    | 0/? [00:00<…"
      ]
     },
     "metadata": {},
     "output_type": "display_data"
    },
    {
     "data": {
      "application/vnd.jupyter.widget-view+json": {
       "model_id": "",
       "version_major": 2,
       "version_minor": 0
      },
      "text/plain": [
       "Validation: |                                                                                    | 0/? [00:00<…"
      ]
     },
     "metadata": {},
     "output_type": "display_data"
    },
    {
     "data": {
      "application/vnd.jupyter.widget-view+json": {
       "model_id": "",
       "version_major": 2,
       "version_minor": 0
      },
      "text/plain": [
       "Validation: |                                                                                    | 0/? [00:00<…"
      ]
     },
     "metadata": {},
     "output_type": "display_data"
    },
    {
     "data": {
      "application/vnd.jupyter.widget-view+json": {
       "model_id": "",
       "version_major": 2,
       "version_minor": 0
      },
      "text/plain": [
       "Validation: |                                                                                    | 0/? [00:00<…"
      ]
     },
     "metadata": {},
     "output_type": "display_data"
    },
    {
     "data": {
      "application/vnd.jupyter.widget-view+json": {
       "model_id": "",
       "version_major": 2,
       "version_minor": 0
      },
      "text/plain": [
       "Validation: |                                                                                    | 0/? [00:00<…"
      ]
     },
     "metadata": {},
     "output_type": "display_data"
    },
    {
     "data": {
      "application/vnd.jupyter.widget-view+json": {
       "model_id": "",
       "version_major": 2,
       "version_minor": 0
      },
      "text/plain": [
       "Validation: |                                                                                    | 0/? [00:00<…"
      ]
     },
     "metadata": {},
     "output_type": "display_data"
    },
    {
     "data": {
      "application/vnd.jupyter.widget-view+json": {
       "model_id": "",
       "version_major": 2,
       "version_minor": 0
      },
      "text/plain": [
       "Validation: |                                                                                    | 0/? [00:00<…"
      ]
     },
     "metadata": {},
     "output_type": "display_data"
    },
    {
     "data": {
      "application/vnd.jupyter.widget-view+json": {
       "model_id": "",
       "version_major": 2,
       "version_minor": 0
      },
      "text/plain": [
       "Validation: |                                                                                    | 0/? [00:00<…"
      ]
     },
     "metadata": {},
     "output_type": "display_data"
    },
    {
     "data": {
      "application/vnd.jupyter.widget-view+json": {
       "model_id": "",
       "version_major": 2,
       "version_minor": 0
      },
      "text/plain": [
       "Validation: |                                                                                    | 0/? [00:00<…"
      ]
     },
     "metadata": {},
     "output_type": "display_data"
    },
    {
     "data": {
      "application/vnd.jupyter.widget-view+json": {
       "model_id": "",
       "version_major": 2,
       "version_minor": 0
      },
      "text/plain": [
       "Validation: |                                                                                    | 0/? [00:00<…"
      ]
     },
     "metadata": {},
     "output_type": "display_data"
    },
    {
     "data": {
      "application/vnd.jupyter.widget-view+json": {
       "model_id": "",
       "version_major": 2,
       "version_minor": 0
      },
      "text/plain": [
       "Validation: |                                                                                    | 0/? [00:00<…"
      ]
     },
     "metadata": {},
     "output_type": "display_data"
    },
    {
     "data": {
      "application/vnd.jupyter.widget-view+json": {
       "model_id": "",
       "version_major": 2,
       "version_minor": 0
      },
      "text/plain": [
       "Validation: |                                                                                    | 0/? [00:00<…"
      ]
     },
     "metadata": {},
     "output_type": "display_data"
    },
    {
     "data": {
      "application/vnd.jupyter.widget-view+json": {
       "model_id": "",
       "version_major": 2,
       "version_minor": 0
      },
      "text/plain": [
       "Validation: |                                                                                    | 0/? [00:00<…"
      ]
     },
     "metadata": {},
     "output_type": "display_data"
    },
    {
     "data": {
      "application/vnd.jupyter.widget-view+json": {
       "model_id": "",
       "version_major": 2,
       "version_minor": 0
      },
      "text/plain": [
       "Validation: |                                                                                    | 0/? [00:00<…"
      ]
     },
     "metadata": {},
     "output_type": "display_data"
    },
    {
     "data": {
      "application/vnd.jupyter.widget-view+json": {
       "model_id": "",
       "version_major": 2,
       "version_minor": 0
      },
      "text/plain": [
       "Validation: |                                                                                    | 0/? [00:00<…"
      ]
     },
     "metadata": {},
     "output_type": "display_data"
    },
    {
     "data": {
      "application/vnd.jupyter.widget-view+json": {
       "model_id": "",
       "version_major": 2,
       "version_minor": 0
      },
      "text/plain": [
       "Validation: |                                                                                    | 0/? [00:00<…"
      ]
     },
     "metadata": {},
     "output_type": "display_data"
    },
    {
     "data": {
      "application/vnd.jupyter.widget-view+json": {
       "model_id": "",
       "version_major": 2,
       "version_minor": 0
      },
      "text/plain": [
       "Validation: |                                                                                    | 0/? [00:00<…"
      ]
     },
     "metadata": {},
     "output_type": "display_data"
    },
    {
     "data": {
      "application/vnd.jupyter.widget-view+json": {
       "model_id": "",
       "version_major": 2,
       "version_minor": 0
      },
      "text/plain": [
       "Validation: |                                                                                    | 0/? [00:00<…"
      ]
     },
     "metadata": {},
     "output_type": "display_data"
    },
    {
     "data": {
      "application/vnd.jupyter.widget-view+json": {
       "model_id": "",
       "version_major": 2,
       "version_minor": 0
      },
      "text/plain": [
       "Validation: |                                                                                    | 0/? [00:00<…"
      ]
     },
     "metadata": {},
     "output_type": "display_data"
    },
    {
     "data": {
      "application/vnd.jupyter.widget-view+json": {
       "model_id": "",
       "version_major": 2,
       "version_minor": 0
      },
      "text/plain": [
       "Validation: |                                                                                    | 0/? [00:00<…"
      ]
     },
     "metadata": {},
     "output_type": "display_data"
    },
    {
     "data": {
      "application/vnd.jupyter.widget-view+json": {
       "model_id": "",
       "version_major": 2,
       "version_minor": 0
      },
      "text/plain": [
       "Validation: |                                                                                    | 0/? [00:00<…"
      ]
     },
     "metadata": {},
     "output_type": "display_data"
    },
    {
     "data": {
      "application/vnd.jupyter.widget-view+json": {
       "model_id": "",
       "version_major": 2,
       "version_minor": 0
      },
      "text/plain": [
       "Validation: |                                                                                    | 0/? [00:00<…"
      ]
     },
     "metadata": {},
     "output_type": "display_data"
    },
    {
     "data": {
      "application/vnd.jupyter.widget-view+json": {
       "model_id": "",
       "version_major": 2,
       "version_minor": 0
      },
      "text/plain": [
       "Validation: |                                                                                    | 0/? [00:00<…"
      ]
     },
     "metadata": {},
     "output_type": "display_data"
    },
    {
     "data": {
      "application/vnd.jupyter.widget-view+json": {
       "model_id": "",
       "version_major": 2,
       "version_minor": 0
      },
      "text/plain": [
       "Validation: |                                                                                    | 0/? [00:00<…"
      ]
     },
     "metadata": {},
     "output_type": "display_data"
    },
    {
     "data": {
      "application/vnd.jupyter.widget-view+json": {
       "model_id": "",
       "version_major": 2,
       "version_minor": 0
      },
      "text/plain": [
       "Validation: |                                                                                    | 0/? [00:00<…"
      ]
     },
     "metadata": {},
     "output_type": "display_data"
    },
    {
     "data": {
      "application/vnd.jupyter.widget-view+json": {
       "model_id": "",
       "version_major": 2,
       "version_minor": 0
      },
      "text/plain": [
       "Validation: |                                                                                    | 0/? [00:00<…"
      ]
     },
     "metadata": {},
     "output_type": "display_data"
    },
    {
     "data": {
      "application/vnd.jupyter.widget-view+json": {
       "model_id": "",
       "version_major": 2,
       "version_minor": 0
      },
      "text/plain": [
       "Validation: |                                                                                    | 0/? [00:00<…"
      ]
     },
     "metadata": {},
     "output_type": "display_data"
    },
    {
     "data": {
      "application/vnd.jupyter.widget-view+json": {
       "model_id": "",
       "version_major": 2,
       "version_minor": 0
      },
      "text/plain": [
       "Validation: |                                                                                    | 0/? [00:00<…"
      ]
     },
     "metadata": {},
     "output_type": "display_data"
    },
    {
     "data": {
      "application/vnd.jupyter.widget-view+json": {
       "model_id": "",
       "version_major": 2,
       "version_minor": 0
      },
      "text/plain": [
       "Validation: |                                                                                    | 0/? [00:00<…"
      ]
     },
     "metadata": {},
     "output_type": "display_data"
    },
    {
     "data": {
      "application/vnd.jupyter.widget-view+json": {
       "model_id": "",
       "version_major": 2,
       "version_minor": 0
      },
      "text/plain": [
       "Validation: |                                                                                    | 0/? [00:00<…"
      ]
     },
     "metadata": {},
     "output_type": "display_data"
    },
    {
     "data": {
      "application/vnd.jupyter.widget-view+json": {
       "model_id": "",
       "version_major": 2,
       "version_minor": 0
      },
      "text/plain": [
       "Validation: |                                                                                    | 0/? [00:00<…"
      ]
     },
     "metadata": {},
     "output_type": "display_data"
    },
    {
     "data": {
      "application/vnd.jupyter.widget-view+json": {
       "model_id": "",
       "version_major": 2,
       "version_minor": 0
      },
      "text/plain": [
       "Validation: |                                                                                    | 0/? [00:00<…"
      ]
     },
     "metadata": {},
     "output_type": "display_data"
    },
    {
     "data": {
      "application/vnd.jupyter.widget-view+json": {
       "model_id": "",
       "version_major": 2,
       "version_minor": 0
      },
      "text/plain": [
       "Validation: |                                                                                    | 0/? [00:00<…"
      ]
     },
     "metadata": {},
     "output_type": "display_data"
    },
    {
     "data": {
      "application/vnd.jupyter.widget-view+json": {
       "model_id": "",
       "version_major": 2,
       "version_minor": 0
      },
      "text/plain": [
       "Validation: |                                                                                    | 0/? [00:00<…"
      ]
     },
     "metadata": {},
     "output_type": "display_data"
    },
    {
     "data": {
      "application/vnd.jupyter.widget-view+json": {
       "model_id": "",
       "version_major": 2,
       "version_minor": 0
      },
      "text/plain": [
       "Validation: |                                                                                    | 0/? [00:00<…"
      ]
     },
     "metadata": {},
     "output_type": "display_data"
    },
    {
     "name": "stderr",
     "output_type": "stream",
     "text": [
      "`Trainer.fit` stopped: `max_epochs=100` reached.\n"
     ]
    },
    {
     "data": {
      "application/vnd.jupyter.widget-view+json": {
       "model_id": "1b7cd3ef229c4db08019084fdc317e08",
       "version_major": 2,
       "version_minor": 0
      },
      "text/plain": [
       "Testing: |                                                                                       | 0/? [00:00<…"
      ]
     },
     "metadata": {},
     "output_type": "display_data"
    },
    {
     "data": {
      "text/html": [
       "<pre style=\"white-space:pre;overflow-x:auto;line-height:normal;font-family:Menlo,'DejaVu Sans Mono',consolas,'Courier New',monospace\">┏━━━━━━━━━━━━━━━━━━━━━━━━━━━┳━━━━━━━━━━━━━━━━━━━━━━━━━━━┓\n",
       "┃<span style=\"font-weight: bold\">        Test metric        </span>┃<span style=\"font-weight: bold\">       DataLoader 0        </span>┃\n",
       "┡━━━━━━━━━━━━━━━━━━━━━━━━━━━╇━━━━━━━━━━━━━━━━━━━━━━━━━━━┩\n",
       "│<span style=\"color: #008080; text-decoration-color: #008080\">         test_loss         </span>│<span style=\"color: #800080; text-decoration-color: #800080\">    0.06951913982629776    </span>│\n",
       "│<span style=\"color: #008080; text-decoration-color: #008080\">         test_mae          </span>│<span style=\"color: #800080; text-decoration-color: #800080\">    0.17518849670886993    </span>│\n",
       "│<span style=\"color: #008080; text-decoration-color: #008080\">          test_r2          </span>│<span style=\"color: #800080; text-decoration-color: #800080\">    0.9291965961456299     </span>│\n",
       "└───────────────────────────┴───────────────────────────┘\n",
       "</pre>\n"
      ],
      "text/plain": [
       "┏━━━━━━━━━━━━━━━━━━━━━━━━━━━┳━━━━━━━━━━━━━━━━━━━━━━━━━━━┓\n",
       "┃\u001b[1m \u001b[0m\u001b[1m       Test metric       \u001b[0m\u001b[1m \u001b[0m┃\u001b[1m \u001b[0m\u001b[1m      DataLoader 0       \u001b[0m\u001b[1m \u001b[0m┃\n",
       "┡━━━━━━━━━━━━━━━━━━━━━━━━━━━╇━━━━━━━━━━━━━━━━━━━━━━━━━━━┩\n",
       "│\u001b[36m \u001b[0m\u001b[36m        test_loss        \u001b[0m\u001b[36m \u001b[0m│\u001b[35m \u001b[0m\u001b[35m   0.06951913982629776   \u001b[0m\u001b[35m \u001b[0m│\n",
       "│\u001b[36m \u001b[0m\u001b[36m        test_mae         \u001b[0m\u001b[36m \u001b[0m│\u001b[35m \u001b[0m\u001b[35m   0.17518849670886993   \u001b[0m\u001b[35m \u001b[0m│\n",
       "│\u001b[36m \u001b[0m\u001b[36m         test_r2         \u001b[0m\u001b[36m \u001b[0m│\u001b[35m \u001b[0m\u001b[35m   0.9291965961456299    \u001b[0m\u001b[35m \u001b[0m│\n",
       "└───────────────────────────┴───────────────────────────┘\n"
      ]
     },
     "metadata": {},
     "output_type": "display_data"
    },
    {
     "data": {
      "text/plain": [
       "[{'test_loss': 0.06951913982629776,\n",
       "  'test_r2': 0.9291965961456299,\n",
       "  'test_mae': 0.17518849670886993}]"
      ]
     },
     "execution_count": 154,
     "metadata": {},
     "output_type": "execute_result"
    }
   ],
   "source": [
    "vix_optimizer = RMSprop(vixlstm.parameters(),\n",
    "                         lr=0.001)\n",
    "\n",
    "vix_module = SimpleModule.regression(vixlstm,\n",
    "                                      optimizer=vix_optimizer,\n",
    "                                      metrics={'r2':R2Score(),\n",
    "                                              'mae':MeanAbsoluteError()})\n",
    "\n",
    "vix_trainer = Trainer(deterministic=True ,\n",
    "                       max_epochs=100,\n",
    "                       callbacks=[ErrorTracker()])\n",
    "\n",
    "vix_trainer.fit(vix_module ,\n",
    "                 datamodule=vix_dm)\n",
    "\n",
    "vix_trainer.test(vix_module ,\n",
    "                  datamodule=vix_dm)"
   ]
  },
  {
   "cell_type": "code",
   "execution_count": 157,
   "id": "1fecee47-7af8-477e-9192-2a0ffc19ca64",
   "metadata": {},
   "outputs": [],
   "source": [
    "X_test = torch.tensor(X_rnn[~train].astype(np.float32))\n",
    "\n",
    "y_pred = vixlstm(X_test)"
   ]
  },
  {
   "cell_type": "code",
   "execution_count": 159,
   "id": "30f99830-1e61-444e-b7fc-278b112c1248",
   "metadata": {},
   "outputs": [
    {
     "data": {
      "text/plain": [
       "<matplotlib.legend.Legend at 0x230704b80d0>"
      ]
     },
     "execution_count": 159,
     "metadata": {},
     "output_type": "execute_result"
    },
    {
     "data": {
      "image/png": "[encoded data removed]",
      "text/plain": [
       "<Figure size 800x600 with 1 Axes>"
      ]
     },
     "metadata": {},
     "output_type": "display_data"
    }
   ],
   "source": [
    "fig, ax = plt.subplots(1, 1, figsize=(8, 6))\n",
    "idx = X[~train].index\n",
    "Y_test = Y[~train]\n",
    "y_pred = y_pred.detach().numpy()\n",
    "#print(idx)\n",
    "ax.plot(idx,y_pred,label = 'Prediction')\n",
    "ax.plot(idx,Y_test,label = 'Actual')\n",
    "ax.set_ylabel(\"Date\")\n",
    "ax.set_xlabel(\"log(vix)\")\n",
    "ax.legend()"
   ]
  },
  {
   "cell_type": "markdown",
   "id": "0321206d-b944-4885-9045-985de7360346",
   "metadata": {},
   "source": [
    "### Analysis"
   ]
  },
  {
   "cell_type": "markdown",
   "id": "5a8add19-e0ff-430d-aeaf-f141d2227d6e",
   "metadata": {},
   "source": [
    "The models were trained using data from 2010-2020 and tested on data from 2020-2024.\n",
    "Using a RNN and LSTM Model, we achieved a $R^2$ score of 0.9269 and 0.9292 on the test data respectively. Hence. both models were able to explain at least 90% of the variation in the data. We also observed that the LSTM slightly outperform the RNN model."
   ]
  },
  {
   "cell_type": "markdown",
   "id": "01c2cde6-f356-4e53-8808-c203d9db04ff",
   "metadata": {},
   "source": [
    "## SARIMAX Models"
   ]
  },
  {
   "cell_type": "code",
   "execution_count": 165,
   "id": "b4e4d638-5d49-49fa-bab3-2f7e2a1bb837",
   "metadata": {
    "scrolled": true
   },
   "outputs": [
    {
     "data": {
      "text/plain": [
       "((3592, 15), (3592,), (3592,))"
      ]
     },
     "execution_count": 165,
     "metadata": {},
     "output_type": "execute_result"
    }
   ],
   "source": [
    "X.shape, Y.shape, train #mask"
   ]
  },
  {
   "cell_type": "code",
   "execution_count": 174,
   "id": "b6dc3fad-9649-4c23-a47e-c1d19817ae5a",
   "metadata": {},
   "outputs": [
    {
     "data": {
      "text/plain": [
       "<Figure size 600x400 with 0 Axes>"
      ]
     },
     "metadata": {},
     "output_type": "display_data"
    },
    {
     "data": {
      "image/png": "[encoded data removed]",
      "text/plain": [
       "<Figure size 640x480 with 1 Axes>"
      ]
     },
     "metadata": {},
     "output_type": "display_data"
    }
   ],
   "source": [
    "from statsmodels.graphics.tsaplots import plot_acf, plot_pacf\n",
    "plt.figure(figsize=(6, 4))\n",
    "plot_acf(Y, lags=30)  # Specify the number of lags for the ACF plot\n",
    "plt.ylim(0,1.1)\n",
    "plt.title('Autocorrelation Function (ACF)')\n",
    "plt.xlabel('Lag')\n",
    "plt.ylabel('Autocorrelation')\n",
    "plt.show()"
   ]
  },
  {
   "cell_type": "code",
   "execution_count": 175,
   "id": "8b0b2c49-1878-4d6f-8e8d-3eae9706e625",
   "metadata": {},
   "outputs": [
    {
     "data": {
      "text/plain": [
       "<Figure size 600x400 with 0 Axes>"
      ]
     },
     "metadata": {},
     "output_type": "display_data"
    },
    {
     "data": {
      "image/png": "[encoded data removed]",
      "text/plain": [
       "<Figure size 640x480 with 1 Axes>"
      ]
     },
     "metadata": {},
     "output_type": "display_data"
    }
   ],
   "source": [
    "plt.figure(figsize=(6, 4))\n",
    "plot_pacf(Y, lags=30)  # Specify the number of lags for the ACF plot\n",
    "plt.ylim(0,1.1)\n",
    "plt.title('Partial Autocorrelation Function (PACF)')\n",
    "plt.xlabel('Lag')\n",
    "plt.ylabel('Partial Autocorrelation')\n",
    "plt.show()"
   ]
  },
  {
   "cell_type": "markdown",
   "id": "332e3ced-c8c9-410a-8cab-06e4e956be28",
   "metadata": {},
   "source": [
    "One way to identify whether the order of the ARMA model to use the PACF and ACF plot and identify the cutoffs within the plot. <br>\n",
    "Hence, we can try to model log VIX values using AR(2) model to begin with since the cutoff is obvious in the PACF plot."
   ]
  },
  {
   "cell_type": "markdown",
   "id": "207a8b09-0640-4d5a-8834-a4a17f415061",
   "metadata": {},
   "source": [
    "### ARMA(2,0) Model"
   ]
  },
  {
   "cell_type": "code",
   "execution_count": 214,
   "id": "1987bcda-8ca3-41f5-9c13-a339483d0617",
   "metadata": {},
   "outputs": [],
   "source": [
    "from statsmodels.tsa.arima.model import ARIMA\n",
    "from statsmodels.stats.diagnostic import acorr_ljungbox\n",
    "from sklearn.metrics import mean_squared_error\n",
    "from sklearn.metrics import r2_score"
   ]
  },
  {
   "cell_type": "code",
   "execution_count": 213,
   "id": "2abb340b-25e4-4583-84bc-2c46c95f4a87",
   "metadata": {},
   "outputs": [
    {
     "name": "stderr",
     "output_type": "stream",
     "text": [
      "C:\\Users\\ojw_m\\anaconda3\\New\\envs\\machine-learning-book\\lib\\site-packages\\statsmodels\\tsa\\base\\tsa_model.py:473: ValueWarning: A date index has been provided, but it has no associated frequency information and so will be ignored when e.g. forecasting.\n",
      "  self._init_dates(dates, freq)\n",
      "C:\\Users\\ojw_m\\anaconda3\\New\\envs\\machine-learning-book\\lib\\site-packages\\statsmodels\\tsa\\base\\tsa_model.py:473: ValueWarning: A date index has been provided, but it has no associated frequency information and so will be ignored when e.g. forecasting.\n",
      "  self._init_dates(dates, freq)\n",
      "C:\\Users\\ojw_m\\anaconda3\\New\\envs\\machine-learning-book\\lib\\site-packages\\statsmodels\\tsa\\base\\tsa_model.py:473: ValueWarning: A date index has been provided, but it has no associated frequency information and so will be ignored when e.g. forecasting.\n",
      "  self._init_dates(dates, freq)\n"
     ]
    },
    {
     "data": {
      "text/html": [
       "<table class=\"simpletable\">\n",
       "<caption>SARIMAX Results</caption>\n",
       "<tr>\n",
       "  <th>Dep. Variable:</th>        <td>VIX_Log</td>     <th>  No. Observations:  </th>   <td>3592</td>  \n",
       "</tr>\n",
       "<tr>\n",
       "  <th>Model:</th>            <td>ARIMA(2, 0, 0)</td>  <th>  Log Likelihood     </th>  <td>118.933</td>\n",
       "</tr>\n",
       "<tr>\n",
       "  <th>Date:</th>            <td>Mon, 22 Apr 2024</td> <th>  AIC                </th> <td>-229.867</td>\n",
       "</tr>\n",
       "<tr>\n",
       "  <th>Time:</th>                <td>13:38:39</td>     <th>  BIC                </th> <td>-205.121</td>\n",
       "</tr>\n",
       "<tr>\n",
       "  <th>Sample:</th>                  <td>0</td>        <th>  HQIC               </th> <td>-221.047</td>\n",
       "</tr>\n",
       "<tr>\n",
       "  <th></th>                      <td> - 3592</td>     <th>                     </th>     <td> </td>   \n",
       "</tr>\n",
       "<tr>\n",
       "  <th>Covariance Type:</th>        <td>opg</td>       <th>                     </th>     <td> </td>   \n",
       "</tr>\n",
       "</table>\n",
       "<table class=\"simpletable\">\n",
       "<tr>\n",
       "     <td></td>       <th>coef</th>     <th>std err</th>      <th>z</th>      <th>P>|z|</th>  <th>[0.025</th>    <th>0.975]</th>  \n",
       "</tr>\n",
       "<tr>\n",
       "  <th>const</th>  <td>   -0.0003</td> <td>    0.172</td> <td>   -0.002</td> <td> 0.999</td> <td>   -0.338</td> <td>    0.337</td>\n",
       "</tr>\n",
       "<tr>\n",
       "  <th>ar.L1</th>  <td>    0.9097</td> <td>    0.011</td> <td>   79.272</td> <td> 0.000</td> <td>    0.887</td> <td>    0.932</td>\n",
       "</tr>\n",
       "<tr>\n",
       "  <th>ar.L2</th>  <td>    0.0643</td> <td>    0.011</td> <td>    5.666</td> <td> 0.000</td> <td>    0.042</td> <td>    0.087</td>\n",
       "</tr>\n",
       "<tr>\n",
       "  <th>sigma2</th> <td>    0.0548</td> <td>    0.001</td> <td>   79.345</td> <td> 0.000</td> <td>    0.053</td> <td>    0.056</td>\n",
       "</tr>\n",
       "</table>\n",
       "<table class=\"simpletable\">\n",
       "<tr>\n",
       "  <th>Ljung-Box (L1) (Q):</th>     <td>0.01</td> <th>  Jarque-Bera (JB):  </th> <td>8296.67</td>\n",
       "</tr>\n",
       "<tr>\n",
       "  <th>Prob(Q):</th>                <td>0.92</td> <th>  Prob(JB):          </th>  <td>0.00</td>  \n",
       "</tr>\n",
       "<tr>\n",
       "  <th>Heteroskedasticity (H):</th> <td>1.11</td> <th>  Skew:              </th>  <td>1.31</td>  \n",
       "</tr>\n",
       "<tr>\n",
       "  <th>Prob(H) (two-sided):</th>    <td>0.07</td> <th>  Kurtosis:          </th>  <td>9.97</td>  \n",
       "</tr>\n",
       "</table><br/><br/>Warnings:<br/>[1] Covariance matrix calculated using the outer product of gradients (complex-step)."
      ],
      "text/latex": [
       "\\begin{center}\n",
       "\\begin{tabular}{lclc}\n",
       "\\toprule\n",
       "\\textbf{Dep. Variable:}          &     VIX\\_Log     & \\textbf{  No. Observations:  } &    3592     \\\\\n",
       "\\textbf{Model:}                  &  ARIMA(2, 0, 0)  & \\textbf{  Log Likelihood     } &  118.933    \\\\\n",
       "\\textbf{Date:}                   & Mon, 22 Apr 2024 & \\textbf{  AIC                } &  -229.867   \\\\\n",
       "\\textbf{Time:}                   &     13:38:39     & \\textbf{  BIC                } &  -205.121   \\\\\n",
       "\\textbf{Sample:}                 &        0         & \\textbf{  HQIC               } &  -221.047   \\\\\n",
       "\\textbf{}                        &      - 3592      & \\textbf{                     } &             \\\\\n",
       "\\textbf{Covariance Type:}        &       opg        & \\textbf{                     } &             \\\\\n",
       "\\bottomrule\n",
       "\\end{tabular}\n",
       "\\begin{tabular}{lcccccc}\n",
       "                & \\textbf{coef} & \\textbf{std err} & \\textbf{z} & \\textbf{P$> |$z$|$} & \\textbf{[0.025} & \\textbf{0.975]}  \\\\\n",
       "\\midrule\n",
       "\\textbf{const}  &      -0.0003  &        0.172     &    -0.002  &         0.999        &       -0.338    &        0.337     \\\\\n",
       "\\textbf{ar.L1}  &       0.9097  &        0.011     &    79.272  &         0.000        &        0.887    &        0.932     \\\\\n",
       "\\textbf{ar.L2}  &       0.0643  &        0.011     &     5.666  &         0.000        &        0.042    &        0.087     \\\\\n",
       "\\textbf{sigma2} &       0.0548  &        0.001     &    79.345  &         0.000        &        0.053    &        0.056     \\\\\n",
       "\\bottomrule\n",
       "\\end{tabular}\n",
       "\\begin{tabular}{lclc}\n",
       "\\textbf{Ljung-Box (L1) (Q):}     & 0.01 & \\textbf{  Jarque-Bera (JB):  } & 8296.67  \\\\\n",
       "\\textbf{Prob(Q):}                & 0.92 & \\textbf{  Prob(JB):          } &   0.00   \\\\\n",
       "\\textbf{Heteroskedasticity (H):} & 1.11 & \\textbf{  Skew:              } &   1.31   \\\\\n",
       "\\textbf{Prob(H) (two-sided):}    & 0.07 & \\textbf{  Kurtosis:          } &   9.97   \\\\\n",
       "\\bottomrule\n",
       "\\end{tabular}\n",
       "%\\caption{SARIMAX Results}\n",
       "\\end{center}\n",
       "\n",
       "Warnings: \\newline\n",
       " [1] Covariance matrix calculated using the outer product of gradients (complex-step)."
      ],
      "text/plain": [
       "<class 'statsmodels.iolib.summary.Summary'>\n",
       "\"\"\"\n",
       "                               SARIMAX Results                                \n",
       "==============================================================================\n",
       "Dep. Variable:                VIX_Log   No. Observations:                 3592\n",
       "Model:                 ARIMA(2, 0, 0)   Log Likelihood                 118.933\n",
       "Date:                Mon, 22 Apr 2024   AIC                           -229.867\n",
       "Time:                        13:38:39   BIC                           -205.121\n",
       "Sample:                             0   HQIC                          -221.047\n",
       "                               - 3592                                         \n",
       "Covariance Type:                  opg                                         \n",
       "==============================================================================\n",
       "                 coef    std err          z      P>|z|      [0.025      0.975]\n",
       "------------------------------------------------------------------------------\n",
       "const         -0.0003      0.172     -0.002      0.999      -0.338       0.337\n",
       "ar.L1          0.9097      0.011     79.272      0.000       0.887       0.932\n",
       "ar.L2          0.0643      0.011      5.666      0.000       0.042       0.087\n",
       "sigma2         0.0548      0.001     79.345      0.000       0.053       0.056\n",
       "===================================================================================\n",
       "Ljung-Box (L1) (Q):                   0.01   Jarque-Bera (JB):              8296.67\n",
       "Prob(Q):                              0.92   Prob(JB):                         0.00\n",
       "Heteroskedasticity (H):               1.11   Skew:                             1.31\n",
       "Prob(H) (two-sided):                  0.07   Kurtosis:                         9.97\n",
       "===================================================================================\n",
       "\n",
       "Warnings:\n",
       "[1] Covariance matrix calculated using the outer product of gradients (complex-step).\n",
       "\"\"\""
      ]
     },
     "execution_count": 213,
     "metadata": {},
     "output_type": "execute_result"
    }
   ],
   "source": [
    "#Y_train = Y[train]\n",
    "\n",
    "model = ARIMA(Y, order=(2, 0, 0))\n",
    "AR2 = model.fit()\n",
    "AR2.summary()"
   ]
  },
  {
   "cell_type": "code",
   "execution_count": 215,
   "id": "729b41b2-423a-4f5e-bb6e-cca599451e8d",
   "metadata": {},
   "outputs": [
    {
     "name": "stdout",
     "output_type": "stream",
     "text": [
      "R-squared (R2) value: 0.9453131896027515\n"
     ]
    }
   ],
   "source": [
    "R2 = r2_score(Y,AR2.fittedvalues)\n",
    "print(\"R-squared (R2) value:\", R2)"
   ]
  },
  {
   "cell_type": "code",
   "execution_count": 223,
   "id": "6760b0fb-930d-4dc0-9b51-791c7ed043b6",
   "metadata": {},
   "outputs": [
    {
     "data": {
      "image/png": "[encoded data removed]",
      "text/plain": [
       "<Figure size 800x600 with 1 Axes>"
      ]
     },
     "metadata": {},
     "output_type": "display_data"
    }
   ],
   "source": [
    "figure(figsize=(8, 6))\n",
    "Y_test = Y[~train]\n",
    "#print(Y_test)\n",
    "plt.plot(Y_test, label='Observed')\n",
    "plt.plot(idx, AR2.fittedvalues[~train],label='Fitted AR2')\n",
    "plt.legend()\n",
    "plt.show()"
   ]
  },
  {
   "cell_type": "markdown",
   "id": "103d01b4-e601-4c57-a56c-49c838d06d15",
   "metadata": {},
   "source": [
    "### ARMAX(2,0) Model with Log Return of SP500"
   ]
  },
  {
   "cell_type": "code",
   "execution_count": 211,
   "id": "cfa7fe30-7278-436f-90a9-9048af4ee19f",
   "metadata": {
    "scrolled": true
   },
   "outputs": [
    {
     "name": "stderr",
     "output_type": "stream",
     "text": [
      "C:\\Users\\ojw_m\\anaconda3\\New\\envs\\machine-learning-book\\lib\\site-packages\\statsmodels\\tsa\\base\\tsa_model.py:473: ValueWarning: A date index has been provided, but it has no associated frequency information and so will be ignored when e.g. forecasting.\n",
      "  self._init_dates(dates, freq)\n",
      "C:\\Users\\ojw_m\\anaconda3\\New\\envs\\machine-learning-book\\lib\\site-packages\\statsmodels\\tsa\\base\\tsa_model.py:473: ValueWarning: A date index has been provided, but it has no associated frequency information and so will be ignored when e.g. forecasting.\n",
      "  self._init_dates(dates, freq)\n",
      "C:\\Users\\ojw_m\\anaconda3\\New\\envs\\machine-learning-book\\lib\\site-packages\\statsmodels\\tsa\\base\\tsa_model.py:473: ValueWarning: A date index has been provided, but it has no associated frequency information and so will be ignored when e.g. forecasting.\n",
      "  self._init_dates(dates, freq)\n"
     ]
    },
    {
     "data": {
      "text/html": [
       "<table class=\"simpletable\">\n",
       "<caption>SARIMAX Results</caption>\n",
       "<tr>\n",
       "  <th>Dep. Variable:</th>        <td>VIX_Log</td>     <th>  No. Observations:  </th>   <td>3592</td>   \n",
       "</tr>\n",
       "<tr>\n",
       "  <th>Model:</th>            <td>ARIMA(2, 0, 0)</td>  <th>  Log Likelihood     </th>  <td>816.421</td> \n",
       "</tr>\n",
       "<tr>\n",
       "  <th>Date:</th>            <td>Mon, 22 Apr 2024</td> <th>  AIC                </th> <td>-1622.841</td>\n",
       "</tr>\n",
       "<tr>\n",
       "  <th>Time:</th>                <td>13:33:59</td>     <th>  BIC                </th> <td>-1591.909</td>\n",
       "</tr>\n",
       "<tr>\n",
       "  <th>Sample:</th>                  <td>0</td>        <th>  HQIC               </th> <td>-1611.816</td>\n",
       "</tr>\n",
       "<tr>\n",
       "  <th></th>                      <td> - 3592</td>     <th>                     </th>     <td> </td>    \n",
       "</tr>\n",
       "<tr>\n",
       "  <th>Covariance Type:</th>        <td>opg</td>       <th>                     </th>     <td> </td>    \n",
       "</tr>\n",
       "</table>\n",
       "<table class=\"simpletable\">\n",
       "<tr>\n",
       "        <td></td>          <th>coef</th>     <th>std err</th>      <th>z</th>      <th>P>|z|</th>  <th>[0.025</th>    <th>0.975]</th>  \n",
       "</tr>\n",
       "<tr>\n",
       "  <th>const</th>        <td>    0.0052</td> <td>    0.171</td> <td>    0.030</td> <td> 0.976</td> <td>   -0.330</td> <td>    0.340</td>\n",
       "</tr>\n",
       "<tr>\n",
       "  <th>GSPC_Log_Ret</th> <td>   -8.0056</td> <td>    0.083</td> <td>  -96.644</td> <td> 0.000</td> <td>   -8.168</td> <td>   -7.843</td>\n",
       "</tr>\n",
       "<tr>\n",
       "  <th>ar.L1</th>        <td>    1.0820</td> <td>    0.011</td> <td>  102.857</td> <td> 0.000</td> <td>    1.061</td> <td>    1.103</td>\n",
       "</tr>\n",
       "<tr>\n",
       "  <th>ar.L2</th>        <td>   -0.1035</td> <td>    0.011</td> <td>   -9.766</td> <td> 0.000</td> <td>   -0.124</td> <td>   -0.083</td>\n",
       "</tr>\n",
       "<tr>\n",
       "  <th>sigma2</th>       <td>    0.0371</td> <td>    0.000</td> <td>   87.111</td> <td> 0.000</td> <td>    0.036</td> <td>    0.038</td>\n",
       "</tr>\n",
       "</table>\n",
       "<table class=\"simpletable\">\n",
       "<tr>\n",
       "  <th>Ljung-Box (L1) (Q):</th>     <td>0.07</td> <th>  Jarque-Bera (JB):  </th> <td>11217.88</td>\n",
       "</tr>\n",
       "<tr>\n",
       "  <th>Prob(Q):</th>                <td>0.79</td> <th>  Prob(JB):          </th>   <td>0.00</td>  \n",
       "</tr>\n",
       "<tr>\n",
       "  <th>Heteroskedasticity (H):</th> <td>1.34</td> <th>  Skew:              </th>   <td>1.23</td>  \n",
       "</tr>\n",
       "<tr>\n",
       "  <th>Prob(H) (two-sided):</th>    <td>0.00</td> <th>  Kurtosis:          </th>   <td>11.30</td> \n",
       "</tr>\n",
       "</table><br/><br/>Warnings:<br/>[1] Covariance matrix calculated using the outer product of gradients (complex-step)."
      ],
      "text/latex": [
       "\\begin{center}\n",
       "\\begin{tabular}{lclc}\n",
       "\\toprule\n",
       "\\textbf{Dep. Variable:}          &     VIX\\_Log     & \\textbf{  No. Observations:  } &    3592     \\\\\n",
       "\\textbf{Model:}                  &  ARIMA(2, 0, 0)  & \\textbf{  Log Likelihood     } &  816.421    \\\\\n",
       "\\textbf{Date:}                   & Mon, 22 Apr 2024 & \\textbf{  AIC                } & -1622.841   \\\\\n",
       "\\textbf{Time:}                   &     13:33:59     & \\textbf{  BIC                } & -1591.909   \\\\\n",
       "\\textbf{Sample:}                 &        0         & \\textbf{  HQIC               } & -1611.816   \\\\\n",
       "\\textbf{}                        &      - 3592      & \\textbf{                     } &             \\\\\n",
       "\\textbf{Covariance Type:}        &       opg        & \\textbf{                     } &             \\\\\n",
       "\\bottomrule\n",
       "\\end{tabular}\n",
       "\\begin{tabular}{lcccccc}\n",
       "                        & \\textbf{coef} & \\textbf{std err} & \\textbf{z} & \\textbf{P$> |$z$|$} & \\textbf{[0.025} & \\textbf{0.975]}  \\\\\n",
       "\\midrule\n",
       "\\textbf{const}          &       0.0052  &        0.171     &     0.030  &         0.976        &       -0.330    &        0.340     \\\\\n",
       "\\textbf{GSPC\\_Log\\_Ret} &      -8.0056  &        0.083     &   -96.644  &         0.000        &       -8.168    &       -7.843     \\\\\n",
       "\\textbf{ar.L1}          &       1.0820  &        0.011     &   102.857  &         0.000        &        1.061    &        1.103     \\\\\n",
       "\\textbf{ar.L2}          &      -0.1035  &        0.011     &    -9.766  &         0.000        &       -0.124    &       -0.083     \\\\\n",
       "\\textbf{sigma2}         &       0.0371  &        0.000     &    87.111  &         0.000        &        0.036    &        0.038     \\\\\n",
       "\\bottomrule\n",
       "\\end{tabular}\n",
       "\\begin{tabular}{lclc}\n",
       "\\textbf{Ljung-Box (L1) (Q):}     & 0.07 & \\textbf{  Jarque-Bera (JB):  } & 11217.88  \\\\\n",
       "\\textbf{Prob(Q):}                & 0.79 & \\textbf{  Prob(JB):          } &   0.00    \\\\\n",
       "\\textbf{Heteroskedasticity (H):} & 1.34 & \\textbf{  Skew:              } &   1.23    \\\\\n",
       "\\textbf{Prob(H) (two-sided):}    & 0.00 & \\textbf{  Kurtosis:          } &  11.30    \\\\\n",
       "\\bottomrule\n",
       "\\end{tabular}\n",
       "%\\caption{SARIMAX Results}\n",
       "\\end{center}\n",
       "\n",
       "Warnings: \\newline\n",
       " [1] Covariance matrix calculated using the outer product of gradients (complex-step)."
      ],
      "text/plain": [
       "<class 'statsmodels.iolib.summary.Summary'>\n",
       "\"\"\"\n",
       "                               SARIMAX Results                                \n",
       "==============================================================================\n",
       "Dep. Variable:                VIX_Log   No. Observations:                 3592\n",
       "Model:                 ARIMA(2, 0, 0)   Log Likelihood                 816.421\n",
       "Date:                Mon, 22 Apr 2024   AIC                          -1622.841\n",
       "Time:                        13:33:59   BIC                          -1591.909\n",
       "Sample:                             0   HQIC                         -1611.816\n",
       "                               - 3592                                         \n",
       "Covariance Type:                  opg                                         \n",
       "================================================================================\n",
       "                   coef    std err          z      P>|z|      [0.025      0.975]\n",
       "--------------------------------------------------------------------------------\n",
       "const            0.0052      0.171      0.030      0.976      -0.330       0.340\n",
       "GSPC_Log_Ret    -8.0056      0.083    -96.644      0.000      -8.168      -7.843\n",
       "ar.L1            1.0820      0.011    102.857      0.000       1.061       1.103\n",
       "ar.L2           -0.1035      0.011     -9.766      0.000      -0.124      -0.083\n",
       "sigma2           0.0371      0.000     87.111      0.000       0.036       0.038\n",
       "===================================================================================\n",
       "Ljung-Box (L1) (Q):                   0.07   Jarque-Bera (JB):             11217.88\n",
       "Prob(Q):                              0.79   Prob(JB):                         0.00\n",
       "Heteroskedasticity (H):               1.34   Skew:                             1.23\n",
       "Prob(H) (two-sided):                  0.00   Kurtosis:                        11.30\n",
       "===================================================================================\n",
       "\n",
       "Warnings:\n",
       "[1] Covariance matrix calculated using the outer product of gradients (complex-step).\n",
       "\"\"\""
      ]
     },
     "execution_count": 211,
     "metadata": {},
     "output_type": "execute_result"
    }
   ],
   "source": [
    "exog = df_new['GSPC_Log_Ret'][5:]\n",
    "\n",
    "model1 = ARIMA(Y, order=(2, 0, 0),exog = exog)\n",
    "ARMAX = model1.fit()\n",
    "ARMAX.summary()"
   ]
  },
  {
   "cell_type": "code",
   "execution_count": 216,
   "id": "fa76685b-adb1-45b6-b979-b8d726391855",
   "metadata": {},
   "outputs": [
    {
     "name": "stdout",
     "output_type": "stream",
     "text": [
      "R-squared (R2) value: 0.9629192792412803\n"
     ]
    }
   ],
   "source": [
    "R2 = r2_score(Y,ARMAX.fittedvalues)\n",
    "print(\"R-squared (R2) value:\", R2)"
   ]
  },
  {
   "cell_type": "code",
   "execution_count": 224,
   "id": "1f6a72d6-5946-44fe-a212-123d1e459eb2",
   "metadata": {},
   "outputs": [
    {
     "data": {
      "image/png": "[encoded data removed]",
      "text/plain": [
       "<Figure size 800x600 with 1 Axes>"
      ]
     },
     "metadata": {},
     "output_type": "display_data"
    }
   ],
   "source": [
    "figure(figsize=(8, 6))\n",
    "Y_test = Y[~train]\n",
    "#print(Y_test)\n",
    "plt.plot(Y_test, label='Observed')\n",
    "plt.plot(idx, ARMAX.fittedvalues[~train],label='Fitted ARMAX')\n",
    "plt.legend()\n",
    "plt.show()"
   ]
  },
  {
   "cell_type": "code",
   "execution_count": 238,
   "id": "6301bf70-fc01-4016-a18b-56a7024e6e83",
   "metadata": {},
   "outputs": [],
   "source": [
    "result = pd.DataFrame(\n",
    "    {'RNN L1':[0.927],\n",
    "     'LSTM L1':[0.929],\n",
    "     'AR2': [0.945],\n",
    "     'ARMAX': [0.963]},index = ['r2 score']\n",
    ")"
   ]
  },
  {
   "cell_type": "code",
   "execution_count": 239,
   "id": "b1303395-4c5d-4565-a40a-3fdca514cafc",
   "metadata": {},
   "outputs": [
    {
     "data": {
      "text/html": [
       "<div>\n",
       "<style scoped>\n",
       "    .dataframe tbody tr th:only-of-type {\n",
       "        vertical-align: middle;\n",
       "    }\n",
       "\n",
       "    .dataframe tbody tr th {\n",
       "        vertical-align: top;\n",
       "    }\n",
       "\n",
       "    .dataframe thead th {\n",
       "        text-align: right;\n",
       "    }\n",
       "</style>\n",
       "<table border=\"1\" class=\"dataframe\">\n",
       "  <thead>\n",
       "    <tr style=\"text-align: right;\">\n",
       "      <th></th>\n",
       "      <th>RNN L1</th>\n",
       "      <th>LSTM L1</th>\n",
       "      <th>AR2</th>\n",
       "      <th>ARMAX</th>\n",
       "    </tr>\n",
       "  </thead>\n",
       "  <tbody>\n",
       "    <tr>\n",
       "      <th>r2 score</th>\n",
       "      <td>0.927</td>\n",
       "      <td>0.929</td>\n",
       "      <td>0.945</td>\n",
       "      <td>0.963</td>\n",
       "    </tr>\n",
       "  </tbody>\n",
       "</table>\n",
       "</div>"
      ],
      "text/plain": [
       "          RNN L1  LSTM L1    AR2  ARMAX\n",
       "r2 score   0.927    0.929  0.945  0.963"
      ]
     },
     "execution_count": 239,
     "metadata": {},
     "output_type": "execute_result"
    }
   ],
   "source": [
    "result"
   ]
  },
  {
   "cell_type": "markdown",
   "id": "a60c3308-7657-47e5-9ced-e57a8db375e8",
   "metadata": {},
   "source": [
    "# Conclusion"
   ]
  },
  {
   "cell_type": "markdown",
   "id": "940f060a-84fa-4742-b22f-2cf5659f9491",
   "metadata": {},
   "source": [
    "Using R2 score as the baseline score we observe that by fitting time series models such as SARMIX tend to achieve better goodness of fit compared to RNN/LSTM. One reason is that it is easier to optimize the SARMIX model by adjusting the lags since it is simplier to use.However, forecasting using time series models will be worse as compared to NN models."
   ]
  },
  {
   "cell_type": "code",
   "execution_count": null,
   "id": "c1f1c066-71fd-4770-aaa6-739e7655b848",
   "metadata": {},
   "outputs": [],
   "source": []
  }
 ],
 "metadata": {
  "kernelspec": {
   "display_name": "Python 3 (ipykernel)",
   "language": "python",
   "name": "python3"
  },
  "language_info": {
   "codemirror_mode": {
    "name": "ipython",
    "version": 3
   },
   "file_extension": ".py",
   "mimetype": "text/x-python",
   "name": "python",
   "nbconvert_exporter": "python",
   "pygments_lexer": "ipython3",
   "version": "3.9.18"
  }
 },
 "nbformat": 4,
 "nbformat_minor": 5
}
