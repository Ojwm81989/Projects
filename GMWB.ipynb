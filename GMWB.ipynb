{
 "cells": [
  {
   "cell_type": "markdown",
   "id": "7307fc79-eff9-40c8-8cc7-067343c865de",
   "metadata": {},
   "source": [
    "# Monte Carlo simulations for Guaranteed Minimum Withdrawal Benefits for both discrete and continuous withdrawals"
   ]
  },
  {
   "cell_type": "markdown",
   "id": "aa9399b6-0d84-456f-a78f-4c148ca8c853",
   "metadata": {},
   "source": [
    "A guaranteed minimum withdrawal benefit (GMWB) is a type of rider or contract attached to some annuity insurance policies. It guarantees the policyholder a steady stream of annual withdrawals via the return of all premiums paid into the contract, regardless of an investment's performance, through a series of annual withdrawals. Usually, these types of riders ar designed to protesct policyholders during market downturns."
   ]
  },
  {
   "cell_type": "markdown",
   "id": "90b7f16d-1b17-4d3c-ba67-5318a75d4d76",
   "metadata": {},
   "source": [
    "The Geometric Brownian Motion can be used to model the investment account balance, $W_t$, under the risk-neutral measure and it can be expressed as:\n",
    "\\begin{align}\n",
    "dW(t) = [(r - \\alpha) W(t) - G]dt + \\sigma W(t) dB(t)\n",
    "\\end{align}.\n",
    "\n",
    "where $r$ is the risk free interest rate,\n",
    "$G$ is the continuous withdrawal rate, $\\alpha$ is the continuous insurance charge,\n",
    "$\\sigma $ is the volatility of the Investment Account and $B(t)$ is the brownian motion under R-N measure.\n",
    "\n",
    "The GMWB product $V(t,W)$ can be expressed as:\n",
    "\\begin{align}\n",
    "V(t,W(t)) = E_t[(\\int_{t}^{T} Ge^{-r(x-t)} \\, dx) + e^{-r(T-t)} W^{+}(T)] \n",
    "\\end{align}.\n",
    "\n",
    "Since this product is to be sold to investors and the all amount recieved is invested into the investment account $W_0$, $V(0,W_0) = W_0$. Hence, assuming we fix $G$ and $r$, we will determine the insurance charge $\\alpha$ s.t $V(0,W_0) = W_0$ is true. This can be done using monte carlo method as well as using a root finding such as Brent's method. "
   ]
  },
  {
   "cell_type": "code",
   "execution_count": 5,
   "id": "8288f6d3-0076-4612-bf3f-eb9544c90318",
   "metadata": {},
   "outputs": [],
   "source": [
    "import numpy as np\n",
    "import pandas as pd\n",
    "import random\n",
    "from scipy import stats, optimize\n",
    "import matplotlib.pyplot as plt\n",
    "import math"
   ]
  },
  {
   "cell_type": "markdown",
   "id": "1094b72d-e009-4b64-ac62-4d410f8cdfaa",
   "metadata": {},
   "source": [
    "## GMWB with continuous withdrawal"
   ]
  },
  {
   "cell_type": "markdown",
   "id": "aa462f05-87c3-438e-bd1e-fd1b39822abf",
   "metadata": {},
   "source": [
    "### Plain Monte Carlo Implementation"
   ]
  },
  {
   "cell_type": "code",
   "execution_count": 31,
   "id": "202a9afe-5494-4dc3-8605-77365b20b68c",
   "metadata": {},
   "outputs": [],
   "source": [
    "def MC_GMWB(w0,g,r,vol,T,alpha,n,m):\n",
    "    dt = T/m\n",
    "    sum = 0; hsquare = 0  \n",
    "    for i in range(n):\n",
    "        wt = w0\n",
    "        z = np.random.normal(0,1,m)\n",
    "        for j in range(m):\n",
    "            #Euler scheme\n",
    "            wt += ((r-alpha)*wt - g) * dt + vol* wt* math.sqrt(dt) * z[j]\n",
    "            \n",
    "        h = max(wt,0)\n",
    "        sum += h\n",
    "        hsquare += h**2\n",
    "\n",
    "    \n",
    "    v0: float = g*(1-math.exp(-r*T))/r + math.exp(-r*T) * sum / n\n",
    "    SE = math.sqrt((hsquare/n - (sum/n) **2) / n)\n",
    "    return round(v0,4), round(SE,4)"
   ]
  },
  {
   "cell_type": "code",
   "execution_count": 77,
   "id": "6a420c03-d918-469f-878d-cc0d1552c805",
   "metadata": {
    "scrolled": true
   },
   "outputs": [
    {
     "data": {
      "text/plain": [
       "(97.5412, 0.0)"
      ]
     },
     "execution_count": 77,
     "metadata": {},
     "output_type": "execute_result"
    }
   ],
   "source": [
    "w0 = 100; r = 0.05;\n",
    "g = 100; vol = 0.05;\n",
    "alpha = 1 #Insurance charge rate\n",
    "n = 10000; m = 100; T = 1\n",
    "\n",
    "MC_GMWB(w0,g,r,vol,T,alpha,n,m)"
   ]
  },
  {
   "cell_type": "markdown",
   "id": "c8cb889d-af07-4ca2-bf7a-f104a93faf58",
   "metadata": {},
   "source": [
    "### Root Searcher (Brent's Method)"
   ]
  },
  {
   "cell_type": "code",
   "execution_count": 78,
   "id": "ddb87311-0060-4bae-a35c-85639b1d86d5",
   "metadata": {},
   "outputs": [
    {
     "name": "stdout",
     "output_type": "stream",
     "text": [
      "Insurance Charge =  0.007525067340635382\n"
     ]
    }
   ],
   "source": [
    "w0 = 100; r = 0.05;\n",
    "g = 100; vol = 0.05;\n",
    "n = 10000; m = 100; T = 1\n",
    "\n",
    "a = 1; b = 0.00001\n",
    "\n",
    "f = lambda alpha: (MC_GMWB(w0,g,r,vol,T,alpha,n,m)[0] - w0)\n",
    "alpha = optimize.brentq(f, a, b)\n",
    "print(\"Insurance Charge = \", alpha)"
   ]
  },
  {
   "cell_type": "markdown",
   "id": "55eefb95-3126-4c4b-9a6d-131834921111",
   "metadata": {},
   "source": [
    "We will now rerun the monte carlo using the fair value $\\alpha$ to see the average as well as the standard error. We will also increase the no. of simulations"
   ]
  },
  {
   "cell_type": "code",
   "execution_count": 80,
   "id": "0c2c3037-d375-43f7-95ff-aa6f4ca9ccb9",
   "metadata": {},
   "outputs": [
    {
     "name": "stdout",
     "output_type": "stream",
     "text": [
      "The price of GMWB is 100.0037 and the Standard Error is 0.0249\n"
     ]
    }
   ],
   "source": [
    "w0 = 100; r = 0.05;\n",
    "g = 100; vol = 0.05;\n",
    "n = 10000; m = 1000; T = 1\n",
    "\n",
    "avg,se = MC_GMWB(w0,g,r,vol,T,alpha,n,m)\n",
    "print(f'The price of GMWB is {avg} and the Standard Error is {se}')"
   ]
  },
  {
   "cell_type": "markdown",
   "id": "e0154dad-c71e-422b-a10a-e1ebf0680d77",
   "metadata": {},
   "source": [
    "### Monte Carlo Implementation using Antithetic Sampling"
   ]
  },
  {
   "cell_type": "markdown",
   "id": "991369cd-4bad-46a2-845e-fb7b0cb783c5",
   "metadata": {},
   "source": [
    "We will now try to lower our estimate error by using Antithetic Sampling. Antithetic Sampling is a variance reduction technique that helps to improve the monte carlo estimate by using 2 samples that are negatively correlated. In this example, we will use $Z_1$ and $Z_2 = -Z_1$, where $Z_1$ are generated from standard normal distribution, $Z$ ~ $N(0,1)$."
   ]
  },
  {
   "cell_type": "code",
   "execution_count": 20,
   "id": "92f86ae8-f66e-49c1-abd3-3fd710bdc864",
   "metadata": {},
   "outputs": [],
   "source": [
    "def MC_GMWB_Anti(w0,g,r,vol,T,alpha,n,m):\n",
    "    dt = T/m\n",
    "    sum = 0; hsquare = 0  \n",
    "    for i in range(n):\n",
    "        wt1,wt2 = w0,w0\n",
    "        z = np.random.normal(0,1,m)\n",
    "        for j in range(m):\n",
    "            #Euler scheme\n",
    "            wt1 += ((r-alpha)*wt1 - g) * dt + vol* wt1* math.sqrt(dt) * z[j]\n",
    "            wt2 += ((r-alpha)*wt2 - g) * dt + vol* wt2* math.sqrt(dt) * -z[j]\n",
    "        h = max(wt1,0) + max(wt2,0)\n",
    "        sum += h/2\n",
    "        hsquare += (h/2)**2\n",
    "\n",
    "    \n",
    "    v0: float = g*(1-math.exp(-r*T))/r + math.exp(-r*T) * sum / n\n",
    "    SE = math.sqrt((hsquare/n - (sum/n) **2) / n)\n",
    "    return round(v0,4), round(SE,4)"
   ]
  },
  {
   "cell_type": "code",
   "execution_count": 21,
   "id": "58197bce-1245-4fe5-be22-13023992d6fd",
   "metadata": {},
   "outputs": [
    {
     "name": "stdout",
     "output_type": "stream",
     "text": [
      "The price of GMWB is 99.9917 and the Standard Error is 0.0073\n"
     ]
    }
   ],
   "source": [
    "w0 = 100; r = 0.05;\n",
    "g = 100; vol = 0.05;\n",
    "n = 10000; m = 1000; T = 1\n",
    "alpha = 0.007525067340635382\n",
    "avg,se = MC_GMWB_Anti(w0,g,r,vol,T,alpha,n,m)\n",
    "print(f'The price of GMWB is {avg} and the Standard Error is {se}')"
   ]
  },
  {
   "cell_type": "markdown",
   "id": "5c5f8d0e-ed32-40e9-8cee-6a86c3a70f12",
   "metadata": {},
   "source": [
    "### Monte Carlo Implementation using Control Variate"
   ]
  },
  {
   "cell_type": "markdown",
   "id": "6cf30fcc-ccc4-4d41-85b3-b039f892f463",
   "metadata": {},
   "source": [
    "By introducing a control variate that is positvely correlated with the investment account balance, $W_t$, we can reduce the error of our monte carlo estimate. The choice of the control variate is crucial since highly postive correlation is desired. The equation below shows the importance of high correlation: <br>\n",
    "$Var(\\hat{\\mu}) = (1 - \\beta^2)\\sigma_x^2/n$, where $\\beta$ is the correlation coefficient between X (Intial Variate) and Y (Control variate).\n",
    "\n",
    "For this example, we can use the virtual final account balance as the control variate where there is no withdrawal, $W'_t$. We know that at t =T, $W_T$ and $W'_T$ will be postively correlated since they share the same brownian motion. <br>\n",
    "$dW(t) = [(r - \\alpha) W(t) - G]dt + \\sigma W(t) dB(t) - (1)$ <br>\n",
    "$dW'(t) = (r - \\alpha) W'(t)dt + \\sigma W'(t) dB(t) - (2)$<br>\n",
    "$E_t(W'_T) = W'_t e^{(r-\\alpha)(T-t)}$, the expected value of $W'_T$ will just be the forward value.\n",
    "\n",
    "\n",
    "\n",
    "The GMWB product $V(t,W,W')$ can be expressed as:\n",
    "\\begin{align}\n",
    "V(t,W(t)) = E_t[(\\int_{t}^{T} Ge^{-r(x-t)} \\, dx) + e^{-r(T-t)} ( W^{+}(T) - b(W'_T - \\bar{W'_T}))] \n",
    "\\end{align}."
   ]
  },
  {
   "cell_type": "code",
   "execution_count": 28,
   "id": "ca64fb2a-1d98-408d-8ac6-fbf7f6730839",
   "metadata": {},
   "outputs": [],
   "source": [
    "def MC_GMWB_CV(w0,g,r,vol,T,alpha,n,m):\n",
    "    dt = T/m\n",
    "    sum = 0; hsquare = 0\n",
    "    X_T = np.zeros(n); Y_T = np.zeros(n)\n",
    "    for i in range(n):\n",
    "        wt = w0; wt_prime = w0\n",
    "        z = np.random.normal(0,1,m)\n",
    "        for j in range(m):\n",
    "            #Euler scheme\n",
    "            wt_prime += (r-alpha)*wt_prime * dt + vol* wt_prime* math.sqrt(dt) * z[j]\n",
    "            wt += ((r-alpha)*wt - g) * dt + vol* wt* math.sqrt(dt) * z[j]\n",
    "        X_T[i] = max(wt,0)  \n",
    "        Y_T[i] = wt_prime\n",
    "        \n",
    "    b_star = np.sum((X_T - np.mean(X_T)) * (Y_T - np.mean(Y_T))) / np.sum((Y_T - np.mean(Y_T))**2)\n",
    "    #print(b_star)\n",
    "    #print(np.mean(Y_T))\n",
    "    #print(w0 * np.exp((r-alpha)*T))\n",
    "    \n",
    "    H = X_T - b_star * (Y_T - w0 * np.exp((r-alpha)*T))\n",
    "    \n",
    "    est = np.sum(H)/n\n",
    "    v0: float = g*(1-math.exp(-r*T))/r + math.exp(-r*T) * est\n",
    "    SE = np.sqrt((np.sum(H**2) - n*est**2) /n/(n-1))\n",
    "    return round(v0,4), round(SE,4)"
   ]
  },
  {
   "cell_type": "code",
   "execution_count": 29,
   "id": "5747f6ca-5c5a-44dc-89e8-3af1a4d25bf2",
   "metadata": {},
   "outputs": [
    {
     "name": "stdout",
     "output_type": "stream",
     "text": [
      "The price of GMWB is 100.011 and the Standard Error is 0.0137\n"
     ]
    }
   ],
   "source": [
    "w0 = 100; r = 0.05;\n",
    "g = 100; vol = 0.05;\n",
    "n = 10000; m = 1000; T = 1\n",
    "alpha = 0.007525067340635382\n",
    "\n",
    "avg,se = MC_GMWB_CV(w0,g,r,vol,T,alpha,n,m)\n",
    "print(f'The price of GMWB is {avg} and the Standard Error is {se}')"
   ]
  },
  {
   "cell_type": "markdown",
   "id": "a598e709-3503-48e0-aa79-76d9a0a05c77",
   "metadata": {},
   "source": [
    "### Comparing Plain MC vs Antithetic MC vs Control Variate MC"
   ]
  },
  {
   "cell_type": "code",
   "execution_count": 32,
   "id": "f2cf3b43-84ae-4b5c-a1ee-375600998dc0",
   "metadata": {},
   "outputs": [],
   "source": [
    "w0 = 100; r = 0.05;\n",
    "g = 100; vol = 0.05;\n",
    "n = 10000; m = 1000; T = 1;\n",
    "alpha = 0.007525067340635382;\n",
    "df = pd.DataFrame([MC_GMWB(w0,g,r,vol,T,alpha,n,m),MC_GMWB_Anti(w0,g,r,vol,T,alpha,n,m),MC_GMWB_CV(w0,g,r,vol,T,alpha,n,m)]\n",
    "                  , columns = ['Price','SE'])"
   ]
  },
  {
   "cell_type": "code",
   "execution_count": 36,
   "id": "4d996a83-1d2e-4c2c-9439-31ee0c074f94",
   "metadata": {},
   "outputs": [
    {
     "data": {
      "text/plain": [
       "Text(0.5, 1.0, 'Price of options using different MC methods using 10,000 samples')"
      ]
     },
     "execution_count": 36,
     "metadata": {},
     "output_type": "execute_result"
    },
    {
     "data": {
      "image/png": "[encoded data removed]",
      "text/plain": [
       "<Figure size 640x480 with 1 Axes>"
      ]
     },
     "metadata": {},
     "output_type": "display_data"
    }
   ],
   "source": [
    "#plt.figure(figsize=(8,6))\n",
    "plt.barh(y=range(len(df)), width=df['Price'], xerr=df['SE'],capsize = 5,height = 0.5)\n",
    "plt.yticks(range(len(df)), ['Plain MC','Antithetic MC', 'Control MC'],fontsize = 10)\n",
    "plt.xlim(99.8,100.2)\n",
    "plt.title('Price of options using different MC methods using 10,000 samples')"
   ]
  },
  {
   "cell_type": "markdown",
   "id": "25f38631-728e-41ad-b9ac-1aaa2210f723",
   "metadata": {},
   "source": [
    "Based on the horizontal bar plot above, we obeserve that variance reduction methods like Anthithetic sampling and Control variate reduced the standard error of the estimate as compared to plain monte carlo. Anithetic MC seems to have the lowest SE followed by Control MC and finally Plain MC.\n",
    "\n",
    "One reason Anithetic MC having lower SE than Control MC is that the choice of Control Variate here might not be the most ideal. The virtual account balance $W'_t$ is definitely positively correlated to $W_t$ but the lack of withdawal $G$ affects the level of correlation between the 2 random variables."
   ]
  },
  {
   "cell_type": "markdown",
   "id": "bfff4bd2-c1f2-4856-bf04-6a1d11c7de2e",
   "metadata": {},
   "source": [
    "## GWMB with discrete withdrawal"
   ]
  },
  {
   "cell_type": "markdown",
   "id": "64965071-8cb8-4705-be33-8afe2d7b1212",
   "metadata": {},
   "source": [
    "Instead of continuous withdrawals, we can also price the GWMB using discerete withdrawals.\n",
    "\n",
    "The Geometric Brownian Motion can be used to model the investment account balance, $W_t$, under the risk-neutral measure and it can be expressed as:\n",
    "\n",
    "\\begin{align}\n",
    "At\\ t\\neq t_i,\\ dW(t) = (r - \\alpha) W(t)dt + \\sigma W(t) dB(t) \\\\\n",
    "At\\ t = t_i,\\ W(t_i+) = (W(t_i-) - G_i)^{+}\n",
    "\\end{align}.\n",
    "\n",
    "The GMWB product with discrete withdrawals $V(t,W)$ can be expressed as:\n",
    "\\begin{align}\n",
    "V(t,W(t)) = E_t[e^{-r(T-t)} W^{+}(T)] + \\sum_{i=1}^{I} G_i e^{-rt_i}\n",
    "\\end{align}.\n",
    "\n",
    "where $t_i,i = 1,2,..,I$ are the discrete withdrawal times and $t_I = T$\n",
    "\n",
    "Similar to the continuous case, we will find the fair value insurance charge $\\alpha$ such that $V(0,W_0;\\alpha) = W_0$"
   ]
  },
  {
   "cell_type": "code",
   "execution_count": 89,
   "id": "90e5993a-8e01-42c8-8642-8c17d8bfcee8",
   "metadata": {},
   "outputs": [],
   "source": [
    "def MC_GMWB_Discrete(w0,g,r,vol,T,alpha,nPath,fixings):\n",
    "    \n",
    "    #fixings are the monitoring dates\n",
    "    fixings = [0] + fixings\n",
    "    dts = [fixings[i+1] - fixings[i] for i in range(len(fixings) - 1)]\n",
    "    \n",
    "    #print(dts)\n",
    "    #print(fixings)\n",
    "    #print(g)\n",
    "    \n",
    "    sum, hsquare = 0,0\n",
    "    for i in range(nPath):\n",
    "        x = math.log(w0)\n",
    "        for j in range(len(dts)):\n",
    "            z = np.random.normal(0,1)\n",
    "            x += (r-alpha - vol**2/2) * dts[j] + vol * math.sqrt(dts[j]) * z \n",
    "            w = max(math.exp(x) - g[j],0)\n",
    "            if w == 0:\n",
    "                break\n",
    "            else:\n",
    "                x = math.log(w)\n",
    "        \n",
    "        if w == 0:\n",
    "            h = 0\n",
    "        else:\n",
    "            h = math.exp(-r*T) * math.exp(x)\n",
    "        \n",
    "        sum += h\n",
    "        hsquare += h**2\n",
    "\n",
    "    t = 0\n",
    "    for z in range(len(dts)):\n",
    "        t += g[z] * math.exp(-r*fixings[z+1])\n",
    "        \n",
    "        \n",
    "    pv = sum / nPath\n",
    "    se = math.sqrt((hsquare/nPath - (pv)**2)/nPath)\n",
    "    return t + pv,se"
   ]
  },
  {
   "cell_type": "code",
   "execution_count": 94,
   "id": "cfeb75d3-3325-412e-8fff-2bd7d91e1e44",
   "metadata": {},
   "outputs": [],
   "source": [
    "g = [10,10,10,10,10]\n",
    "fixings = [1,2,3,4,5]\n",
    "\n",
    "alpha = 0.001; #Insurance charge rate\n",
    "w0 = 50; r = 0.05; vol = 0.2;\n",
    "nPath = 10000; T = 1"
   ]
  },
  {
   "cell_type": "code",
   "execution_count": 95,
   "id": "873231b0-a69c-4e64-9e9d-9a63c7954611",
   "metadata": {},
   "outputs": [
    {
     "data": {
      "text/plain": [
       "(54.48312226168227, 0.17019759940352394)"
      ]
     },
     "execution_count": 95,
     "metadata": {},
     "output_type": "execute_result"
    }
   ],
   "source": [
    "MC_GMWB_Discrete(w0,g,r,vol,T,alpha,n,fixings)"
   ]
  },
  {
   "cell_type": "code",
   "execution_count": 96,
   "id": "34ade5d4-179f-437d-b851-2379fffd9e05",
   "metadata": {},
   "outputs": [
    {
     "name": "stdout",
     "output_type": "stream",
     "text": [
      "Insurance Charge =  0.036154407426559634\n"
     ]
    }
   ],
   "source": [
    "a = 0.1; b = 0.001\n",
    "\n",
    "f = lambda alpha: (MC_GMWB_Discrete(w0,g,r,vol,T,alpha,n,fixings)[0] - w0)\n",
    "alpha = optimize.brentq(f, a, b)\n",
    "print(\"Insurance Charge = \", alpha)"
   ]
  },
  {
   "cell_type": "markdown",
   "id": "ce262b82-92fb-4892-a6af-2c126bf4d463",
   "metadata": {},
   "source": [
    "# Conclusion"
   ]
  },
  {
   "cell_type": "markdown",
   "id": "bcc2b4c5-0480-4193-91c1-26479f72fd9e",
   "metadata": {},
   "source": [
    "In both the discrete and continuous withdrawal scenarios, we are able to use monte carlo and a root searcher to get the fair value of insurance charge of the GMWB product. However, in this example, we assumed volatility and interest rates to be constant. However, we can further extend this model by using stochastic interest rates and volatility.\n",
    "\n",
    "If we further allow for dynamic withdrawals where $G$ is not fixed at present time, the problem becomes more complicated since we now need to find the optimal withdrawal strategy that maximises the value of the GMWB product. In such cases, using Monte-Carlo simulations becomes near impossible and a PDE approach is required.\n"
   ]
  }
 ],
 "metadata": {
  "kernelspec": {
   "display_name": "Python 3 (ipykernel)",
   "language": "python",
   "name": "python3"
  },
  "language_info": {
   "codemirror_mode": {
    "name": "ipython",
    "version": 3
   },
   "file_extension": ".py",
   "mimetype": "text/x-python",
   "name": "python",
   "nbconvert_exporter": "python",
   "pygments_lexer": "ipython3",
   "version": "3.9.18"
  }
 },
 "nbformat": 4,
 "nbformat_minor": 5
}
