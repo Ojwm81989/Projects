{
 "cells": [
  {
   "cell_type": "markdown",
   "id": "7307fc79-eff9-40c8-8cc7-067343c865de",
   "metadata": {},
   "source": [
    "# Monte Carlo simulations for Guaranteed Minimum Withdrawal Benefits for both discrete and continuous withdrawals"
   ]
  },
  {
   "cell_type": "markdown",
   "id": "aa9399b6-0d84-456f-a78f-4c148ca8c853",
   "metadata": {},
   "source": [
    "A guaranteed minimum withdrawal benefit (GMWB) is a type of rider or contract attached to some annuity insurance policies. It guarantees the policyholder a steady stream of annual withdrawals via the return of all premiums paid into the contract, regardless of an investment's performance, through a series of annual withdrawals. Usually, these types of riders ar designed to protesct policyholders during market downturns."
   ]
  },
  {
   "cell_type": "markdown",
   "id": "90b7f16d-1b17-4d3c-ba67-5318a75d4d76",
   "metadata": {},
   "source": [
    "The Geometric Brownian Motion can be used to model the investment account balance, $W_t$, under the risk-neutral measure and it can be expressed as:\n",
    "\\begin{align}\n",
    "dW(t) = [(r - \\alpha) W(t) - G]dt + \\sigma W(t) dB(t)\n",
    "\\end{align}.\n",
    "\n",
    "where $r$ is the risk free interest rate,\n",
    "$G$ is the continuous withdrawal rate, $\\alpha$ is the continuous insurance charge,\n",
    "$\\sigma $ is the volatility of the Investment Account and $B(t)$ is the brownian motion under R-N measure.\n",
    "\n",
    "The GMWB product $V(t,W)$ can be expressed as:\n",
    "\\begin{align}\n",
    "V(t,W(t)) = E_t[(\\int_{t}^{T} Ge^{-r(x-t)} \\, dx) + e^{-r(T-t)} W^{+}(T)] \n",
    "\\end{align}.\n",
    "\n",
    "Since this product is to be sold to investors and the all amount recieved is invested into the investment account $W_0$, $V(0,W_0) = W_0$. Hence, assuming we fix $G$ and $r$, we will determine the insurance charge $\\alpha$ s.t $V(0,W_0) = W_0$ is true. This can be done using monte carlo method as well as using a root finding such as Brent's method. "
   ]
  },
  {
   "cell_type": "code",
   "execution_count": 14,
   "id": "8288f6d3-0076-4612-bf3f-eb9544c90318",
   "metadata": {},
   "outputs": [],
   "source": [
    "import numpy as np\n",
    "import pandas as pd\n",
    "import random\n",
    "from scipy import stats, optimize\n",
    "import matplotlib.pyplot as plt\n",
    "import math"
   ]
  },
  {
   "cell_type": "markdown",
   "id": "1094b72d-e009-4b64-ac62-4d410f8cdfaa",
   "metadata": {},
   "source": [
    "## GMWB with continuous withdrawal"
   ]
  },
  {
   "cell_type": "markdown",
   "id": "aa462f05-87c3-438e-bd1e-fd1b39822abf",
   "metadata": {},
   "source": [
    "### Plain Monte Carlo Implementation"
   ]
  },
  {
   "cell_type": "code",
   "execution_count": 10,
   "id": "202a9afe-5494-4dc3-8605-77365b20b68c",
   "metadata": {},
   "outputs": [],
   "source": [
    "def MC_GMWB(w0,g,r,vol,T,alpha,n,m):\n",
    "    dt = T/m\n",
    "    sum = 0; hsquare = 0  \n",
    "    for i in range(n):\n",
    "        wt = w0\n",
    "        z = np.random.normal(0,1,m)\n",
    "        for j in range(m):\n",
    "            #Euler scheme\n",
    "            wt += ((r-alpha)*wt - g) * dt + vol* wt* math.sqrt(dt) * z[j]\n",
    "            \n",
    "        h = max(wt,0)\n",
    "        sum += h\n",
    "        hsquare += h**2\n",
    "\n",
    "    \n",
    "    v0: float = g*(1-math.exp(-r*T))/r + math.exp(-r*T) * sum / n\n",
    "    SE = math.sqrt((hsquare/n - (sum/n) **2) / n)\n",
    "    return round(v0,4), round(SE,4)"
   ]
  },
  {
   "cell_type": "code",
   "execution_count": 77,
   "id": "6a420c03-d918-469f-878d-cc0d1552c805",
   "metadata": {
    "scrolled": true
   },
   "outputs": [
    {
     "data": {
      "text/plain": [
       "(97.5412, 0.0)"
      ]
     },
     "execution_count": 77,
     "metadata": {},
     "output_type": "execute_result"
    }
   ],
   "source": [
    "w0 = 100; r = 0.05;\n",
    "g = 100; vol = 0.05;\n",
    "alpha = 1 #Insurance charge rate\n",
    "n = 10000; m = 100; T = 1\n",
    "\n",
    "MC_GMWB(w0,g,r,vol,T,alpha,n,m)"
   ]
  },
  {
   "cell_type": "markdown",
   "id": "c8cb889d-af07-4ca2-bf7a-f104a93faf58",
   "metadata": {},
   "source": [
    "### Root Searcher (Brent's Method)"
   ]
  },
  {
   "cell_type": "code",
   "execution_count": 78,
   "id": "ddb87311-0060-4bae-a35c-85639b1d86d5",
   "metadata": {},
   "outputs": [
    {
     "name": "stdout",
     "output_type": "stream",
     "text": [
      "Insurance Charge =  0.007525067340635382\n"
     ]
    }
   ],
   "source": [
    "w0 = 100; r = 0.05;\n",
    "g = 100; vol = 0.05;\n",
    "n = 10000; m = 100; T = 1\n",
    "\n",
    "a = 1; b = 0.00001\n",
    "\n",
    "f = lambda alpha: (MC_GMWB(w0,g,r,vol,T,alpha,n,m)[0] - w0)\n",
    "alpha = optimize.brentq(f, a, b)\n",
    "print(\"Insurance Charge = \", alpha)"
   ]
  },
  {
   "cell_type": "markdown",
   "id": "55eefb95-3126-4c4b-9a6d-131834921111",
   "metadata": {},
   "source": [
    "We will now rerun the monte carlo using the fair value $\\alpha$ to see the average as well as the standard error. We will also increase the no. of simulations"
   ]
  },
  {
   "cell_type": "code",
   "execution_count": 80,
   "id": "0c2c3037-d375-43f7-95ff-aa6f4ca9ccb9",
   "metadata": {},
   "outputs": [
    {
     "name": "stdout",
     "output_type": "stream",
     "text": [
      "The price of GMWB is 100.0037 and the Standard Error is 0.0249\n"
     ]
    }
   ],
   "source": [
    "w0 = 100; r = 0.05;\n",
    "g = 100; vol = 0.05;\n",
    "n = 10000; m = 1000; T = 1\n",
    "\n",
    "avg,se = MC_GMWB(w0,g,r,vol,T,alpha,n,m)\n",
    "print(f'The price of GMWB is {avg} and the Standard Error is {se}')"
   ]
  },
  {
   "cell_type": "markdown",
   "id": "e0154dad-c71e-422b-a10a-e1ebf0680d77",
   "metadata": {},
   "source": [
    "### Monte Carlo Implementation using Antithetic Sampling"
   ]
  },
  {
   "cell_type": "markdown",
   "id": "991369cd-4bad-46a2-845e-fb7b0cb783c5",
   "metadata": {},
   "source": [
    "We will now try to lower our estimate error by using Antithetic Sampling. Antithetic Sampling is a variance reduction technique that helps to improve the monte carlo estimate by using 2 samples that are negatively correlated. In this example, we will use $Z_1$ and $Z_2 = -Z_1$, where $Z_1$ are generated from standard normal distribution, $Z$ ~ $N(0,1)$."
   ]
  },
  {
   "cell_type": "code",
   "execution_count": 85,
   "id": "92f86ae8-f66e-49c1-abd3-3fd710bdc864",
   "metadata": {},
   "outputs": [],
   "source": [
    "def MC_GMWB_Anti(w0,g,r,vol,T,alpha,n,m):\n",
    "    dt = T/m\n",
    "    sum = 0; hsquare = 0  \n",
    "    for i in range(n):\n",
    "        wt1,wt2 = w0,w0\n",
    "        z = np.random.normal(0,1,m)\n",
    "        for j in range(m):\n",
    "            #Euler scheme\n",
    "            wt1 += ((r-alpha)*wt1 - g) * dt + vol* wt1* math.sqrt(dt) * z[j]\n",
    "            wt2 += ((r-alpha)*wt2 - g) * dt + vol* wt2* math.sqrt(dt) * -z[j]\n",
    "        h = max(wt1,0) + max(wt2,0)\n",
    "        sum += h/2\n",
    "        hsquare += (h/2)**2\n",
    "\n",
    "    \n",
    "    v0: float = g*(1-math.exp(-r*T))/r + math.exp(-r*T) * sum / n\n",
    "    SE = math.sqrt((hsquare/n - (sum/n) **2) / n)\n",
    "    return round(v0,4), round(SE,4)"
   ]
  },
  {
   "cell_type": "code",
   "execution_count": 86,
   "id": "58197bce-1245-4fe5-be22-13023992d6fd",
   "metadata": {},
   "outputs": [
    {
     "name": "stdout",
     "output_type": "stream",
     "text": [
      "The price of GMWB is 99.9857 and the Standard Error is 0.0071\n"
     ]
    }
   ],
   "source": [
    "w0 = 100; r = 0.05;\n",
    "g = 100; vol = 0.05;\n",
    "n = 10000; m = 1000; T = 1\n",
    "\n",
    "avg,se = MC_GMWB_Anti(w0,g,r,vol,T,alpha,n,m)\n",
    "print(f'The price of GMWB is {avg} and the Standard Error is {se}')"
   ]
  },
  {
   "cell_type": "markdown",
   "id": "bfff4bd2-c1f2-4856-bf04-6a1d11c7de2e",
   "metadata": {},
   "source": [
    "## GWMB with discrete withdrawal"
   ]
  },
  {
   "cell_type": "markdown",
   "id": "64965071-8cb8-4705-be33-8afe2d7b1212",
   "metadata": {},
   "source": [
    "Instead of continuous withdrawals, we can also price the GWMB using discerete withdrawals.\n",
    "\n",
    "The Geometric Brownian Motion can be used to model the investment account balance, $W_t$, under the risk-neutral measure and it can be expressed as:\n",
    "\n",
    "\\begin{align}\n",
    "At\\ t\\neq t_i,\\ dW(t) = (r - \\alpha) W(t)dt + \\sigma W(t) dB(t) \\\\\n",
    "At\\ t = t_i,\\ W(t_i+) = (W(t_i-) - G_i)^{+}\n",
    "\\end{align}.\n",
    "\n",
    "The GMWB product with discrete withdrawals $V(t,W)$ can be expressed as:\n",
    "\\begin{align}\n",
    "V(t,W(t)) = E_t[e^{-r(T-t)} W^{+}(T)] + \\sum_{i=1}^{I} G_i e^{-rt_i}\n",
    "\\end{align}.\n",
    "\n",
    "where $t_i,i = 1,2,..,I$ are the discrete withdrawal times and $t_I = T$\n",
    "\n",
    "Similar to the continuous case, we will find the fair value insurance charge $\\alpha$ such that $V(0,W_0;\\alpha) = W_0$"
   ]
  },
  {
   "cell_type": "code",
   "execution_count": 89,
   "id": "90e5993a-8e01-42c8-8642-8c17d8bfcee8",
   "metadata": {},
   "outputs": [],
   "source": [
    "def MC_GMWB_Discrete(w0,g,r,vol,T,alpha,nPath,fixings):\n",
    "    \n",
    "    #fixings are the monitoring dates\n",
    "    fixings = [0] + fixings\n",
    "    dts = [fixings[i+1] - fixings[i] for i in range(len(fixings) - 1)]\n",
    "    \n",
    "    #print(dts)\n",
    "    #print(fixings)\n",
    "    #print(g)\n",
    "    \n",
    "    sum, hsquare = 0,0\n",
    "    for i in range(nPath):\n",
    "        x = math.log(w0)\n",
    "        for j in range(len(dts)):\n",
    "            z = np.random.normal(0,1)\n",
    "            x += (r-alpha - vol**2/2) * dts[j] + vol * math.sqrt(dts[j]) * z \n",
    "            w = max(math.exp(x) - g[j],0)\n",
    "            if w == 0:\n",
    "                break\n",
    "            else:\n",
    "                x = math.log(w)\n",
    "        \n",
    "        if w == 0:\n",
    "            h = 0\n",
    "        else:\n",
    "            h = math.exp(-r*T) * math.exp(x)\n",
    "        \n",
    "        sum += h\n",
    "        hsquare += h**2\n",
    "\n",
    "    t = 0\n",
    "    for z in range(len(dts)):\n",
    "        t += g[z] * math.exp(-r*fixings[z+1])\n",
    "        \n",
    "        \n",
    "    pv = sum / nPath\n",
    "    se = math.sqrt((hsquare/nPath - (pv)**2)/nPath)\n",
    "    return t + pv,se"
   ]
  },
  {
   "cell_type": "code",
   "execution_count": 90,
   "id": "cfeb75d3-3325-412e-8fff-2bd7d91e1e44",
   "metadata": {},
   "outputs": [],
   "source": [
    "g = [10,10,10,10,10]\n",
    "fixings = [1,2,3,4,5]\n",
    "\n",
    "alpha = 0.001; #Insurance charge rate\n",
    "w0 = 50; r = 0.05; vol = 0.2;\n",
    "nPath = 1000; T = 1"
   ]
  },
  {
   "cell_type": "code",
   "execution_count": 91,
   "id": "873231b0-a69c-4e64-9e9d-9a63c7954611",
   "metadata": {},
   "outputs": [
    {
     "data": {
      "text/plain": [
       "(54.73360150134946, 0.17471544668226197)"
      ]
     },
     "execution_count": 91,
     "metadata": {},
     "output_type": "execute_result"
    }
   ],
   "source": [
    "MC_GMWB_Discrete(w0,g,r,vol,T,alpha,n,fixings)"
   ]
  },
  {
   "cell_type": "code",
   "execution_count": 92,
   "id": "34ade5d4-179f-437d-b851-2379fffd9e05",
   "metadata": {},
   "outputs": [
    {
     "name": "stdout",
     "output_type": "stream",
     "text": [
      "Insurance Charge =  0.035792751021861864\n"
     ]
    }
   ],
   "source": [
    "a = 0.1; b = 0.001\n",
    "\n",
    "f = lambda alpha: (MC_GMWB_Discrete(w0,g,r,vol,T,alpha,n,fixings)[0] - w0)\n",
    "alpha = optimize.brentq(f, a, b)\n",
    "print(\"Insurance Charge = \", alpha)"
   ]
  },
  {
   "cell_type": "markdown",
   "id": "ce262b82-92fb-4892-a6af-2c126bf4d463",
   "metadata": {},
   "source": [
    "# Conclusion"
   ]
  },
  {
   "cell_type": "markdown",
   "id": "bcc2b4c5-0480-4193-91c1-26479f72fd9e",
   "metadata": {},
   "source": [
    "In both the discrete and continuous withdrawal scenarios, we are able to use monte carlo and a root searcher to get the fair value of insurance charge of the GMWB product. However, in this example, we assumed volatility and interest rates to be constant. However, we can further extend this model by using stochastic interest rates and volatility.\n",
    "\n",
    "If we further allow for dynamic withdrawals where $G$ is not fixed at present time, the problem becomes more complicated since we now need to find the optimal withdrawal strategy that maximises the value of the GMWB product. In such cases, using Monte-Carlo simulation becomes impossible and a PDE model is required.\n"
   ]
  }
 ],
 "metadata": {
  "kernelspec": {
   "display_name": "Python 3 (ipykernel)",
   "language": "python",
   "name": "python3"
  },
  "language_info": {
   "codemirror_mode": {
    "name": "ipython",
    "version": 3
   },
   "file_extension": ".py",
   "mimetype": "text/x-python",
   "name": "python",
   "nbconvert_exporter": "python",
   "pygments_lexer": "ipython3",
   "version": "3.9.18"
  }
 },
 "nbformat": 4,
 "nbformat_minor": 5
}
